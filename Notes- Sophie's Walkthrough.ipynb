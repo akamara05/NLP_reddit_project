{
 "cells": [
  {
   "cell_type": "markdown",
   "id": "3f626478",
   "metadata": {},
   "source": [
    "- [ ] import libraries\n",
    "- [ ] read in files. \n",
    "- [ ] columns from both must match \n",
    "- [ ] drop unnamed columns \n",
    "- [ ] import data\n",
    "- [ ] decide which columns to keep\n",
    "- [ ] concat both dfs \n",
    "- [ ] deal with duplicates\n",
    "- [ ] deal with nulls\n",
    "- [ ] word count \n",
    "- [ ] part of speech proportions\n",
    "- [ ] tfidf \n",
    "- [ ] get X and y features\n",
    "- [ ] knn\n",
    "- [ ] logreg\n",
    "- [ ] Random Forest\n",
    "- [ ] Deal with leakages"
   ]
  },
  {
   "cell_type": "markdown",
   "id": "06f7ea0f",
   "metadata": {},
   "source": [
    "EDA once files are in CSV."
   ]
  },
  {
   "cell_type": "code",
   "execution_count": null,
   "id": "7f40877a",
   "metadata": {},
   "outputs": [],
   "source": [
    "#drop the differnce in columns. \n",
    "yoga.drop(set(yoga.columns).difference(pilates.columns))\n",
    "#pilates.drop(set(yoga.columns).difference(pilates.columns))"
   ]
  },
  {
   "cell_type": "code",
   "execution_count": null,
   "id": "9989e90a",
   "metadata": {},
   "outputs": [],
   "source": [
    "#Shows content of one item from that column. \n",
    "yoga.at[1,'column name ']"
   ]
  },
  {
   "cell_type": "code",
   "execution_count": null,
   "id": "d98cf9c4",
   "metadata": {},
   "outputs": [],
   "source": [
    "#yoga.columns\n",
    "# put into a data dictionary (tables)- col name/dtype/description \n",
    "# need created_utc,\n",
    "#full link \n",
    "#id\n",
    "#check the video column\n",
    "#number of comments on post\n",
    "#retrieved on \n",
    "#self text is teh body of the post \n",
    "#subbreddit - IS THE TARGET ( last columns )\n",
    "#title\n",
    "#edited? maybe check for yourself. "
   ]
  },
  {
   "cell_type": "code",
   "execution_count": null,
   "id": "36feac65",
   "metadata": {},
   "outputs": [],
   "source": [
    "#pd.concat([yoga, pilates], copy = False)"
   ]
  },
  {
   "cell_type": "code",
   "execution_count": null,
   "id": "f9ff4fba",
   "metadata": {},
   "outputs": [],
   "source": [
    "df.[duplicated(subset='id')]\n",
    "#df.[duplicated(subset='selftext')]"
   ]
  },
  {
   "cell_type": "code",
   "execution_count": 3,
   "id": "c6445f62",
   "metadata": {},
   "outputs": [
    {
     "ename": "IndentationError",
     "evalue": "unexpected indent (<ipython-input-3-7a5a27fb3af9>, line 3)",
     "output_type": "error",
     "traceback": [
      "\u001b[0;36m  File \u001b[0;32m\"<ipython-input-3-7a5a27fb3af9>\"\u001b[0;36m, line \u001b[0;32m3\u001b[0m\n\u001b[0;31m    '[deleted]': np.nan}, inplace = True)\u001b[0m\n\u001b[0m    ^\u001b[0m\n\u001b[0;31mIndentationError\u001b[0m\u001b[0;31m:\u001b[0m unexpected indent\n"
     ]
    }
   ],
   "source": [
    "#drop removed and deleted posts within selftext. \n",
    "#df.selftet.replace({' [removed]': np.nan,\n",
    "                  #'[deleted]': np.nan}, inplace = True)"
   ]
  },
  {
   "cell_type": "code",
   "execution_count": null,
   "id": "79f0aaf8",
   "metadata": {},
   "outputs": [],
   "source": [
    "#df.drop_duplicates(subset = ['selftext'],\n",
    "                  #keep ='first',\n",
    "                  #inplace = True)"
   ]
  },
  {
   "cell_type": "code",
   "execution_count": null,
   "id": "b96f6a3b",
   "metadata": {},
   "outputs": [],
   "source": [
    "#df.dropna()\n",
    "#no nulls, let's model. "
   ]
  },
  {
   "cell_type": "code",
   "execution_count": null,
   "id": "27303975",
   "metadata": {},
   "outputs": [],
   "source": [
    "\n",
    "#merge title and self text \n",
    "#df['test'] =df.title + ' ' +df.selfttext\n",
    "#add a word count colum like in the lab. "
   ]
  },
  {
   "cell_type": "code",
   "execution_count": null,
   "id": "24d6bcb0",
   "metadata": {},
   "outputs": [],
   "source": [
    "#set X and y\n",
    "#X = \n",
    "#y = subreddit"
   ]
  },
  {
   "cell_type": "code",
   "execution_count": null,
   "id": "ac557d02",
   "metadata": {},
   "outputs": [],
   "source": [
    "#need to vectorize data, tfidf \n",
    "#tfdif = \n",
    "#tfdif.fit(df.text-the merged text)"
   ]
  },
  {
   "cell_type": "code",
   "execution_count": null,
   "id": "d008b52f",
   "metadata": {},
   "outputs": [],
   "source": [
    "#instantiate logreg, knn and random forest \n",
    "#cross val and other scores "
   ]
  }
 ],
 "metadata": {
  "kernelspec": {
   "display_name": "Python 3",
   "language": "python",
   "name": "python3"
  },
  "language_info": {
   "codemirror_mode": {
    "name": "ipython",
    "version": 3
   },
   "file_extension": ".py",
   "mimetype": "text/x-python",
   "name": "python",
   "nbconvert_exporter": "python",
   "pygments_lexer": "ipython3",
   "version": "3.8.8"
  }
 },
 "nbformat": 4,
 "nbformat_minor": 5
}
