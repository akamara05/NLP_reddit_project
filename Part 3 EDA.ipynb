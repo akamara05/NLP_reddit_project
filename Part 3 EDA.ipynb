{
 "cells": [
  {
   "cell_type": "markdown",
   "id": "e00ef25f",
   "metadata": {},
   "source": [
    "- [ ] Are missing values imputed/handled appropriately?\n",
    "- [ ] Are distributions examined and described?\n",
    "- [ ] Are outliers identified and addressed?\n",
    "- [ ] Are appropriate summary statistics provided?\n",
    "- [ ] Are steps taken during data cleaning and EDA framed appropriately?\n",
    "- [ ] Does the student address whether or not they are likely to be able to answer their problem statement with         the provided data given what they've discovered during EDA?\n"
   ]
  },
  {
   "cell_type": "markdown",
   "id": "c76b3018",
   "metadata": {},
   "source": [
    "__Part 3:__ Exploratory data analysis. The objective for this notebook is to explore the data and generate some insight from it."
   ]
  },
  {
   "cell_type": "markdown",
   "id": "f0cb250a",
   "metadata": {},
   "source": [
    "__Imports__"
   ]
  },
  {
   "cell_type": "code",
   "execution_count": 1,
   "id": "009548e2",
   "metadata": {},
   "outputs": [],
   "source": [
    "import numpy as np\n",
    "import pandas as pd\n",
    "from matplotlib import pyplot as plt\n",
    "import seaborn as sns\n",
    "\n",
    "from sklearn.feature_extraction.text import CountVectorizer"
   ]
  },
  {
   "cell_type": "markdown",
   "id": "05142cc0",
   "metadata": {},
   "source": [
    "Reading in the cleaned data"
   ]
  },
  {
   "cell_type": "code",
   "execution_count": 2,
   "id": "dfb99fb0",
   "metadata": {},
   "outputs": [
    {
     "data": {
      "text/html": [
       "<div>\n",
       "<style scoped>\n",
       "    .dataframe tbody tr th:only-of-type {\n",
       "        vertical-align: middle;\n",
       "    }\n",
       "\n",
       "    .dataframe tbody tr th {\n",
       "        vertical-align: top;\n",
       "    }\n",
       "\n",
       "    .dataframe thead th {\n",
       "        text-align: right;\n",
       "    }\n",
       "</style>\n",
       "<table border=\"1\" class=\"dataframe\">\n",
       "  <thead>\n",
       "    <tr style=\"text-align: right;\">\n",
       "      <th></th>\n",
       "      <th>Unnamed: 0</th>\n",
       "      <th>index</th>\n",
       "      <th>author</th>\n",
       "      <th>created_utc</th>\n",
       "      <th>full_link</th>\n",
       "      <th>id</th>\n",
       "      <th>num_comments</th>\n",
       "      <th>retrieved_on</th>\n",
       "      <th>selftext</th>\n",
       "      <th>subreddit</th>\n",
       "      <th>title</th>\n",
       "      <th>url</th>\n",
       "      <th>posts</th>\n",
       "      <th>word_count</th>\n",
       "    </tr>\n",
       "  </thead>\n",
       "  <tbody>\n",
       "    <tr>\n",
       "      <th>0</th>\n",
       "      <td>1</td>\n",
       "      <td>1</td>\n",
       "      <td>banksnosons</td>\n",
       "      <td>1629570605</td>\n",
       "      <td>https://www.reddit.com/r/legaladvice/comments/...</td>\n",
       "      <td>p8wn7t</td>\n",
       "      <td>3</td>\n",
       "      <td>1629577686</td>\n",
       "      <td>What can I do? My old neighbor witnessed the p...</td>\n",
       "      <td>1</td>\n",
       "      <td>Package delivered to old residence, not being ...</td>\n",
       "      <td>https://www.reddit.com/r/legaladvice/comments/...</td>\n",
       "      <td>package delivered to old residence, not being ...</td>\n",
       "      <td>70</td>\n",
       "    </tr>\n",
       "    <tr>\n",
       "      <th>1</th>\n",
       "      <td>2</td>\n",
       "      <td>2</td>\n",
       "      <td>Hangman_Matt</td>\n",
       "      <td>1629570478</td>\n",
       "      <td>https://www.reddit.com/r/legaladvice/comments/...</td>\n",
       "      <td>p8wlv0</td>\n",
       "      <td>12</td>\n",
       "      <td>1629577576</td>\n",
       "      <td>Does use of obscene language in school fall un...</td>\n",
       "      <td>1</td>\n",
       "      <td>First Ammendment rights and Schools</td>\n",
       "      <td>https://www.reddit.com/r/legaladvice/comments/...</td>\n",
       "      <td>first ammendment rights and schools.does use o...</td>\n",
       "      <td>216</td>\n",
       "    </tr>\n",
       "    <tr>\n",
       "      <th>2</th>\n",
       "      <td>3</td>\n",
       "      <td>3</td>\n",
       "      <td>Throwawaaaaaay526289</td>\n",
       "      <td>1629570313</td>\n",
       "      <td>https://www.reddit.com/r/legaladvice/comments/...</td>\n",
       "      <td>p8wk5r</td>\n",
       "      <td>4</td>\n",
       "      <td>1629577433</td>\n",
       "      <td>Basically what the title says. I've never been...</td>\n",
       "      <td>1</td>\n",
       "      <td>Virginia - If my employer only shows a set amo...</td>\n",
       "      <td>https://www.reddit.com/r/legaladvice/comments/...</td>\n",
       "      <td>virginia   if my employer only shows a set amo...</td>\n",
       "      <td>206</td>\n",
       "    </tr>\n",
       "    <tr>\n",
       "      <th>3</th>\n",
       "      <td>4</td>\n",
       "      <td>4</td>\n",
       "      <td>unholychalice</td>\n",
       "      <td>1629570134</td>\n",
       "      <td>https://www.reddit.com/r/legaladvice/comments/...</td>\n",
       "      <td>p8wi9h</td>\n",
       "      <td>3</td>\n",
       "      <td>1629577281</td>\n",
       "      <td>Can I record with video and audio from my porc...</td>\n",
       "      <td>1</td>\n",
       "      <td>Can I record visual and audio from my front po...</td>\n",
       "      <td>https://www.reddit.com/r/legaladvice/comments/...</td>\n",
       "      <td>can i record visual and audio from my front po...</td>\n",
       "      <td>100</td>\n",
       "    </tr>\n",
       "    <tr>\n",
       "      <th>4</th>\n",
       "      <td>6</td>\n",
       "      <td>6</td>\n",
       "      <td>opsboop</td>\n",
       "      <td>1629569971</td>\n",
       "      <td>https://www.reddit.com/r/legaladvice/comments/...</td>\n",
       "      <td>p8wgjm</td>\n",
       "      <td>0</td>\n",
       "      <td>1629577141</td>\n",
       "      <td>We live on a quiet, low traffic street with ma...</td>\n",
       "      <td>1</td>\n",
       "      <td>[Va] 7 year old walking up and down the street...</td>\n",
       "      <td>https://www.reddit.com/r/legaladvice/comments/...</td>\n",
       "      <td>[va] 7 year old walking up and down the street...</td>\n",
       "      <td>78</td>\n",
       "    </tr>\n",
       "  </tbody>\n",
       "</table>\n",
       "</div>"
      ],
      "text/plain": [
       "   Unnamed: 0  index                author  created_utc  \\\n",
       "0           1      1           banksnosons   1629570605   \n",
       "1           2      2          Hangman_Matt   1629570478   \n",
       "2           3      3  Throwawaaaaaay526289   1629570313   \n",
       "3           4      4         unholychalice   1629570134   \n",
       "4           6      6               opsboop   1629569971   \n",
       "\n",
       "                                           full_link      id  num_comments  \\\n",
       "0  https://www.reddit.com/r/legaladvice/comments/...  p8wn7t             3   \n",
       "1  https://www.reddit.com/r/legaladvice/comments/...  p8wlv0            12   \n",
       "2  https://www.reddit.com/r/legaladvice/comments/...  p8wk5r             4   \n",
       "3  https://www.reddit.com/r/legaladvice/comments/...  p8wi9h             3   \n",
       "4  https://www.reddit.com/r/legaladvice/comments/...  p8wgjm             0   \n",
       "\n",
       "   retrieved_on                                           selftext  subreddit  \\\n",
       "0    1629577686  What can I do? My old neighbor witnessed the p...          1   \n",
       "1    1629577576  Does use of obscene language in school fall un...          1   \n",
       "2    1629577433  Basically what the title says. I've never been...          1   \n",
       "3    1629577281  Can I record with video and audio from my porc...          1   \n",
       "4    1629577141  We live on a quiet, low traffic street with ma...          1   \n",
       "\n",
       "                                               title  \\\n",
       "0  Package delivered to old residence, not being ...   \n",
       "1                First Ammendment rights and Schools   \n",
       "2  Virginia - If my employer only shows a set amo...   \n",
       "3  Can I record visual and audio from my front po...   \n",
       "4  [Va] 7 year old walking up and down the street...   \n",
       "\n",
       "                                                 url  \\\n",
       "0  https://www.reddit.com/r/legaladvice/comments/...   \n",
       "1  https://www.reddit.com/r/legaladvice/comments/...   \n",
       "2  https://www.reddit.com/r/legaladvice/comments/...   \n",
       "3  https://www.reddit.com/r/legaladvice/comments/...   \n",
       "4  https://www.reddit.com/r/legaladvice/comments/...   \n",
       "\n",
       "                                               posts  word_count  \n",
       "0  package delivered to old residence, not being ...          70  \n",
       "1  first ammendment rights and schools.does use o...         216  \n",
       "2  virginia   if my employer only shows a set amo...         206  \n",
       "3  can i record visual and audio from my front po...         100  \n",
       "4  [va] 7 year old walking up and down the street...          78  "
      ]
     },
     "execution_count": 2,
     "metadata": {},
     "output_type": "execute_result"
    }
   ],
   "source": [
    "reddit= pd.read_csv('./data/cleaned_reddit')\n",
    "reddit.head()"
   ]
  },
  {
   "cell_type": "code",
   "execution_count": 3,
   "id": "03dbd6ab",
   "metadata": {},
   "outputs": [
    {
     "data": {
      "text/plain": [
       "(4642, 14)"
      ]
     },
     "execution_count": 3,
     "metadata": {},
     "output_type": "execute_result"
    }
   ],
   "source": [
    "reddit.shape"
   ]
  },
  {
   "cell_type": "code",
   "execution_count": 4,
   "id": "fbfb4538",
   "metadata": {},
   "outputs": [],
   "source": [
    "reddit.drop('Unnamed: 0', axis=1, inplace = True)"
   ]
  },
  {
   "cell_type": "markdown",
   "id": "123c7410",
   "metadata": {},
   "source": [
    "### Correlations "
   ]
  },
  {
   "cell_type": "code",
   "execution_count": 5,
   "id": "62d35dd1",
   "metadata": {},
   "outputs": [],
   "source": [
    "corr = reddit.corr()"
   ]
  },
  {
   "cell_type": "code",
   "execution_count": 6,
   "id": "68996360",
   "metadata": {},
   "outputs": [
    {
     "data": {
      "text/plain": [
       "index           0.034200\n",
       "created_utc     0.764574\n",
       "num_comments   -0.158912\n",
       "retrieved_on    0.764763\n",
       "subreddit       1.000000\n",
       "word_count      0.208419\n",
       "Name: subreddit, dtype: float64"
      ]
     },
     "execution_count": 6,
     "metadata": {},
     "output_type": "execute_result"
    }
   ],
   "source": [
    "corr['subreddit']  "
   ]
  },
  {
   "cell_type": "code",
   "execution_count": 7,
   "id": "5afd8d96",
   "metadata": {},
   "outputs": [
    {
     "data": {
      "text/plain": [
       "<AxesSubplot:>"
      ]
     },
     "execution_count": 7,
     "metadata": {},
     "output_type": "execute_result"
    },
    {
     "data": {
      "image/png": "[encoded data removed]",
      "text/plain": [
       "<Figure size 432x288 with 2 Axes>"
      ]
     },
     "metadata": {
      "needs_background": "light"
     },
     "output_type": "display_data"
    }
   ],
   "source": [
    "sns.heatmap(corr[['subreddit']], cmap='coolwarm', annot=True)"
   ]
  },
  {
   "cell_type": "markdown",
   "id": "aa58f7ff",
   "metadata": {},
   "source": [
    "### Exploring post lengths and word counts"
   ]
  },
  {
   "cell_type": "markdown",
   "id": "248c1213",
   "metadata": {},
   "source": [
    "First let's look at the distribution of our data. '0' = Casual conversation subreddits and '1' = Legal advice subreddits. "
   ]
  },
  {
   "cell_type": "code",
   "execution_count": 11,
   "id": "3a01f034",
   "metadata": {},
   "outputs": [
    {
     "data": {
      "text/plain": [
       "1    2707\n",
       "0    1935\n",
       "Name: subreddit, dtype: int64"
      ]
     },
     "execution_count": 11,
     "metadata": {},
     "output_type": "execute_result"
    }
   ],
   "source": [
    "reddit.subreddit.value_counts()"
   ]
  },
  {
   "cell_type": "code",
   "execution_count": 26,
   "id": "16ae546f",
   "metadata": {},
   "outputs": [
    {
     "data": {
      "image/png": "[encoded data removed]",
      "text/plain": [
       "<Figure size 432x288 with 1 Axes>"
      ]
     },
     "metadata": {},
     "output_type": "display_data"
    }
   ],
   "source": [
    "sns.countplot(x = reddit['subreddit'], hue = reddit['subreddit'], palette = 'cubehelix');"
   ]
  },
  {
   "cell_type": "markdown",
   "id": "0275b438",
   "metadata": {},
   "source": [
    "Using the 'word_count' column lets take a look at the distribution of posts lengths for each of the subrredit groups. "
   ]
  },
  {
   "cell_type": "code",
   "execution_count": 24,
   "id": "8f970700",
   "metadata": {},
   "outputs": [
    {
     "name": "stderr",
     "output_type": "stream",
     "text": [
      "/Users/aishakamara/anaconda3/lib/python3.8/site-packages/seaborn/distributions.py:2557: FutureWarning: `distplot` is a deprecated function and will be removed in a future version. Please adapt your code to use either `displot` (a figure-level function with similar flexibility) or `histplot` (an axes-level function for histograms).\n",
      "  warnings.warn(msg, FutureWarning)\n",
      "<ipython-input-24-aaf69b67131a>:4: UserWarning: Matplotlib is currently using module://ipykernel.pylab.backend_inline, which is a non-GUI backend, so cannot show the figure.\n",
      "  fig.show()\n"
     ]
    },
    {
     "data": {
      "image/png": "[encoded data removed]",
      "text/plain": [
       "<Figure size 576x360 with 1 Axes>"
      ]
     },
     "metadata": {},
     "output_type": "display_data"
    }
   ],
   "source": [
    "#Distribution of post lengths \n",
    "fig, ax = plt.subplots( figsize = (8,5))\n",
    "sns.distplot(reddit['word_count'])\n",
    "fig.show()"
   ]
  },
  {
   "cell_type": "code",
   "execution_count": 33,
   "id": "eec23136",
   "metadata": {},
   "outputs": [
    {
     "data": {
      "text/plain": [
       "count    4642.000000\n",
       "mean      180.574752\n",
       "std       165.725196\n",
       "min        11.000000\n",
       "25%        79.000000\n",
       "50%       133.000000\n",
       "75%       224.000000\n",
       "max      2482.000000\n",
       "Name: word_count, dtype: float64"
      ]
     },
     "execution_count": 33,
     "metadata": {},
     "output_type": "execute_result"
    }
   ],
   "source": [
    "reddit.word_count.describe()"
   ]
  },
  {
   "cell_type": "code",
   "execution_count": 29,
   "id": "1217469b",
   "metadata": {},
   "outputs": [
    {
     "data": {
      "text/html": [
       "<div>\n",
       "<style scoped>\n",
       "    .dataframe tbody tr th:only-of-type {\n",
       "        vertical-align: middle;\n",
       "    }\n",
       "\n",
       "    .dataframe tbody tr th {\n",
       "        vertical-align: top;\n",
       "    }\n",
       "\n",
       "    .dataframe thead th {\n",
       "        text-align: right;\n",
       "    }\n",
       "</style>\n",
       "<table border=\"1\" class=\"dataframe\">\n",
       "  <thead>\n",
       "    <tr style=\"text-align: right;\">\n",
       "      <th></th>\n",
       "      <th>word_count</th>\n",
       "    </tr>\n",
       "    <tr>\n",
       "      <th>subreddit</th>\n",
       "      <th></th>\n",
       "    </tr>\n",
       "  </thead>\n",
       "  <tbody>\n",
       "    <tr>\n",
       "      <th>0</th>\n",
       "      <td>139.725581</td>\n",
       "    </tr>\n",
       "    <tr>\n",
       "      <th>1</th>\n",
       "      <td>209.774289</td>\n",
       "    </tr>\n",
       "  </tbody>\n",
       "</table>\n",
       "</div>"
      ],
      "text/plain": [
       "           word_count\n",
       "subreddit            \n",
       "0          139.725581\n",
       "1          209.774289"
      ]
     },
     "execution_count": 29,
     "metadata": {},
     "output_type": "execute_result"
    }
   ],
   "source": [
    "reddit.groupby ('subreddit').mean()[['word_count']]"
   ]
  },
  {
   "cell_type": "markdown",
   "id": "5611be46",
   "metadata": {},
   "source": [
    "* When we look at the observations as a whole, the average posts length is 180 words with the shortest post being 11 words long and the longest post being 2482 words long.  \n",
    "* When we look at post lengths based on subreddit type, the average length of posts in the casual conversation subreddit is 140 words and 210 for posts in the legal advice subreddits."
   ]
  },
  {
   "cell_type": "code",
   "execution_count": 35,
   "id": "547260f8",
   "metadata": {},
   "outputs": [
    {
     "data": {
      "text/plain": [
       "4244"
      ]
     },
     "execution_count": 35,
     "metadata": {},
     "output_type": "execute_result"
    }
   ],
   "source": [
    "len(reddit.author.unique())"
   ]
  },
  {
   "cell_type": "markdown",
   "id": "55df4555",
   "metadata": {},
   "source": [
    "Any Outliers? "
   ]
  },
  {
   "cell_type": "code",
   "execution_count": 100,
   "id": "a25f09be",
   "metadata": {},
   "outputs": [
    {
     "data": {
      "text/plain": [
       "<AxesSubplot:xlabel='word_count'>"
      ]
     },
     "execution_count": 100,
     "metadata": {},
     "output_type": "execute_result"
    },
    {
     "data": {
      "image/png": "[encoded data removed]",
      "text/plain": [
       "<Figure size 432x288 with 1 Axes>"
      ]
     },
     "metadata": {},
     "output_type": "display_data"
    }
   ],
   "source": [
    "sns.boxplot(x=reddit['word_count'], color='violet')"
   ]
  },
  {
   "cell_type": "markdown",
   "id": "0e93bd85",
   "metadata": {},
   "source": [
    "From the boxplot displayed above there seems to be quite a number of outliers based on the corpus word count. "
   ]
  },
  {
   "cell_type": "markdown",
   "id": "a69cc5b0",
   "metadata": {},
   "source": [
    "### EDA on Common Words "
   ]
  },
  {
   "cell_type": "markdown",
   "id": "8fc5204c",
   "metadata": {},
   "source": [
    "Now let's take a look at the most common words across both of these subreddits, using several methods and visual aids.\n",
    "\n"
   ]
  },
  {
   "cell_type": "markdown",
   "id": "d31b4fea",
   "metadata": {},
   "source": [
    "__Vectorize the text__\n",
    "* In order to perform EDA on word count data, I'll need to first count-vectorize."
   ]
  },
  {
   "cell_type": "code",
   "execution_count": 84,
   "id": "91ab12ef",
   "metadata": {},
   "outputs": [],
   "source": [
    "#Instantiate\n",
    "cv = CountVectorizer(stop_words = 'english',\n",
    "                    strip_accents='ascii',\n",
    "                    lowercase= True,\n",
    "                    max_features = 100,\n",
    "                    min_df = 0.10,\n",
    "                    max_df = 0.90,\n",
    "                    binary=bool)\n",
    "X= cv.fit_transform(reddit['posts'])"
   ]
  },
  {
   "cell_type": "code",
   "execution_count": 70,
   "id": "4b1cce0d",
   "metadata": {},
   "outputs": [
    {
     "data": {
      "text/plain": [
       "(4642, 57)"
      ]
     },
     "execution_count": 70,
     "metadata": {},
     "output_type": "execute_result"
    }
   ],
   "source": [
    "count_vector.shape"
   ]
  },
  {
   "cell_type": "markdown",
   "id": "84732b01",
   "metadata": {},
   "source": [
    "We have 57 unique words based on the parameters set above. Out of these let's take a look at the 15 most common words. "
   ]
  },
  {
   "cell_type": "code",
   "execution_count": 79,
   "id": "bf40788b",
   "metadata": {},
   "outputs": [
    {
     "data": {
      "text/plain": [
       "['advice',\n",
       " 'ago',\n",
       " 'asked',\n",
       " 'day',\n",
       " 'days',\n",
       " 'did',\n",
       " 'didn',\n",
       " 'does',\n",
       " 'doing',\n",
       " 'don']"
      ]
     },
     "execution_count": 79,
     "metadata": {},
     "output_type": "execute_result"
    }
   ],
   "source": [
    "cv.get_feature_names()[:10]"
   ]
  },
  {
   "cell_type": "markdown",
   "id": "d683c64c",
   "metadata": {},
   "source": [
    "Saving the list of common words into a dataframe. "
   ]
  },
  {
   "cell_type": "code",
   "execution_count": 80,
   "id": "189e36e7",
   "metadata": {},
   "outputs": [],
   "source": [
    "comm_words = pd.DataFrame(cv.transform(reddit.posts).todense(),\n",
    "                  columns = cv.get_feature_names())"
   ]
  },
  {
   "cell_type": "code",
   "execution_count": 107,
   "id": "86ba74a1",
   "metadata": {},
   "outputs": [
    {
     "data": {
      "text/html": [
       "<div>\n",
       "<style scoped>\n",
       "    .dataframe tbody tr th:only-of-type {\n",
       "        vertical-align: middle;\n",
       "    }\n",
       "\n",
       "    .dataframe tbody tr th {\n",
       "        vertical-align: top;\n",
       "    }\n",
       "\n",
       "    .dataframe thead th {\n",
       "        text-align: right;\n",
       "    }\n",
       "</style>\n",
       "<table border=\"1\" class=\"dataframe\">\n",
       "  <thead>\n",
       "    <tr style=\"text-align: right;\">\n",
       "      <th></th>\n",
       "      <th>advice</th>\n",
       "      <th>ago</th>\n",
       "      <th>asked</th>\n",
       "      <th>day</th>\n",
       "      <th>days</th>\n",
       "      <th>did</th>\n",
       "      <th>didn</th>\n",
       "      <th>does</th>\n",
       "      <th>doing</th>\n",
       "      <th>don</th>\n",
       "      <th>...</th>\n",
       "      <th>told</th>\n",
       "      <th>trying</th>\n",
       "      <th>ve</th>\n",
       "      <th>want</th>\n",
       "      <th>wanted</th>\n",
       "      <th>way</th>\n",
       "      <th>went</th>\n",
       "      <th>work</th>\n",
       "      <th>year</th>\n",
       "      <th>years</th>\n",
       "    </tr>\n",
       "  </thead>\n",
       "  <tbody>\n",
       "    <tr>\n",
       "      <th>0</th>\n",
       "      <td>0</td>\n",
       "      <td>0</td>\n",
       "      <td>0</td>\n",
       "      <td>0</td>\n",
       "      <td>0</td>\n",
       "      <td>0</td>\n",
       "      <td>0</td>\n",
       "      <td>0</td>\n",
       "      <td>0</td>\n",
       "      <td>0</td>\n",
       "      <td>...</td>\n",
       "      <td>0</td>\n",
       "      <td>0</td>\n",
       "      <td>0</td>\n",
       "      <td>0</td>\n",
       "      <td>0</td>\n",
       "      <td>0</td>\n",
       "      <td>0</td>\n",
       "      <td>0</td>\n",
       "      <td>0</td>\n",
       "      <td>0</td>\n",
       "    </tr>\n",
       "    <tr>\n",
       "      <th>1</th>\n",
       "      <td>0</td>\n",
       "      <td>0</td>\n",
       "      <td>1</td>\n",
       "      <td>0</td>\n",
       "      <td>0</td>\n",
       "      <td>0</td>\n",
       "      <td>0</td>\n",
       "      <td>1</td>\n",
       "      <td>0</td>\n",
       "      <td>0</td>\n",
       "      <td>...</td>\n",
       "      <td>0</td>\n",
       "      <td>0</td>\n",
       "      <td>0</td>\n",
       "      <td>1</td>\n",
       "      <td>0</td>\n",
       "      <td>0</td>\n",
       "      <td>0</td>\n",
       "      <td>0</td>\n",
       "      <td>0</td>\n",
       "      <td>0</td>\n",
       "    </tr>\n",
       "    <tr>\n",
       "      <th>2</th>\n",
       "      <td>0</td>\n",
       "      <td>0</td>\n",
       "      <td>0</td>\n",
       "      <td>0</td>\n",
       "      <td>0</td>\n",
       "      <td>0</td>\n",
       "      <td>0</td>\n",
       "      <td>0</td>\n",
       "      <td>0</td>\n",
       "      <td>0</td>\n",
       "      <td>...</td>\n",
       "      <td>0</td>\n",
       "      <td>0</td>\n",
       "      <td>1</td>\n",
       "      <td>0</td>\n",
       "      <td>0</td>\n",
       "      <td>1</td>\n",
       "      <td>0</td>\n",
       "      <td>0</td>\n",
       "      <td>0</td>\n",
       "      <td>0</td>\n",
       "    </tr>\n",
       "    <tr>\n",
       "      <th>3</th>\n",
       "      <td>0</td>\n",
       "      <td>0</td>\n",
       "      <td>0</td>\n",
       "      <td>0</td>\n",
       "      <td>0</td>\n",
       "      <td>0</td>\n",
       "      <td>0</td>\n",
       "      <td>0</td>\n",
       "      <td>0</td>\n",
       "      <td>0</td>\n",
       "      <td>...</td>\n",
       "      <td>0</td>\n",
       "      <td>0</td>\n",
       "      <td>0</td>\n",
       "      <td>0</td>\n",
       "      <td>0</td>\n",
       "      <td>0</td>\n",
       "      <td>0</td>\n",
       "      <td>0</td>\n",
       "      <td>0</td>\n",
       "      <td>0</td>\n",
       "    </tr>\n",
       "    <tr>\n",
       "      <th>4</th>\n",
       "      <td>0</td>\n",
       "      <td>0</td>\n",
       "      <td>0</td>\n",
       "      <td>0</td>\n",
       "      <td>0</td>\n",
       "      <td>0</td>\n",
       "      <td>0</td>\n",
       "      <td>0</td>\n",
       "      <td>0</td>\n",
       "      <td>0</td>\n",
       "      <td>...</td>\n",
       "      <td>0</td>\n",
       "      <td>0</td>\n",
       "      <td>0</td>\n",
       "      <td>0</td>\n",
       "      <td>0</td>\n",
       "      <td>0</td>\n",
       "      <td>0</td>\n",
       "      <td>0</td>\n",
       "      <td>1</td>\n",
       "      <td>0</td>\n",
       "    </tr>\n",
       "  </tbody>\n",
       "</table>\n",
       "<p>5 rows × 57 columns</p>\n",
       "</div>"
      ],
      "text/plain": [
       "   advice  ago  asked  day  days  did  didn  does  doing  don  ...  told  \\\n",
       "0       0    0      0    0     0    0     0     0      0    0  ...     0   \n",
       "1       0    0      1    0     0    0     0     1      0    0  ...     0   \n",
       "2       0    0      0    0     0    0     0     0      0    0  ...     0   \n",
       "3       0    0      0    0     0    0     0     0      0    0  ...     0   \n",
       "4       0    0      0    0     0    0     0     0      0    0  ...     0   \n",
       "\n",
       "   trying  ve  want  wanted  way  went  work  year  years  \n",
       "0       0   0     0       0    0     0     0     0      0  \n",
       "1       0   0     1       0    0     0     0     0      0  \n",
       "2       0   1     0       0    1     0     0     0      0  \n",
       "3       0   0     0       0    0     0     0     0      0  \n",
       "4       0   0     0       0    0     0     0     1      0  \n",
       "\n",
       "[5 rows x 57 columns]"
      ]
     },
     "execution_count": 107,
     "metadata": {},
     "output_type": "execute_result"
    }
   ],
   "source": [
    "comm_words.head()"
   ]
  },
  {
   "cell_type": "code",
   "execution_count": 81,
   "id": "1132f2bb",
   "metadata": {},
   "outputs": [
    {
     "data": {
      "text/plain": [
       "just      2184\n",
       "like      1635\n",
       "know      1407\n",
       "time      1391\n",
       "want      1087\n",
       "got       1034\n",
       "im         998\n",
       "really     939\n",
       "work       931\n",
       "said       897\n",
       "going      893\n",
       "people     886\n",
       "don        883\n",
       "told       842\n",
       "years      813\n",
       "dtype: int64"
      ]
     },
     "execution_count": 81,
     "metadata": {},
     "output_type": "execute_result"
    }
   ],
   "source": [
    "comm_words_list = comm_words.sum().sort_values(ascending = False).head(15)\n",
    "comm_words_list"
   ]
  },
  {
   "cell_type": "markdown",
   "id": "55e02e6e",
   "metadata": {},
   "source": [
    "Displaying the frequency of the most common words as a bar chart"
   ]
  },
  {
   "cell_type": "code",
   "execution_count": 86,
   "id": "326d07ac",
   "metadata": {},
   "outputs": [],
   "source": [
    "# zipping actual words and sum of their countvectorizor for corpus\n",
    "words = list(zip(cv.get_feature_names(), [x[0] for x in X.sum(axis=0).T.tolist()]))\n",
    "# sorting\n",
    "ranked = np.array(sorted(words, key=lambda x:x[1], reverse=True))"
   ]
  },
  {
   "cell_type": "code",
   "execution_count": 97,
   "id": "fbe530fc",
   "metadata": {},
   "outputs": [
    {
     "data": {
      "text/plain": [
       "Text(0.5, 1.0, 'Fifteen of the most common words')"
      ]
     },
     "execution_count": 97,
     "metadata": {},
     "output_type": "execute_result"
    },
    {
     "data": {
      "image/png": "[encoded data removed]",
      "text/plain": [
       "<Figure size 360x720 with 1 Axes>"
      ]
     },
     "metadata": {},
     "output_type": "display_data"
    }
   ],
   "source": [
    "n = 15\n",
    "plt.figure(figsize=(5, 10))\n",
    "plt.barh(-np.arange(n),ranked[:n, 1].astype(float), height=.8, color ='violet')\n",
    "plt.yticks(ticks=-np.arange(n), labels=ranked[:n, 0]);\n",
    "plt.title('Fifteen of the most common words')"
   ]
  },
  {
   "cell_type": "markdown",
   "id": "42beeaa1",
   "metadata": {},
   "source": [
    "[Graphing Source Code](https://stackoverflow.com/questions/59340203/how-to-draw-bar-plot-of-30-most-common-words-found-in-fake-news-in-jupyter-noteb)"
   ]
  },
  {
   "cell_type": "markdown",
   "id": "ced36eb4",
   "metadata": {},
   "source": [
    "From the common words identified above, I'd like to see them displayed in a word cloud. "
   ]
  },
  {
   "cell_type": "code",
   "execution_count": 103,
   "id": "219665f2",
   "metadata": {},
   "outputs": [],
   "source": [
    "# Importing wordcloud for plotting word clouds and textwrap for wrapping longer text\n",
    "from wordcloud import WordCloud\n",
    "from textwrap import wrap"
   ]
  },
  {
   "cell_type": "code",
   "execution_count": 106,
   "id": "bbec6248",
   "metadata": {},
   "outputs": [
    {
     "ename": "AttributeError",
     "evalue": "'DataFrame' object has no attribute 'posts'",
     "output_type": "error",
     "traceback": [
      "\u001b[0;31m---------------------------------------------------------------------------\u001b[0m",
      "\u001b[0;31mAttributeError\u001b[0m                            Traceback (most recent call last)",
      "\u001b[0;32m<ipython-input-106-6787dea83312>\u001b[0m in \u001b[0;36m<module>\u001b[0;34m\u001b[0m\n\u001b[0;32m----> 1\u001b[0;31m \u001b[0mtext\u001b[0m\u001b[0;34m=\u001b[0m \u001b[0mcomm_words\u001b[0m\u001b[0;34m.\u001b[0m\u001b[0mposts\u001b[0m\u001b[0;34m.\u001b[0m\u001b[0msort_values\u001b[0m\u001b[0;34m(\u001b[0m\u001b[0mascending\u001b[0m\u001b[0;34m=\u001b[0m\u001b[0;32mFalse\u001b[0m\u001b[0;34m)\u001b[0m\u001b[0;34m[\u001b[0m\u001b[0;34m:\u001b[0m\u001b[0;36m100\u001b[0m\u001b[0;34m]\u001b[0m\u001b[0;34m\u001b[0m\u001b[0;34m\u001b[0m\u001b[0m\n\u001b[0m\u001b[1;32m      2\u001b[0m \u001b[0mtext_dict\u001b[0m \u001b[0;34m=\u001b[0m\u001b[0mcomm_words\u001b[0m\u001b[0;34m.\u001b[0m\u001b[0mposts\u001b[0m\u001b[0;34m.\u001b[0m\u001b[0msort_values\u001b[0m\u001b[0;34m(\u001b[0m\u001b[0mascending\u001b[0m\u001b[0;34m=\u001b[0m\u001b[0;32mFalse\u001b[0m\u001b[0;34m)\u001b[0m\u001b[0;34m.\u001b[0m\u001b[0mto_dict\u001b[0m\u001b[0;34m(\u001b[0m\u001b[0;34m)\u001b[0m\u001b[0;34m\u001b[0m\u001b[0;34m\u001b[0m\u001b[0m\n",
      "\u001b[0;32m~/anaconda3/lib/python3.8/site-packages/pandas/core/generic.py\u001b[0m in \u001b[0;36m__getattr__\u001b[0;34m(self, name)\u001b[0m\n\u001b[1;32m   5463\u001b[0m             \u001b[0;32mif\u001b[0m \u001b[0mself\u001b[0m\u001b[0;34m.\u001b[0m\u001b[0m_info_axis\u001b[0m\u001b[0;34m.\u001b[0m\u001b[0m_can_hold_identifiers_and_holds_name\u001b[0m\u001b[0;34m(\u001b[0m\u001b[0mname\u001b[0m\u001b[0;34m)\u001b[0m\u001b[0;34m:\u001b[0m\u001b[0;34m\u001b[0m\u001b[0;34m\u001b[0m\u001b[0m\n\u001b[1;32m   5464\u001b[0m                 \u001b[0;32mreturn\u001b[0m \u001b[0mself\u001b[0m\u001b[0;34m[\u001b[0m\u001b[0mname\u001b[0m\u001b[0;34m]\u001b[0m\u001b[0;34m\u001b[0m\u001b[0;34m\u001b[0m\u001b[0m\n\u001b[0;32m-> 5465\u001b[0;31m             \u001b[0;32mreturn\u001b[0m \u001b[0mobject\u001b[0m\u001b[0;34m.\u001b[0m\u001b[0m__getattribute__\u001b[0m\u001b[0;34m(\u001b[0m\u001b[0mself\u001b[0m\u001b[0;34m,\u001b[0m \u001b[0mname\u001b[0m\u001b[0;34m)\u001b[0m\u001b[0;34m\u001b[0m\u001b[0;34m\u001b[0m\u001b[0m\n\u001b[0m\u001b[1;32m   5466\u001b[0m \u001b[0;34m\u001b[0m\u001b[0m\n\u001b[1;32m   5467\u001b[0m     \u001b[0;32mdef\u001b[0m \u001b[0m__setattr__\u001b[0m\u001b[0;34m(\u001b[0m\u001b[0mself\u001b[0m\u001b[0;34m,\u001b[0m \u001b[0mname\u001b[0m\u001b[0;34m:\u001b[0m \u001b[0mstr\u001b[0m\u001b[0;34m,\u001b[0m \u001b[0mvalue\u001b[0m\u001b[0;34m)\u001b[0m \u001b[0;34m->\u001b[0m \u001b[0;32mNone\u001b[0m\u001b[0;34m:\u001b[0m\u001b[0;34m\u001b[0m\u001b[0;34m\u001b[0m\u001b[0m\n",
      "\u001b[0;31mAttributeError\u001b[0m: 'DataFrame' object has no attribute 'posts'"
     ]
    }
   ],
   "source": [
    "text= comm_words.posts.sort_values(ascending=False)[:100]\n",
    "text_dict =comm_words.posts.sort_values(ascending=False).to_dict()"
   ]
  },
  {
   "cell_type": "code",
   "execution_count": 115,
   "id": "4d3657cc",
   "metadata": {},
   "outputs": [
    {
     "ename": "AttributeError",
     "evalue": "'CountVectorizer' object has no attribute 'content_'",
     "output_type": "error",
     "traceback": [
      "\u001b[0;31m---------------------------------------------------------------------------\u001b[0m",
      "\u001b[0;31mAttributeError\u001b[0m                            Traceback (most recent call last)",
      "\u001b[0;32m<ipython-input-115-e5585d7d06af>\u001b[0m in \u001b[0;36m<module>\u001b[0;34m\u001b[0m\n\u001b[0;32m----> 1\u001b[0;31m \u001b[0mcv\u001b[0m\u001b[0;34m.\u001b[0m\u001b[0mcontent_\u001b[0m\u001b[0;34m\u001b[0m\u001b[0;34m\u001b[0m\u001b[0m\n\u001b[0m",
      "\u001b[0;31mAttributeError\u001b[0m: 'CountVectorizer' object has no attribute 'content_'"
     ]
    }
   ],
   "source": [
    "cv.content_"
   ]
  },
  {
   "cell_type": "code",
   "execution_count": 110,
   "id": "134675bc",
   "metadata": {},
   "outputs": [],
   "source": [
    "word_list = np.array(comm_words)"
   ]
  },
  {
   "cell_type": "code",
   "execution_count": 113,
   "id": "2430d3c4",
   "metadata": {},
   "outputs": [
    {
     "ename": "ValueError",
     "evalue": "The truth value of a Series is ambiguous. Use a.empty, a.bool(), a.item(), a.any() or a.all().",
     "output_type": "error",
     "traceback": [
      "\u001b[0;31m---------------------------------------------------------------------------\u001b[0m",
      "\u001b[0;31mValueError\u001b[0m                                Traceback (most recent call last)",
      "\u001b[0;32m<ipython-input-113-d5c0fe5664fa>\u001b[0m in \u001b[0;36m<module>\u001b[0;34m\u001b[0m\n\u001b[0;32m----> 1\u001b[0;31m wc = WordCloud(\n\u001b[0m\u001b[1;32m      2\u001b[0m     \u001b[0mbackground_color\u001b[0m\u001b[0;34m=\u001b[0m \u001b[0;34m'white'\u001b[0m\u001b[0;34m,\u001b[0m\u001b[0;34m\u001b[0m\u001b[0;34m\u001b[0m\u001b[0m\n\u001b[1;32m      3\u001b[0m     \u001b[0mwidth\u001b[0m\u001b[0;34m=\u001b[0m\u001b[0;36m400\u001b[0m\u001b[0;34m,\u001b[0m\u001b[0;34m\u001b[0m\u001b[0;34m\u001b[0m\u001b[0m\n\u001b[1;32m      4\u001b[0m     \u001b[0mheight\u001b[0m\u001b[0;34m=\u001b[0m\u001b[0;36m400\u001b[0m\u001b[0;34m,\u001b[0m\u001b[0;34m\u001b[0m\u001b[0;34m\u001b[0m\u001b[0m\n\u001b[1;32m      5\u001b[0m     max_words =100).generate_from_frequencies(comm_words)\n",
      "\u001b[0;32m~/anaconda3/lib/python3.8/site-packages/wordcloud/wordcloud.py\u001b[0m in \u001b[0;36mgenerate_from_frequencies\u001b[0;34m(self, frequencies, max_font_size)\u001b[0m\n\u001b[1;32m    399\u001b[0m         \"\"\"\n\u001b[1;32m    400\u001b[0m         \u001b[0;31m# make sure frequencies are sorted and normalized\u001b[0m\u001b[0;34m\u001b[0m\u001b[0;34m\u001b[0m\u001b[0;34m\u001b[0m\u001b[0m\n\u001b[0;32m--> 401\u001b[0;31m         \u001b[0mfrequencies\u001b[0m \u001b[0;34m=\u001b[0m \u001b[0msorted\u001b[0m\u001b[0;34m(\u001b[0m\u001b[0mfrequencies\u001b[0m\u001b[0;34m.\u001b[0m\u001b[0mitems\u001b[0m\u001b[0;34m(\u001b[0m\u001b[0;34m)\u001b[0m\u001b[0;34m,\u001b[0m \u001b[0mkey\u001b[0m\u001b[0;34m=\u001b[0m\u001b[0mitemgetter\u001b[0m\u001b[0;34m(\u001b[0m\u001b[0;36m1\u001b[0m\u001b[0;34m)\u001b[0m\u001b[0;34m,\u001b[0m \u001b[0mreverse\u001b[0m\u001b[0;34m=\u001b[0m\u001b[0;32mTrue\u001b[0m\u001b[0;34m)\u001b[0m\u001b[0;34m\u001b[0m\u001b[0;34m\u001b[0m\u001b[0m\n\u001b[0m\u001b[1;32m    402\u001b[0m         \u001b[0;32mif\u001b[0m \u001b[0mlen\u001b[0m\u001b[0;34m(\u001b[0m\u001b[0mfrequencies\u001b[0m\u001b[0;34m)\u001b[0m \u001b[0;34m<=\u001b[0m \u001b[0;36m0\u001b[0m\u001b[0;34m:\u001b[0m\u001b[0;34m\u001b[0m\u001b[0;34m\u001b[0m\u001b[0m\n\u001b[1;32m    403\u001b[0m             raise ValueError(\"We need at least 1 word to plot a word cloud, \"\n",
      "\u001b[0;32m~/anaconda3/lib/python3.8/site-packages/pandas/core/generic.py\u001b[0m in \u001b[0;36m__nonzero__\u001b[0;34m(self)\u001b[0m\n\u001b[1;32m   1440\u001b[0m     \u001b[0;34m@\u001b[0m\u001b[0mfinal\u001b[0m\u001b[0;34m\u001b[0m\u001b[0;34m\u001b[0m\u001b[0m\n\u001b[1;32m   1441\u001b[0m     \u001b[0;32mdef\u001b[0m \u001b[0m__nonzero__\u001b[0m\u001b[0;34m(\u001b[0m\u001b[0mself\u001b[0m\u001b[0;34m)\u001b[0m\u001b[0;34m:\u001b[0m\u001b[0;34m\u001b[0m\u001b[0;34m\u001b[0m\u001b[0m\n\u001b[0;32m-> 1442\u001b[0;31m         raise ValueError(\n\u001b[0m\u001b[1;32m   1443\u001b[0m             \u001b[0;34mf\"The truth value of a {type(self).__name__} is ambiguous. \"\u001b[0m\u001b[0;34m\u001b[0m\u001b[0;34m\u001b[0m\u001b[0m\n\u001b[1;32m   1444\u001b[0m             \u001b[0;34m\"Use a.empty, a.bool(), a.item(), a.any() or a.all().\"\u001b[0m\u001b[0;34m\u001b[0m\u001b[0;34m\u001b[0m\u001b[0m\n",
      "\u001b[0;31mValueError\u001b[0m: The truth value of a Series is ambiguous. Use a.empty, a.bool(), a.item(), a.any() or a.all()."
     ]
    }
   ],
   "source": [
    "wc = WordCloud(\n",
    "    background_color= 'white',\n",
    "    width=400, \n",
    "    height=400,\n",
    "    max_words =100).generate_from_frequencies(comm_words)\n",
    "plt.figure(figsize = (10,8))\n",
    "plt.axis(\"off\")\n",
    "plt.imshow(wc, interpolation = 'bilinear')\n",
    "plt.show()"
   ]
  }
 ],
 "metadata": {
  "kernelspec": {
   "display_name": "Python 3",
   "language": "python",
   "name": "python3"
  },
  "language_info": {
   "codemirror_mode": {
    "name": "ipython",
    "version": 3
   },
   "file_extension": ".py",
   "mimetype": "text/x-python",
   "name": "python",
   "nbconvert_exporter": "python",
   "pygments_lexer": "ipython3",
   "version": "3.8.8"
  }
 },
 "nbformat": 4,
 "nbformat_minor": 5
}
