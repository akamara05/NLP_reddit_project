{
 "cells": [
  {
   "cell_type": "markdown",
   "id": "bcf2e038",
   "metadata": {},
   "source": [
    "## Reddit NLP Project "
   ]
  },
  {
   "cell_type": "markdown",
   "id": "fe4f899c",
   "metadata": {},
   "source": [
    "__The objective of this project, is two-fold:__\n",
    "\n",
    "__1.__ Using [Pushshift's](https://github.com/pushshift/api) API, I'll collect posts from two subreddits of my choosing.\n",
    "\n",
    "__2.__ I'll then use NLP to train a classifier on which subreddit a given post came from. This is a binary classification problem."
   ]
  },
  {
   "cell_type": "markdown",
   "id": "68899d63",
   "metadata": {},
   "source": [
    "In order to build these models I've opted for text heavy subreddits in order to provide as much raw text data for my models to train and test on. The 'legaladvice' subreddit has posts in which people solicit  legal adviice pertaining to whatever issues they may be facing that may warrant legal intervention. The 'casualconversation' subrreddit ranges on number of topics, where posters can simply rant about their day or ask about feedback on a number of thoughts or issues that my cross their mind. With each of these having an element of advice, I'm interested in seeing the type of language used in everyday, mundane conversation versus presumably more pressing issues that require legal guidance of some sort. In order to do so I've organized the project in the following manner: \n",
    "\n",
    "* __Part 1a/b__ - Webscrapping of text data from Reddit\n",
    "* __Part 2__ - Cleaning of unstructured text data\n",
    "* __Part 3__ - Exploratory Data Analysis (EDA)\n",
    "* __Part 4a__- Preprocessing of cleaned data; lemmatizing and stemming using NLTK ; \n",
    "* __Part 4b__- Modeling; Logistic Regression and Random Forest modeling"
   ]
  },
  {
   "cell_type": "markdown",
   "id": "e8917600",
   "metadata": {},
   "source": [
    "__Part 1: Webscrapping two subreddit posts__"
   ]
  },
  {
   "cell_type": "markdown",
   "id": "c7636cf6",
   "metadata": {},
   "source": [
    "  ### Imports"
   ]
  },
  {
   "cell_type": "code",
   "execution_count": 1,
   "id": "171a9cea",
   "metadata": {},
   "outputs": [],
   "source": [
    "import pandas as pd\n",
    "import numpy as np\n",
    "import requests\n",
    "import time"
   ]
  },
  {
   "cell_type": "code",
   "execution_count": 2,
   "id": "e4fb5dfa",
   "metadata": {},
   "outputs": [],
   "source": [
    "base_url = 'https://api.pushshift.io/reddit/search/'"
   ]
  },
  {
   "cell_type": "markdown",
   "id": "f54723d0",
   "metadata": {},
   "source": [
    "__The legal advice subreddit__"
   ]
  },
  {
   "cell_type": "code",
   "execution_count": 3,
   "id": "4701b2bc",
   "metadata": {},
   "outputs": [],
   "source": [
    "params = {\n",
    "    'subreddit': 'legaladvice',\n",
    "    'size': 75\n",
    "}\n",
    "res = requests.get(base_url + 'submission/', params=params)"
   ]
  },
  {
   "cell_type": "code",
   "execution_count": 4,
   "id": "c02ff205",
   "metadata": {},
   "outputs": [
    {
     "data": {
      "text/plain": [
       "200"
      ]
     },
     "execution_count": 4,
     "metadata": {},
     "output_type": "execute_result"
    }
   ],
   "source": [
    "res.status_code"
   ]
  },
  {
   "cell_type": "code",
   "execution_count": 5,
   "id": "90a70e9d",
   "metadata": {},
   "outputs": [],
   "source": [
    "data = res.json()"
   ]
  },
  {
   "cell_type": "code",
   "execution_count": 6,
   "id": "5cf96bb0",
   "metadata": {},
   "outputs": [
    {
     "data": {
      "text/plain": [
       "dict_keys(['data'])"
      ]
     },
     "execution_count": 6,
     "metadata": {},
     "output_type": "execute_result"
    }
   ],
   "source": [
    "data.keys()"
   ]
  },
  {
   "cell_type": "code",
   "execution_count": 7,
   "id": "1249920f",
   "metadata": {},
   "outputs": [
    {
     "data": {
      "text/html": [
       "<div>\n",
       "<style scoped>\n",
       "    .dataframe tbody tr th:only-of-type {\n",
       "        vertical-align: middle;\n",
       "    }\n",
       "\n",
       "    .dataframe tbody tr th {\n",
       "        vertical-align: top;\n",
       "    }\n",
       "\n",
       "    .dataframe thead th {\n",
       "        text-align: right;\n",
       "    }\n",
       "</style>\n",
       "<table border=\"1\" class=\"dataframe\">\n",
       "  <thead>\n",
       "    <tr style=\"text-align: right;\">\n",
       "      <th></th>\n",
       "      <th>all_awardings</th>\n",
       "      <th>allow_live_comments</th>\n",
       "      <th>author</th>\n",
       "      <th>author_flair_background_color</th>\n",
       "      <th>author_flair_css_class</th>\n",
       "      <th>author_flair_text</th>\n",
       "      <th>author_flair_text_color</th>\n",
       "      <th>author_is_blocked</th>\n",
       "      <th>awarders</th>\n",
       "      <th>can_mod_post</th>\n",
       "      <th>...</th>\n",
       "      <th>whitelist_status</th>\n",
       "      <th>wls</th>\n",
       "      <th>author_flair_richtext</th>\n",
       "      <th>author_flair_type</th>\n",
       "      <th>author_fullname</th>\n",
       "      <th>author_patreon_flair</th>\n",
       "      <th>author_premium</th>\n",
       "      <th>post_hint</th>\n",
       "      <th>preview</th>\n",
       "      <th>banned_by</th>\n",
       "    </tr>\n",
       "  </thead>\n",
       "  <tbody>\n",
       "    <tr>\n",
       "      <th>0</th>\n",
       "      <td>[]</td>\n",
       "      <td>True</td>\n",
       "      <td>[deleted]</td>\n",
       "      <td></td>\n",
       "      <td>None</td>\n",
       "      <td>None</td>\n",
       "      <td>dark</td>\n",
       "      <td>False</td>\n",
       "      <td>[]</td>\n",
       "      <td>False</td>\n",
       "      <td>...</td>\n",
       "      <td>all_ads</td>\n",
       "      <td>6</td>\n",
       "      <td>NaN</td>\n",
       "      <td>NaN</td>\n",
       "      <td>NaN</td>\n",
       "      <td>NaN</td>\n",
       "      <td>NaN</td>\n",
       "      <td>NaN</td>\n",
       "      <td>NaN</td>\n",
       "      <td>NaN</td>\n",
       "    </tr>\n",
       "    <tr>\n",
       "      <th>1</th>\n",
       "      <td>[]</td>\n",
       "      <td>False</td>\n",
       "      <td>banksnosons</td>\n",
       "      <td>NaN</td>\n",
       "      <td>None</td>\n",
       "      <td>None</td>\n",
       "      <td>NaN</td>\n",
       "      <td>False</td>\n",
       "      <td>[]</td>\n",
       "      <td>False</td>\n",
       "      <td>...</td>\n",
       "      <td>all_ads</td>\n",
       "      <td>6</td>\n",
       "      <td>[]</td>\n",
       "      <td>text</td>\n",
       "      <td>t2_3ha8i7b2</td>\n",
       "      <td>False</td>\n",
       "      <td>False</td>\n",
       "      <td>NaN</td>\n",
       "      <td>NaN</td>\n",
       "      <td>NaN</td>\n",
       "    </tr>\n",
       "    <tr>\n",
       "      <th>2</th>\n",
       "      <td>[]</td>\n",
       "      <td>False</td>\n",
       "      <td>Hangman_Matt</td>\n",
       "      <td>NaN</td>\n",
       "      <td>None</td>\n",
       "      <td>None</td>\n",
       "      <td>NaN</td>\n",
       "      <td>False</td>\n",
       "      <td>[]</td>\n",
       "      <td>False</td>\n",
       "      <td>...</td>\n",
       "      <td>all_ads</td>\n",
       "      <td>6</td>\n",
       "      <td>[]</td>\n",
       "      <td>text</td>\n",
       "      <td>t2_8ew841k</td>\n",
       "      <td>False</td>\n",
       "      <td>False</td>\n",
       "      <td>NaN</td>\n",
       "      <td>NaN</td>\n",
       "      <td>NaN</td>\n",
       "    </tr>\n",
       "    <tr>\n",
       "      <th>3</th>\n",
       "      <td>[]</td>\n",
       "      <td>False</td>\n",
       "      <td>Throwawaaaaaay526289</td>\n",
       "      <td>NaN</td>\n",
       "      <td>None</td>\n",
       "      <td>None</td>\n",
       "      <td>NaN</td>\n",
       "      <td>False</td>\n",
       "      <td>[]</td>\n",
       "      <td>False</td>\n",
       "      <td>...</td>\n",
       "      <td>all_ads</td>\n",
       "      <td>6</td>\n",
       "      <td>[]</td>\n",
       "      <td>text</td>\n",
       "      <td>t2_e0mruzq3</td>\n",
       "      <td>False</td>\n",
       "      <td>False</td>\n",
       "      <td>NaN</td>\n",
       "      <td>NaN</td>\n",
       "      <td>NaN</td>\n",
       "    </tr>\n",
       "    <tr>\n",
       "      <th>4</th>\n",
       "      <td>[]</td>\n",
       "      <td>False</td>\n",
       "      <td>unholychalice</td>\n",
       "      <td>NaN</td>\n",
       "      <td>None</td>\n",
       "      <td>None</td>\n",
       "      <td>NaN</td>\n",
       "      <td>False</td>\n",
       "      <td>[]</td>\n",
       "      <td>False</td>\n",
       "      <td>...</td>\n",
       "      <td>all_ads</td>\n",
       "      <td>6</td>\n",
       "      <td>[]</td>\n",
       "      <td>text</td>\n",
       "      <td>t2_80teju2</td>\n",
       "      <td>False</td>\n",
       "      <td>False</td>\n",
       "      <td>NaN</td>\n",
       "      <td>NaN</td>\n",
       "      <td>NaN</td>\n",
       "    </tr>\n",
       "    <tr>\n",
       "      <th>...</th>\n",
       "      <td>...</td>\n",
       "      <td>...</td>\n",
       "      <td>...</td>\n",
       "      <td>...</td>\n",
       "      <td>...</td>\n",
       "      <td>...</td>\n",
       "      <td>...</td>\n",
       "      <td>...</td>\n",
       "      <td>...</td>\n",
       "      <td>...</td>\n",
       "      <td>...</td>\n",
       "      <td>...</td>\n",
       "      <td>...</td>\n",
       "      <td>...</td>\n",
       "      <td>...</td>\n",
       "      <td>...</td>\n",
       "      <td>...</td>\n",
       "      <td>...</td>\n",
       "      <td>...</td>\n",
       "      <td>...</td>\n",
       "      <td>...</td>\n",
       "    </tr>\n",
       "    <tr>\n",
       "      <th>70</th>\n",
       "      <td>[]</td>\n",
       "      <td>False</td>\n",
       "      <td>throwawayRA_121</td>\n",
       "      <td>NaN</td>\n",
       "      <td>None</td>\n",
       "      <td>None</td>\n",
       "      <td>NaN</td>\n",
       "      <td>False</td>\n",
       "      <td>[]</td>\n",
       "      <td>False</td>\n",
       "      <td>...</td>\n",
       "      <td>all_ads</td>\n",
       "      <td>6</td>\n",
       "      <td>[]</td>\n",
       "      <td>text</td>\n",
       "      <td>t2_95weryw0</td>\n",
       "      <td>False</td>\n",
       "      <td>False</td>\n",
       "      <td>NaN</td>\n",
       "      <td>NaN</td>\n",
       "      <td>NaN</td>\n",
       "    </tr>\n",
       "    <tr>\n",
       "      <th>71</th>\n",
       "      <td>[]</td>\n",
       "      <td>False</td>\n",
       "      <td>NotoriousVIV_</td>\n",
       "      <td>NaN</td>\n",
       "      <td>None</td>\n",
       "      <td>None</td>\n",
       "      <td>NaN</td>\n",
       "      <td>False</td>\n",
       "      <td>[]</td>\n",
       "      <td>False</td>\n",
       "      <td>...</td>\n",
       "      <td>all_ads</td>\n",
       "      <td>6</td>\n",
       "      <td>[]</td>\n",
       "      <td>text</td>\n",
       "      <td>t2_5ucl4dnx</td>\n",
       "      <td>False</td>\n",
       "      <td>False</td>\n",
       "      <td>NaN</td>\n",
       "      <td>NaN</td>\n",
       "      <td>NaN</td>\n",
       "    </tr>\n",
       "    <tr>\n",
       "      <th>72</th>\n",
       "      <td>[]</td>\n",
       "      <td>False</td>\n",
       "      <td>[deleted]</td>\n",
       "      <td></td>\n",
       "      <td>None</td>\n",
       "      <td>None</td>\n",
       "      <td>dark</td>\n",
       "      <td>False</td>\n",
       "      <td>[]</td>\n",
       "      <td>False</td>\n",
       "      <td>...</td>\n",
       "      <td>all_ads</td>\n",
       "      <td>6</td>\n",
       "      <td>NaN</td>\n",
       "      <td>NaN</td>\n",
       "      <td>NaN</td>\n",
       "      <td>NaN</td>\n",
       "      <td>NaN</td>\n",
       "      <td>NaN</td>\n",
       "      <td>NaN</td>\n",
       "      <td>NaN</td>\n",
       "    </tr>\n",
       "    <tr>\n",
       "      <th>73</th>\n",
       "      <td>[]</td>\n",
       "      <td>False</td>\n",
       "      <td>CamoCanna</td>\n",
       "      <td>NaN</td>\n",
       "      <td>None</td>\n",
       "      <td>None</td>\n",
       "      <td>NaN</td>\n",
       "      <td>False</td>\n",
       "      <td>[]</td>\n",
       "      <td>False</td>\n",
       "      <td>...</td>\n",
       "      <td>all_ads</td>\n",
       "      <td>6</td>\n",
       "      <td>[]</td>\n",
       "      <td>text</td>\n",
       "      <td>t2_1uanvj1m</td>\n",
       "      <td>False</td>\n",
       "      <td>False</td>\n",
       "      <td>NaN</td>\n",
       "      <td>NaN</td>\n",
       "      <td>NaN</td>\n",
       "    </tr>\n",
       "    <tr>\n",
       "      <th>74</th>\n",
       "      <td>[]</td>\n",
       "      <td>False</td>\n",
       "      <td>Little3Star</td>\n",
       "      <td>NaN</td>\n",
       "      <td>None</td>\n",
       "      <td>None</td>\n",
       "      <td>NaN</td>\n",
       "      <td>False</td>\n",
       "      <td>[]</td>\n",
       "      <td>False</td>\n",
       "      <td>...</td>\n",
       "      <td>all_ads</td>\n",
       "      <td>6</td>\n",
       "      <td>[]</td>\n",
       "      <td>text</td>\n",
       "      <td>t2_83ra4eu3</td>\n",
       "      <td>False</td>\n",
       "      <td>False</td>\n",
       "      <td>NaN</td>\n",
       "      <td>NaN</td>\n",
       "      <td>NaN</td>\n",
       "    </tr>\n",
       "  </tbody>\n",
       "</table>\n",
       "<p>75 rows × 68 columns</p>\n",
       "</div>"
      ],
      "text/plain": [
       "   all_awardings  allow_live_comments                author  \\\n",
       "0             []                 True             [deleted]   \n",
       "1             []                False           banksnosons   \n",
       "2             []                False          Hangman_Matt   \n",
       "3             []                False  Throwawaaaaaay526289   \n",
       "4             []                False         unholychalice   \n",
       "..           ...                  ...                   ...   \n",
       "70            []                False       throwawayRA_121   \n",
       "71            []                False         NotoriousVIV_   \n",
       "72            []                False             [deleted]   \n",
       "73            []                False             CamoCanna   \n",
       "74            []                False           Little3Star   \n",
       "\n",
       "   author_flair_background_color author_flair_css_class author_flair_text  \\\n",
       "0                                                  None              None   \n",
       "1                            NaN                   None              None   \n",
       "2                            NaN                   None              None   \n",
       "3                            NaN                   None              None   \n",
       "4                            NaN                   None              None   \n",
       "..                           ...                    ...               ...   \n",
       "70                           NaN                   None              None   \n",
       "71                           NaN                   None              None   \n",
       "72                                                 None              None   \n",
       "73                           NaN                   None              None   \n",
       "74                           NaN                   None              None   \n",
       "\n",
       "   author_flair_text_color  author_is_blocked awarders  can_mod_post  ...  \\\n",
       "0                     dark              False       []         False  ...   \n",
       "1                      NaN              False       []         False  ...   \n",
       "2                      NaN              False       []         False  ...   \n",
       "3                      NaN              False       []         False  ...   \n",
       "4                      NaN              False       []         False  ...   \n",
       "..                     ...                ...      ...           ...  ...   \n",
       "70                     NaN              False       []         False  ...   \n",
       "71                     NaN              False       []         False  ...   \n",
       "72                    dark              False       []         False  ...   \n",
       "73                     NaN              False       []         False  ...   \n",
       "74                     NaN              False       []         False  ...   \n",
       "\n",
       "    whitelist_status  wls author_flair_richtext  author_flair_type  \\\n",
       "0            all_ads    6                   NaN                NaN   \n",
       "1            all_ads    6                    []               text   \n",
       "2            all_ads    6                    []               text   \n",
       "3            all_ads    6                    []               text   \n",
       "4            all_ads    6                    []               text   \n",
       "..               ...  ...                   ...                ...   \n",
       "70           all_ads    6                    []               text   \n",
       "71           all_ads    6                    []               text   \n",
       "72           all_ads    6                   NaN                NaN   \n",
       "73           all_ads    6                    []               text   \n",
       "74           all_ads    6                    []               text   \n",
       "\n",
       "   author_fullname author_patreon_flair author_premium  post_hint  preview  \\\n",
       "0              NaN                  NaN            NaN        NaN      NaN   \n",
       "1      t2_3ha8i7b2                False          False        NaN      NaN   \n",
       "2       t2_8ew841k                False          False        NaN      NaN   \n",
       "3      t2_e0mruzq3                False          False        NaN      NaN   \n",
       "4       t2_80teju2                False          False        NaN      NaN   \n",
       "..             ...                  ...            ...        ...      ...   \n",
       "70     t2_95weryw0                False          False        NaN      NaN   \n",
       "71     t2_5ucl4dnx                False          False        NaN      NaN   \n",
       "72             NaN                  NaN            NaN        NaN      NaN   \n",
       "73     t2_1uanvj1m                False          False        NaN      NaN   \n",
       "74     t2_83ra4eu3                False          False        NaN      NaN   \n",
       "\n",
       "    banned_by  \n",
       "0         NaN  \n",
       "1         NaN  \n",
       "2         NaN  \n",
       "3         NaN  \n",
       "4         NaN  \n",
       "..        ...  \n",
       "70        NaN  \n",
       "71        NaN  \n",
       "72        NaN  \n",
       "73        NaN  \n",
       "74        NaN  \n",
       "\n",
       "[75 rows x 68 columns]"
      ]
     },
     "execution_count": 7,
     "metadata": {},
     "output_type": "execute_result"
    }
   ],
   "source": [
    "# Convert the posts into a DataFrame\n",
    "posts= pd.DataFrame(data['data'])\n",
    "posts"
   ]
  },
  {
   "cell_type": "code",
   "execution_count": 8,
   "id": "72306ef7",
   "metadata": {},
   "outputs": [
    {
     "data": {
      "text/plain": [
       "0     1629570682\n",
       "1     1629570605\n",
       "2     1629570478\n",
       "3     1629570313\n",
       "4     1629570134\n",
       "         ...    \n",
       "70    1629561553\n",
       "71    1629560835\n",
       "72    1629560809\n",
       "73    1629560764\n",
       "74    1629560761\n",
       "Name: created_utc, Length: 75, dtype: int64"
      ]
     },
     "execution_count": 8,
     "metadata": {},
     "output_type": "execute_result"
    }
   ],
   "source": [
    "posts['created_utc'].sort_values(ascending= False)"
   ]
  },
  {
   "cell_type": "code",
   "execution_count": 9,
   "id": "9cd6d89e",
   "metadata": {},
   "outputs": [
    {
     "data": {
      "text/plain": [
       "74    1629560761\n",
       "Name: created_utc, dtype: int64"
      ]
     },
     "execution_count": 9,
     "metadata": {},
     "output_type": "execute_result"
    }
   ],
   "source": [
    "early = posts['created_utc'][-1:]\n",
    "early"
   ]
  },
  {
   "cell_type": "code",
   "execution_count": 14,
   "id": "41d154fc",
   "metadata": {},
   "outputs": [],
   "source": [
    "#For loop to gather 3000 total posts form this subreddit\n",
    "# posts = pd.DataFrame()\n",
    "# early = None \n",
    "# for i in range(40):\n",
    "#     params = {\n",
    "#     'subreddit': 'legaladvice',\n",
    "#     'size': 75,\n",
    "#     #'before': early\n",
    "#     }\n",
    "#     if early != None:\n",
    "#         params['before']=early\n",
    "#     res = requests.get(base_url + 'submission/', params=params)\n",
    "#     data = res.json()\n",
    "#     posts= pd.concat([posts,\n",
    "#                      pd.DataFrame(data['data'])])\n",
    "#     early = posts['created_utc'].values[-1] \n",
    "#     time.sleep(3)"
   ]
  },
  {
   "cell_type": "markdown",
   "id": "50cd1a8c",
   "metadata": {},
   "source": [
    "Commented the above code out because I run it too one too many times and received an error the last time I run it. I've gathered the necessary data and have saved it in CSV files. "
   ]
  },
  {
   "cell_type": "code",
   "execution_count": 15,
   "id": "434a83cb",
   "metadata": {},
   "outputs": [
    {
     "data": {
      "text/plain": [
       "(600, 69)"
      ]
     },
     "execution_count": 15,
     "metadata": {},
     "output_type": "execute_result"
    }
   ],
   "source": [
    "#posts.shape"
   ]
  },
  {
   "cell_type": "markdown",
   "id": "54142217",
   "metadata": {},
   "source": [
    "__Saving the 3000 posts gathered into a CSV file__"
   ]
  },
  {
   "cell_type": "code",
   "execution_count": null,
   "id": "4e0c1afa",
   "metadata": {},
   "outputs": [],
   "source": [
    "#posts.to_csv('./Data/legaladvice_reddit.csv')"
   ]
  }
 ],
 "metadata": {
  "kernelspec": {
   "display_name": "Python 3",
   "language": "python",
   "name": "python3"
  },
  "language_info": {
   "codemirror_mode": {
    "name": "ipython",
    "version": 3
   },
   "file_extension": ".py",
   "mimetype": "text/x-python",
   "name": "python",
   "nbconvert_exporter": "python",
   "pygments_lexer": "ipython3",
   "version": "3.8.8"
  }
 },
 "nbformat": 4,
 "nbformat_minor": 5
}
