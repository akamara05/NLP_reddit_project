{
 "cells": [
  {
   "cell_type": "markdown",
   "id": "f869450a",
   "metadata": {},
   "source": [
    "* __Part 4a:__ Stemming and Lemmatizing\n",
    "* __Part 4b:__  Modeling; Logistic Regression and Random Forest"
   ]
  },
  {
   "cell_type": "code",
   "execution_count": 3,
   "id": "5ad4fe07",
   "metadata": {},
   "outputs": [],
   "source": [
    "import pandas as pd\n",
    "import numpy as np\n",
    "from collections import Counter\n",
    "\n",
    "from sklearn.feature_extraction.text import TfidfVectorizer\n",
    "\n",
    "import spacy\n",
    "\n",
    "import nltk\n",
    "from nltk.stem.porter import *\n",
    "from nltk.stem import PorterStemmer\n",
    "from nltk.tokenize import word_tokenize \n",
    "from nltk.stem import WordNetLemmatizer\n",
    "\n",
    "from sklearn.linear_model import LogisticRegression\n",
    "from sklearn.model_selection import cross_val_score, train_test_split, GridSearchCV\n",
    "from sklearn.metrics import plot_confusion_matrix\n",
    "from sklearn.metrics import confusion_matrix\n",
    "from sklearn.ensemble import RandomForestClassifier, ExtraTreesClassifier\n",
    "from sklearn.pipeline import Pipeline\n",
    "import sklearn.metrics as metrics"
   ]
  },
  {
   "cell_type": "code",
   "execution_count": 4,
   "id": "ac5b6c0e",
   "metadata": {},
   "outputs": [
    {
     "data": {
      "text/html": [
       "<div>\n",
       "<style scoped>\n",
       "    .dataframe tbody tr th:only-of-type {\n",
       "        vertical-align: middle;\n",
       "    }\n",
       "\n",
       "    .dataframe tbody tr th {\n",
       "        vertical-align: top;\n",
       "    }\n",
       "\n",
       "    .dataframe thead th {\n",
       "        text-align: right;\n",
       "    }\n",
       "</style>\n",
       "<table border=\"1\" class=\"dataframe\">\n",
       "  <thead>\n",
       "    <tr style=\"text-align: right;\">\n",
       "      <th></th>\n",
       "      <th>Unnamed: 0</th>\n",
       "      <th>index</th>\n",
       "      <th>author</th>\n",
       "      <th>created_utc</th>\n",
       "      <th>full_link</th>\n",
       "      <th>id</th>\n",
       "      <th>num_comments</th>\n",
       "      <th>retrieved_on</th>\n",
       "      <th>selftext</th>\n",
       "      <th>subreddit</th>\n",
       "      <th>title</th>\n",
       "      <th>url</th>\n",
       "      <th>posts</th>\n",
       "      <th>word_count</th>\n",
       "    </tr>\n",
       "  </thead>\n",
       "  <tbody>\n",
       "    <tr>\n",
       "      <th>0</th>\n",
       "      <td>1</td>\n",
       "      <td>1</td>\n",
       "      <td>banksnosons</td>\n",
       "      <td>1629570605</td>\n",
       "      <td>https://www.reddit.com/r/legaladvice/comments/...</td>\n",
       "      <td>p8wn7t</td>\n",
       "      <td>3</td>\n",
       "      <td>1629577686</td>\n",
       "      <td>What can I do? My old neighbor witnessed the p...</td>\n",
       "      <td>1</td>\n",
       "      <td>Package delivered to old residence, not being ...</td>\n",
       "      <td>https://www.reddit.com/r/legaladvice/comments/...</td>\n",
       "      <td>package delivered to old residence, not being ...</td>\n",
       "      <td>70</td>\n",
       "    </tr>\n",
       "    <tr>\n",
       "      <th>1</th>\n",
       "      <td>2</td>\n",
       "      <td>2</td>\n",
       "      <td>Hangman_Matt</td>\n",
       "      <td>1629570478</td>\n",
       "      <td>https://www.reddit.com/r/legaladvice/comments/...</td>\n",
       "      <td>p8wlv0</td>\n",
       "      <td>12</td>\n",
       "      <td>1629577576</td>\n",
       "      <td>Does use of obscene language in school fall un...</td>\n",
       "      <td>1</td>\n",
       "      <td>First Ammendment rights and Schools</td>\n",
       "      <td>https://www.reddit.com/r/legaladvice/comments/...</td>\n",
       "      <td>first ammendment rights and schools.does use o...</td>\n",
       "      <td>216</td>\n",
       "    </tr>\n",
       "    <tr>\n",
       "      <th>2</th>\n",
       "      <td>3</td>\n",
       "      <td>3</td>\n",
       "      <td>Throwawaaaaaay526289</td>\n",
       "      <td>1629570313</td>\n",
       "      <td>https://www.reddit.com/r/legaladvice/comments/...</td>\n",
       "      <td>p8wk5r</td>\n",
       "      <td>4</td>\n",
       "      <td>1629577433</td>\n",
       "      <td>Basically what the title says. I've never been...</td>\n",
       "      <td>1</td>\n",
       "      <td>Virginia - If my employer only shows a set amo...</td>\n",
       "      <td>https://www.reddit.com/r/legaladvice/comments/...</td>\n",
       "      <td>virginia   if my employer only shows a set amo...</td>\n",
       "      <td>206</td>\n",
       "    </tr>\n",
       "    <tr>\n",
       "      <th>3</th>\n",
       "      <td>4</td>\n",
       "      <td>4</td>\n",
       "      <td>unholychalice</td>\n",
       "      <td>1629570134</td>\n",
       "      <td>https://www.reddit.com/r/legaladvice/comments/...</td>\n",
       "      <td>p8wi9h</td>\n",
       "      <td>3</td>\n",
       "      <td>1629577281</td>\n",
       "      <td>Can I record with video and audio from my porc...</td>\n",
       "      <td>1</td>\n",
       "      <td>Can I record visual and audio from my front po...</td>\n",
       "      <td>https://www.reddit.com/r/legaladvice/comments/...</td>\n",
       "      <td>can i record visual and audio from my front po...</td>\n",
       "      <td>100</td>\n",
       "    </tr>\n",
       "    <tr>\n",
       "      <th>4</th>\n",
       "      <td>6</td>\n",
       "      <td>6</td>\n",
       "      <td>opsboop</td>\n",
       "      <td>1629569971</td>\n",
       "      <td>https://www.reddit.com/r/legaladvice/comments/...</td>\n",
       "      <td>p8wgjm</td>\n",
       "      <td>0</td>\n",
       "      <td>1629577141</td>\n",
       "      <td>We live on a quiet, low traffic street with ma...</td>\n",
       "      <td>1</td>\n",
       "      <td>[Va] 7 year old walking up and down the street...</td>\n",
       "      <td>https://www.reddit.com/r/legaladvice/comments/...</td>\n",
       "      <td>[va] 7 year old walking up and down the street...</td>\n",
       "      <td>78</td>\n",
       "    </tr>\n",
       "  </tbody>\n",
       "</table>\n",
       "</div>"
      ],
      "text/plain": [
       "   Unnamed: 0  index                author  created_utc  \\\n",
       "0           1      1           banksnosons   1629570605   \n",
       "1           2      2          Hangman_Matt   1629570478   \n",
       "2           3      3  Throwawaaaaaay526289   1629570313   \n",
       "3           4      4         unholychalice   1629570134   \n",
       "4           6      6               opsboop   1629569971   \n",
       "\n",
       "                                           full_link      id  num_comments  \\\n",
       "0  https://www.reddit.com/r/legaladvice/comments/...  p8wn7t             3   \n",
       "1  https://www.reddit.com/r/legaladvice/comments/...  p8wlv0            12   \n",
       "2  https://www.reddit.com/r/legaladvice/comments/...  p8wk5r             4   \n",
       "3  https://www.reddit.com/r/legaladvice/comments/...  p8wi9h             3   \n",
       "4  https://www.reddit.com/r/legaladvice/comments/...  p8wgjm             0   \n",
       "\n",
       "   retrieved_on                                           selftext  subreddit  \\\n",
       "0    1629577686  What can I do? My old neighbor witnessed the p...          1   \n",
       "1    1629577576  Does use of obscene language in school fall un...          1   \n",
       "2    1629577433  Basically what the title says. I've never been...          1   \n",
       "3    1629577281  Can I record with video and audio from my porc...          1   \n",
       "4    1629577141  We live on a quiet, low traffic street with ma...          1   \n",
       "\n",
       "                                               title  \\\n",
       "0  Package delivered to old residence, not being ...   \n",
       "1                First Ammendment rights and Schools   \n",
       "2  Virginia - If my employer only shows a set amo...   \n",
       "3  Can I record visual and audio from my front po...   \n",
       "4  [Va] 7 year old walking up and down the street...   \n",
       "\n",
       "                                                 url  \\\n",
       "0  https://www.reddit.com/r/legaladvice/comments/...   \n",
       "1  https://www.reddit.com/r/legaladvice/comments/...   \n",
       "2  https://www.reddit.com/r/legaladvice/comments/...   \n",
       "3  https://www.reddit.com/r/legaladvice/comments/...   \n",
       "4  https://www.reddit.com/r/legaladvice/comments/...   \n",
       "\n",
       "                                               posts  word_count  \n",
       "0  package delivered to old residence, not being ...          70  \n",
       "1  first ammendment rights and schools.does use o...         216  \n",
       "2  virginia   if my employer only shows a set amo...         206  \n",
       "3  can i record visual and audio from my front po...         100  \n",
       "4  [va] 7 year old walking up and down the street...          78  "
      ]
     },
     "execution_count": 4,
     "metadata": {},
     "output_type": "execute_result"
    }
   ],
   "source": [
    "reddit= pd.read_csv('./data/cleaned_reddit.csv')\n",
    "reddit.head()"
   ]
  },
  {
   "cell_type": "code",
   "execution_count": 5,
   "id": "586fdb38",
   "metadata": {},
   "outputs": [],
   "source": [
    "reddit.drop('Unnamed: 0',axis = 1, inplace = True)"
   ]
  },
  {
   "cell_type": "code",
   "execution_count": 6,
   "id": "8b211eae",
   "metadata": {},
   "outputs": [
    {
     "data": {
      "text/plain": [
       "(4642, 13)"
      ]
     },
     "execution_count": 6,
     "metadata": {},
     "output_type": "execute_result"
    }
   ],
   "source": [
    "reddit.shape"
   ]
  },
  {
   "cell_type": "code",
   "execution_count": 7,
   "id": "61cf6604",
   "metadata": {},
   "outputs": [
    {
     "data": {
      "text/plain": [
       "index           0\n",
       "author          0\n",
       "created_utc     0\n",
       "full_link       0\n",
       "id              0\n",
       "num_comments    0\n",
       "retrieved_on    0\n",
       "selftext        1\n",
       "subreddit       0\n",
       "title           0\n",
       "url             0\n",
       "posts           0\n",
       "word_count      0\n",
       "dtype: int64"
      ]
     },
     "execution_count": 7,
     "metadata": {},
     "output_type": "execute_result"
    }
   ],
   "source": [
    "reddit.isnull().sum()"
   ]
  },
  {
   "cell_type": "code",
   "execution_count": 8,
   "id": "471e9e0b",
   "metadata": {},
   "outputs": [
    {
     "data": {
      "text/plain": [
       "\"virginia   if my employer only shows a set amount of hours worked every paycheck for every employee, is that legal?.basically what the title says. i've never been given a real answer on why it's done this way. everyone's paycheck shows 86 hours on the paystub of our checks every payday regardless of what they actually worked. nobody knows the exact amount of time they've worked unless they've taken a picture of their time card and added it up themselves. i've had repeated paychecks with the exact same amount down to the change being exactly same and it's to a point where i've calculated my own hours and talked to my manager to compare every payday. however, even then i'm still unsure if it's accurate. do employers round by the hour? i can't see how this is legal and i wanna put in a complaint to someone higher than the company at this point. i've been underpaid too often, and it has been corrected each time, but this is ridiculous. i shouldn't have to play payroll every time i'm given my paycheck. it is a smaller business if that matters. 3 locations each have 15 to 25 employees and all locations are in virginia as well.\""
      ]
     },
     "execution_count": 8,
     "metadata": {},
     "output_type": "execute_result"
    }
   ],
   "source": [
    "reddit.posts[2]"
   ]
  },
  {
   "cell_type": "markdown",
   "id": "45b03748",
   "metadata": {},
   "source": [
    "## Preprocessing of Text Data"
   ]
  },
  {
   "cell_type": "markdown",
   "id": "6c1e891c",
   "metadata": {},
   "source": [
    "### Lemmatization with NLTK"
   ]
  },
  {
   "cell_type": "markdown",
   "id": "825cbe67",
   "metadata": {},
   "source": [
    "Let's include a new column in the dataframe that includes all lematized words from the corpus. "
   ]
  },
  {
   "cell_type": "code",
   "execution_count": 9,
   "id": "aa1dfb1f",
   "metadata": {},
   "outputs": [],
   "source": [
    "# instantiate\n",
    "lemmatizer = WordNetLemmatizer()\n",
    "\n",
    "reddit['lemm_posts']= reddit['posts'].apply(lambda x: ' '.join([lemmatizer.lemmatize (w) for w in word_tokenize(x)]))"
   ]
  },
  {
   "cell_type": "code",
   "execution_count": 10,
   "id": "9cd300d6",
   "metadata": {},
   "outputs": [
    {
     "data": {
      "text/html": [
       "<div>\n",
       "<style scoped>\n",
       "    .dataframe tbody tr th:only-of-type {\n",
       "        vertical-align: middle;\n",
       "    }\n",
       "\n",
       "    .dataframe tbody tr th {\n",
       "        vertical-align: top;\n",
       "    }\n",
       "\n",
       "    .dataframe thead th {\n",
       "        text-align: right;\n",
       "    }\n",
       "</style>\n",
       "<table border=\"1\" class=\"dataframe\">\n",
       "  <thead>\n",
       "    <tr style=\"text-align: right;\">\n",
       "      <th></th>\n",
       "      <th>index</th>\n",
       "      <th>author</th>\n",
       "      <th>created_utc</th>\n",
       "      <th>full_link</th>\n",
       "      <th>id</th>\n",
       "      <th>num_comments</th>\n",
       "      <th>retrieved_on</th>\n",
       "      <th>selftext</th>\n",
       "      <th>subreddit</th>\n",
       "      <th>title</th>\n",
       "      <th>url</th>\n",
       "      <th>posts</th>\n",
       "      <th>word_count</th>\n",
       "      <th>lemm_posts</th>\n",
       "    </tr>\n",
       "  </thead>\n",
       "  <tbody>\n",
       "    <tr>\n",
       "      <th>0</th>\n",
       "      <td>1</td>\n",
       "      <td>banksnosons</td>\n",
       "      <td>1629570605</td>\n",
       "      <td>https://www.reddit.com/r/legaladvice/comments/...</td>\n",
       "      <td>p8wn7t</td>\n",
       "      <td>3</td>\n",
       "      <td>1629577686</td>\n",
       "      <td>What can I do? My old neighbor witnessed the p...</td>\n",
       "      <td>1</td>\n",
       "      <td>Package delivered to old residence, not being ...</td>\n",
       "      <td>https://www.reddit.com/r/legaladvice/comments/...</td>\n",
       "      <td>package delivered to old residence, not being ...</td>\n",
       "      <td>70</td>\n",
       "      <td>package delivered to old residence , not being...</td>\n",
       "    </tr>\n",
       "    <tr>\n",
       "      <th>1</th>\n",
       "      <td>2</td>\n",
       "      <td>Hangman_Matt</td>\n",
       "      <td>1629570478</td>\n",
       "      <td>https://www.reddit.com/r/legaladvice/comments/...</td>\n",
       "      <td>p8wlv0</td>\n",
       "      <td>12</td>\n",
       "      <td>1629577576</td>\n",
       "      <td>Does use of obscene language in school fall un...</td>\n",
       "      <td>1</td>\n",
       "      <td>First Ammendment rights and Schools</td>\n",
       "      <td>https://www.reddit.com/r/legaladvice/comments/...</td>\n",
       "      <td>first ammendment rights and schools.does use o...</td>\n",
       "      <td>216</td>\n",
       "      <td>first ammendment right and schools.does use of...</td>\n",
       "    </tr>\n",
       "    <tr>\n",
       "      <th>2</th>\n",
       "      <td>3</td>\n",
       "      <td>Throwawaaaaaay526289</td>\n",
       "      <td>1629570313</td>\n",
       "      <td>https://www.reddit.com/r/legaladvice/comments/...</td>\n",
       "      <td>p8wk5r</td>\n",
       "      <td>4</td>\n",
       "      <td>1629577433</td>\n",
       "      <td>Basically what the title says. I've never been...</td>\n",
       "      <td>1</td>\n",
       "      <td>Virginia - If my employer only shows a set amo...</td>\n",
       "      <td>https://www.reddit.com/r/legaladvice/comments/...</td>\n",
       "      <td>virginia   if my employer only shows a set amo...</td>\n",
       "      <td>206</td>\n",
       "      <td>virginia if my employer only show a set amount...</td>\n",
       "    </tr>\n",
       "    <tr>\n",
       "      <th>3</th>\n",
       "      <td>4</td>\n",
       "      <td>unholychalice</td>\n",
       "      <td>1629570134</td>\n",
       "      <td>https://www.reddit.com/r/legaladvice/comments/...</td>\n",
       "      <td>p8wi9h</td>\n",
       "      <td>3</td>\n",
       "      <td>1629577281</td>\n",
       "      <td>Can I record with video and audio from my porc...</td>\n",
       "      <td>1</td>\n",
       "      <td>Can I record visual and audio from my front po...</td>\n",
       "      <td>https://www.reddit.com/r/legaladvice/comments/...</td>\n",
       "      <td>can i record visual and audio from my front po...</td>\n",
       "      <td>100</td>\n",
       "      <td>can i record visual and audio from my front po...</td>\n",
       "    </tr>\n",
       "    <tr>\n",
       "      <th>4</th>\n",
       "      <td>6</td>\n",
       "      <td>opsboop</td>\n",
       "      <td>1629569971</td>\n",
       "      <td>https://www.reddit.com/r/legaladvice/comments/...</td>\n",
       "      <td>p8wgjm</td>\n",
       "      <td>0</td>\n",
       "      <td>1629577141</td>\n",
       "      <td>We live on a quiet, low traffic street with ma...</td>\n",
       "      <td>1</td>\n",
       "      <td>[Va] 7 year old walking up and down the street...</td>\n",
       "      <td>https://www.reddit.com/r/legaladvice/comments/...</td>\n",
       "      <td>[va] 7 year old walking up and down the street...</td>\n",
       "      <td>78</td>\n",
       "      <td>[ va ] 7 year old walking up and down the stre...</td>\n",
       "    </tr>\n",
       "    <tr>\n",
       "      <th>...</th>\n",
       "      <td>...</td>\n",
       "      <td>...</td>\n",
       "      <td>...</td>\n",
       "      <td>...</td>\n",
       "      <td>...</td>\n",
       "      <td>...</td>\n",
       "      <td>...</td>\n",
       "      <td>...</td>\n",
       "      <td>...</td>\n",
       "      <td>...</td>\n",
       "      <td>...</td>\n",
       "      <td>...</td>\n",
       "      <td>...</td>\n",
       "      <td>...</td>\n",
       "    </tr>\n",
       "    <tr>\n",
       "      <th>4637</th>\n",
       "      <td>2991</td>\n",
       "      <td>the_queen_of_nada</td>\n",
       "      <td>1628067537</td>\n",
       "      <td>https://www.reddit.com/r/CasualConversation/co...</td>\n",
       "      <td>oxolvq</td>\n",
       "      <td>3</td>\n",
       "      <td>1628067547</td>\n",
       "      <td>Long story short, I grew up poor and as the yo...</td>\n",
       "      <td>0</td>\n",
       "      <td>Today I learned I don't know how to dress myself</td>\n",
       "      <td>https://www.reddit.com/r/CasualConversation/co...</td>\n",
       "      <td>today i learned i don't know how to dress myse...</td>\n",
       "      <td>553</td>\n",
       "      <td>today i learned i do n't know how to dress mys...</td>\n",
       "    </tr>\n",
       "    <tr>\n",
       "      <th>4638</th>\n",
       "      <td>2994</td>\n",
       "      <td>tacful_cactus</td>\n",
       "      <td>1628065950</td>\n",
       "      <td>https://www.reddit.com/r/CasualConversation/co...</td>\n",
       "      <td>oxo9s6</td>\n",
       "      <td>13</td>\n",
       "      <td>1628065961</td>\n",
       "      <td>My mum is the sort of person who has a lot of ...</td>\n",
       "      <td>0</td>\n",
       "      <td>My mum has figured out emojis and it sounds si...</td>\n",
       "      <td>https://www.reddit.com/r/CasualConversation/co...</td>\n",
       "      <td>my mum has figured out  s and it sounds silly ...</td>\n",
       "      <td>120</td>\n",
       "      <td>my mum ha figured out s and it sound silly but...</td>\n",
       "    </tr>\n",
       "    <tr>\n",
       "      <th>4639</th>\n",
       "      <td>2995</td>\n",
       "      <td>slasher011</td>\n",
       "      <td>1628063510</td>\n",
       "      <td>https://www.reddit.com/r/CasualConversation/co...</td>\n",
       "      <td>oxnqlq</td>\n",
       "      <td>3</td>\n",
       "      <td>1628063521</td>\n",
       "      <td>I am in an hotel wasting 11 days of my life.\\n...</td>\n",
       "      <td>0</td>\n",
       "      <td>Anyone wanna talk to Someone that’s got nothin...</td>\n",
       "      <td>https://www.reddit.com/r/CasualConversation/co...</td>\n",
       "      <td>anyone wanna talk to someone that’s got nothin...</td>\n",
       "      <td>44</td>\n",
       "      <td>anyone wan na talk to someone that ’ s got not...</td>\n",
       "    </tr>\n",
       "    <tr>\n",
       "      <th>4640</th>\n",
       "      <td>2996</td>\n",
       "      <td>dustanjhlady</td>\n",
       "      <td>1628063375</td>\n",
       "      <td>https://www.reddit.com/r/CasualConversation/co...</td>\n",
       "      <td>oxnplg</td>\n",
       "      <td>1</td>\n",
       "      <td>1628063387</td>\n",
       "      <td>So, I've made a film that was mildly successfu...</td>\n",
       "      <td>0</td>\n",
       "      <td>Making a Web Series</td>\n",
       "      <td>https://www.reddit.com/r/CasualConversation/co...</td>\n",
       "      <td>making a web series.so, i've made a film that ...</td>\n",
       "      <td>50</td>\n",
       "      <td>making a web series.so , i 've made a film tha...</td>\n",
       "    </tr>\n",
       "    <tr>\n",
       "      <th>4641</th>\n",
       "      <td>2999</td>\n",
       "      <td>infuriating_spelling</td>\n",
       "      <td>1628061964</td>\n",
       "      <td>https://www.reddit.com/r/CasualConversation/co...</td>\n",
       "      <td>oxnesf</td>\n",
       "      <td>0</td>\n",
       "      <td>1628061975</td>\n",
       "      <td>TLDR is a man of its (not many) words. I know ...</td>\n",
       "      <td>0</td>\n",
       "      <td>Just realised that TLDR does exactly what it m...</td>\n",
       "      <td>https://www.reddit.com/r/CasualConversation/co...</td>\n",
       "      <td>just realised that tldr does exactly what it m...</td>\n",
       "      <td>69</td>\n",
       "      <td>just realised that tldr doe exactly what it me...</td>\n",
       "    </tr>\n",
       "  </tbody>\n",
       "</table>\n",
       "<p>4642 rows × 14 columns</p>\n",
       "</div>"
      ],
      "text/plain": [
       "      index                author  created_utc  \\\n",
       "0         1           banksnosons   1629570605   \n",
       "1         2          Hangman_Matt   1629570478   \n",
       "2         3  Throwawaaaaaay526289   1629570313   \n",
       "3         4         unholychalice   1629570134   \n",
       "4         6               opsboop   1629569971   \n",
       "...     ...                   ...          ...   \n",
       "4637   2991     the_queen_of_nada   1628067537   \n",
       "4638   2994         tacful_cactus   1628065950   \n",
       "4639   2995            slasher011   1628063510   \n",
       "4640   2996          dustanjhlady   1628063375   \n",
       "4641   2999  infuriating_spelling   1628061964   \n",
       "\n",
       "                                              full_link      id  num_comments  \\\n",
       "0     https://www.reddit.com/r/legaladvice/comments/...  p8wn7t             3   \n",
       "1     https://www.reddit.com/r/legaladvice/comments/...  p8wlv0            12   \n",
       "2     https://www.reddit.com/r/legaladvice/comments/...  p8wk5r             4   \n",
       "3     https://www.reddit.com/r/legaladvice/comments/...  p8wi9h             3   \n",
       "4     https://www.reddit.com/r/legaladvice/comments/...  p8wgjm             0   \n",
       "...                                                 ...     ...           ...   \n",
       "4637  https://www.reddit.com/r/CasualConversation/co...  oxolvq             3   \n",
       "4638  https://www.reddit.com/r/CasualConversation/co...  oxo9s6            13   \n",
       "4639  https://www.reddit.com/r/CasualConversation/co...  oxnqlq             3   \n",
       "4640  https://www.reddit.com/r/CasualConversation/co...  oxnplg             1   \n",
       "4641  https://www.reddit.com/r/CasualConversation/co...  oxnesf             0   \n",
       "\n",
       "      retrieved_on                                           selftext  \\\n",
       "0       1629577686  What can I do? My old neighbor witnessed the p...   \n",
       "1       1629577576  Does use of obscene language in school fall un...   \n",
       "2       1629577433  Basically what the title says. I've never been...   \n",
       "3       1629577281  Can I record with video and audio from my porc...   \n",
       "4       1629577141  We live on a quiet, low traffic street with ma...   \n",
       "...            ...                                                ...   \n",
       "4637    1628067547  Long story short, I grew up poor and as the yo...   \n",
       "4638    1628065961  My mum is the sort of person who has a lot of ...   \n",
       "4639    1628063521  I am in an hotel wasting 11 days of my life.\\n...   \n",
       "4640    1628063387  So, I've made a film that was mildly successfu...   \n",
       "4641    1628061975  TLDR is a man of its (not many) words. I know ...   \n",
       "\n",
       "      subreddit                                              title  \\\n",
       "0             1  Package delivered to old residence, not being ...   \n",
       "1             1                First Ammendment rights and Schools   \n",
       "2             1  Virginia - If my employer only shows a set amo...   \n",
       "3             1  Can I record visual and audio from my front po...   \n",
       "4             1  [Va] 7 year old walking up and down the street...   \n",
       "...         ...                                                ...   \n",
       "4637          0   Today I learned I don't know how to dress myself   \n",
       "4638          0  My mum has figured out emojis and it sounds si...   \n",
       "4639          0  Anyone wanna talk to Someone that’s got nothin...   \n",
       "4640          0                                Making a Web Series   \n",
       "4641          0  Just realised that TLDR does exactly what it m...   \n",
       "\n",
       "                                                    url  \\\n",
       "0     https://www.reddit.com/r/legaladvice/comments/...   \n",
       "1     https://www.reddit.com/r/legaladvice/comments/...   \n",
       "2     https://www.reddit.com/r/legaladvice/comments/...   \n",
       "3     https://www.reddit.com/r/legaladvice/comments/...   \n",
       "4     https://www.reddit.com/r/legaladvice/comments/...   \n",
       "...                                                 ...   \n",
       "4637  https://www.reddit.com/r/CasualConversation/co...   \n",
       "4638  https://www.reddit.com/r/CasualConversation/co...   \n",
       "4639  https://www.reddit.com/r/CasualConversation/co...   \n",
       "4640  https://www.reddit.com/r/CasualConversation/co...   \n",
       "4641  https://www.reddit.com/r/CasualConversation/co...   \n",
       "\n",
       "                                                  posts  word_count  \\\n",
       "0     package delivered to old residence, not being ...          70   \n",
       "1     first ammendment rights and schools.does use o...         216   \n",
       "2     virginia   if my employer only shows a set amo...         206   \n",
       "3     can i record visual and audio from my front po...         100   \n",
       "4     [va] 7 year old walking up and down the street...          78   \n",
       "...                                                 ...         ...   \n",
       "4637  today i learned i don't know how to dress myse...         553   \n",
       "4638  my mum has figured out  s and it sounds silly ...         120   \n",
       "4639  anyone wanna talk to someone that’s got nothin...          44   \n",
       "4640  making a web series.so, i've made a film that ...          50   \n",
       "4641  just realised that tldr does exactly what it m...          69   \n",
       "\n",
       "                                             lemm_posts  \n",
       "0     package delivered to old residence , not being...  \n",
       "1     first ammendment right and schools.does use of...  \n",
       "2     virginia if my employer only show a set amount...  \n",
       "3     can i record visual and audio from my front po...  \n",
       "4     [ va ] 7 year old walking up and down the stre...  \n",
       "...                                                 ...  \n",
       "4637  today i learned i do n't know how to dress mys...  \n",
       "4638  my mum ha figured out s and it sound silly but...  \n",
       "4639  anyone wan na talk to someone that ’ s got not...  \n",
       "4640  making a web series.so , i 've made a film tha...  \n",
       "4641  just realised that tldr doe exactly what it me...  \n",
       "\n",
       "[4642 rows x 14 columns]"
      ]
     },
     "execution_count": 10,
     "metadata": {},
     "output_type": "execute_result"
    }
   ],
   "source": [
    "reddit"
   ]
  },
  {
   "cell_type": "code",
   "execution_count": 11,
   "id": "e37b7503",
   "metadata": {},
   "outputs": [],
   "source": [
    "# reddit['lemm_count'] = reddit['lemm_posts'].str.count(' ') +1 \n",
    "# reddit.head(2)"
   ]
  },
  {
   "cell_type": "code",
   "execution_count": 12,
   "id": "ba2f4b3f",
   "metadata": {
    "scrolled": true
   },
   "outputs": [],
   "source": [
    "#find noun chunks\n",
    "\n",
    "#for chunk in doc.noun_chunks:\n",
    "    #print(chunk.text)"
   ]
  },
  {
   "cell_type": "markdown",
   "id": "687821e2",
   "metadata": {},
   "source": [
    "### Stemming with NLTK "
   ]
  },
  {
   "cell_type": "markdown",
   "id": "1776abe5",
   "metadata": {},
   "source": [
    "Let's also include a new column in the dataframe that includes all stemmed words from the corpus."
   ]
  },
  {
   "cell_type": "code",
   "execution_count": 13,
   "id": "57e75a30",
   "metadata": {},
   "outputs": [],
   "source": [
    "# instantiate\n",
    "stemmer = PorterStemmer()\n",
    "\n",
    "reddit['stem_posts']= reddit['posts'].apply(lambda x: ' '.join([stemmer.stem (w) for w in word_tokenize(x)]))"
   ]
  },
  {
   "cell_type": "code",
   "execution_count": 14,
   "id": "21fb62ab",
   "metadata": {},
   "outputs": [
    {
     "data": {
      "text/html": [
       "<div>\n",
       "<style scoped>\n",
       "    .dataframe tbody tr th:only-of-type {\n",
       "        vertical-align: middle;\n",
       "    }\n",
       "\n",
       "    .dataframe tbody tr th {\n",
       "        vertical-align: top;\n",
       "    }\n",
       "\n",
       "    .dataframe thead th {\n",
       "        text-align: right;\n",
       "    }\n",
       "</style>\n",
       "<table border=\"1\" class=\"dataframe\">\n",
       "  <thead>\n",
       "    <tr style=\"text-align: right;\">\n",
       "      <th></th>\n",
       "      <th>index</th>\n",
       "      <th>author</th>\n",
       "      <th>created_utc</th>\n",
       "      <th>full_link</th>\n",
       "      <th>id</th>\n",
       "      <th>num_comments</th>\n",
       "      <th>retrieved_on</th>\n",
       "      <th>selftext</th>\n",
       "      <th>subreddit</th>\n",
       "      <th>title</th>\n",
       "      <th>url</th>\n",
       "      <th>posts</th>\n",
       "      <th>word_count</th>\n",
       "      <th>lemm_posts</th>\n",
       "      <th>stem_posts</th>\n",
       "    </tr>\n",
       "  </thead>\n",
       "  <tbody>\n",
       "    <tr>\n",
       "      <th>0</th>\n",
       "      <td>1</td>\n",
       "      <td>banksnosons</td>\n",
       "      <td>1629570605</td>\n",
       "      <td>https://www.reddit.com/r/legaladvice/comments/...</td>\n",
       "      <td>p8wn7t</td>\n",
       "      <td>3</td>\n",
       "      <td>1629577686</td>\n",
       "      <td>What can I do? My old neighbor witnessed the p...</td>\n",
       "      <td>1</td>\n",
       "      <td>Package delivered to old residence, not being ...</td>\n",
       "      <td>https://www.reddit.com/r/legaladvice/comments/...</td>\n",
       "      <td>package delivered to old residence, not being ...</td>\n",
       "      <td>70</td>\n",
       "      <td>package delivered to old residence , not being...</td>\n",
       "      <td>packag deliv to old resid , not be return by n...</td>\n",
       "    </tr>\n",
       "    <tr>\n",
       "      <th>1</th>\n",
       "      <td>2</td>\n",
       "      <td>Hangman_Matt</td>\n",
       "      <td>1629570478</td>\n",
       "      <td>https://www.reddit.com/r/legaladvice/comments/...</td>\n",
       "      <td>p8wlv0</td>\n",
       "      <td>12</td>\n",
       "      <td>1629577576</td>\n",
       "      <td>Does use of obscene language in school fall un...</td>\n",
       "      <td>1</td>\n",
       "      <td>First Ammendment rights and Schools</td>\n",
       "      <td>https://www.reddit.com/r/legaladvice/comments/...</td>\n",
       "      <td>first ammendment rights and schools.does use o...</td>\n",
       "      <td>216</td>\n",
       "      <td>first ammendment right and schools.does use of...</td>\n",
       "      <td>first ammend right and schools.do use of obsce...</td>\n",
       "    </tr>\n",
       "    <tr>\n",
       "      <th>2</th>\n",
       "      <td>3</td>\n",
       "      <td>Throwawaaaaaay526289</td>\n",
       "      <td>1629570313</td>\n",
       "      <td>https://www.reddit.com/r/legaladvice/comments/...</td>\n",
       "      <td>p8wk5r</td>\n",
       "      <td>4</td>\n",
       "      <td>1629577433</td>\n",
       "      <td>Basically what the title says. I've never been...</td>\n",
       "      <td>1</td>\n",
       "      <td>Virginia - If my employer only shows a set amo...</td>\n",
       "      <td>https://www.reddit.com/r/legaladvice/comments/...</td>\n",
       "      <td>virginia   if my employer only shows a set amo...</td>\n",
       "      <td>206</td>\n",
       "      <td>virginia if my employer only show a set amount...</td>\n",
       "      <td>virginia if my employ onli show a set amount o...</td>\n",
       "    </tr>\n",
       "    <tr>\n",
       "      <th>3</th>\n",
       "      <td>4</td>\n",
       "      <td>unholychalice</td>\n",
       "      <td>1629570134</td>\n",
       "      <td>https://www.reddit.com/r/legaladvice/comments/...</td>\n",
       "      <td>p8wi9h</td>\n",
       "      <td>3</td>\n",
       "      <td>1629577281</td>\n",
       "      <td>Can I record with video and audio from my porc...</td>\n",
       "      <td>1</td>\n",
       "      <td>Can I record visual and audio from my front po...</td>\n",
       "      <td>https://www.reddit.com/r/legaladvice/comments/...</td>\n",
       "      <td>can i record visual and audio from my front po...</td>\n",
       "      <td>100</td>\n",
       "      <td>can i record visual and audio from my front po...</td>\n",
       "      <td>can i record visual and audio from my front po...</td>\n",
       "    </tr>\n",
       "    <tr>\n",
       "      <th>4</th>\n",
       "      <td>6</td>\n",
       "      <td>opsboop</td>\n",
       "      <td>1629569971</td>\n",
       "      <td>https://www.reddit.com/r/legaladvice/comments/...</td>\n",
       "      <td>p8wgjm</td>\n",
       "      <td>0</td>\n",
       "      <td>1629577141</td>\n",
       "      <td>We live on a quiet, low traffic street with ma...</td>\n",
       "      <td>1</td>\n",
       "      <td>[Va] 7 year old walking up and down the street...</td>\n",
       "      <td>https://www.reddit.com/r/legaladvice/comments/...</td>\n",
       "      <td>[va] 7 year old walking up and down the street...</td>\n",
       "      <td>78</td>\n",
       "      <td>[ va ] 7 year old walking up and down the stre...</td>\n",
       "      <td>[ va ] 7 year old walk up and down the street ...</td>\n",
       "    </tr>\n",
       "  </tbody>\n",
       "</table>\n",
       "</div>"
      ],
      "text/plain": [
       "   index                author  created_utc  \\\n",
       "0      1           banksnosons   1629570605   \n",
       "1      2          Hangman_Matt   1629570478   \n",
       "2      3  Throwawaaaaaay526289   1629570313   \n",
       "3      4         unholychalice   1629570134   \n",
       "4      6               opsboop   1629569971   \n",
       "\n",
       "                                           full_link      id  num_comments  \\\n",
       "0  https://www.reddit.com/r/legaladvice/comments/...  p8wn7t             3   \n",
       "1  https://www.reddit.com/r/legaladvice/comments/...  p8wlv0            12   \n",
       "2  https://www.reddit.com/r/legaladvice/comments/...  p8wk5r             4   \n",
       "3  https://www.reddit.com/r/legaladvice/comments/...  p8wi9h             3   \n",
       "4  https://www.reddit.com/r/legaladvice/comments/...  p8wgjm             0   \n",
       "\n",
       "   retrieved_on                                           selftext  subreddit  \\\n",
       "0    1629577686  What can I do? My old neighbor witnessed the p...          1   \n",
       "1    1629577576  Does use of obscene language in school fall un...          1   \n",
       "2    1629577433  Basically what the title says. I've never been...          1   \n",
       "3    1629577281  Can I record with video and audio from my porc...          1   \n",
       "4    1629577141  We live on a quiet, low traffic street with ma...          1   \n",
       "\n",
       "                                               title  \\\n",
       "0  Package delivered to old residence, not being ...   \n",
       "1                First Ammendment rights and Schools   \n",
       "2  Virginia - If my employer only shows a set amo...   \n",
       "3  Can I record visual and audio from my front po...   \n",
       "4  [Va] 7 year old walking up and down the street...   \n",
       "\n",
       "                                                 url  \\\n",
       "0  https://www.reddit.com/r/legaladvice/comments/...   \n",
       "1  https://www.reddit.com/r/legaladvice/comments/...   \n",
       "2  https://www.reddit.com/r/legaladvice/comments/...   \n",
       "3  https://www.reddit.com/r/legaladvice/comments/...   \n",
       "4  https://www.reddit.com/r/legaladvice/comments/...   \n",
       "\n",
       "                                               posts  word_count  \\\n",
       "0  package delivered to old residence, not being ...          70   \n",
       "1  first ammendment rights and schools.does use o...         216   \n",
       "2  virginia   if my employer only shows a set amo...         206   \n",
       "3  can i record visual and audio from my front po...         100   \n",
       "4  [va] 7 year old walking up and down the street...          78   \n",
       "\n",
       "                                          lemm_posts  \\\n",
       "0  package delivered to old residence , not being...   \n",
       "1  first ammendment right and schools.does use of...   \n",
       "2  virginia if my employer only show a set amount...   \n",
       "3  can i record visual and audio from my front po...   \n",
       "4  [ va ] 7 year old walking up and down the stre...   \n",
       "\n",
       "                                          stem_posts  \n",
       "0  packag deliv to old resid , not be return by n...  \n",
       "1  first ammend right and schools.do use of obsce...  \n",
       "2  virginia if my employ onli show a set amount o...  \n",
       "3  can i record visual and audio from my front po...  \n",
       "4  [ va ] 7 year old walk up and down the street ...  "
      ]
     },
     "execution_count": 14,
     "metadata": {},
     "output_type": "execute_result"
    }
   ],
   "source": [
    "reddit.head()"
   ]
  },
  {
   "cell_type": "code",
   "execution_count": 15,
   "id": "77803dfa",
   "metadata": {},
   "outputs": [],
   "source": [
    "#reddit['stem_count'] = reddit['stem_posts'].str.count(' ') +1 \n",
    "#reddit.head()"
   ]
  },
  {
   "cell_type": "markdown",
   "id": "c97c92e3",
   "metadata": {},
   "source": [
    "### Term frequency - inverse document frequency (tf-idf)"
   ]
  },
  {
   "cell_type": "markdown",
   "id": "0b87150f",
   "metadata": {},
   "source": [
    "A tf-idf score tells us which words are more common in one document compared to the other. We want to identify such words and remove them as best we can in order to reduce any bias that may occur and ultimately improve the analysis and accuracy of our models. \n",
    "\n",
    "__Why Use TFIDF?__\n",
    "* Common words are penalized\n",
    "* Rare words have more influence"
   ]
  },
  {
   "cell_type": "markdown",
   "id": "e39a61bd",
   "metadata": {},
   "source": [
    "__Regular Posts__"
   ]
  },
  {
   "cell_type": "code",
   "execution_count": 16,
   "id": "8e28a921",
   "metadata": {},
   "outputs": [
    {
     "data": {
      "text/plain": [
       "TfidfVectorizer(max_df=0.9, max_features=100, min_df=0.2, stop_words='english',\n",
       "                strip_accents='ascii')"
      ]
     },
     "execution_count": 16,
     "metadata": {},
     "output_type": "execute_result"
    }
   ],
   "source": [
    "# fit the tfidf vectorizer with initial posts\n",
    "tvec_posts = TfidfVectorizer(\n",
    "                       stop_words = 'english',\n",
    "                       strip_accents = 'ascii',\n",
    "                       max_features = 100,\n",
    "                       min_df = 0.2,\n",
    "                       max_df = 0.9,\n",
    "                       norm = 'l2'\n",
    ")\n",
    "tvec_posts.fit(reddit.posts)"
   ]
  },
  {
   "cell_type": "code",
   "execution_count": 17,
   "id": "5138974a",
   "metadata": {},
   "outputs": [],
   "source": [
    "reddit_tvec_posts = pd.DataFrame(tvec_posts.transform(reddit.posts).todense(),\n",
    "                  columns = tvec_posts.get_feature_names())\n",
    "reddit_tvec_posts['subreddit']= reddit.subreddit"
   ]
  },
  {
   "cell_type": "code",
   "execution_count": 18,
   "id": "a476cb11",
   "metadata": {},
   "outputs": [
    {
     "data": {
      "text/html": [
       "<div>\n",
       "<style scoped>\n",
       "    .dataframe tbody tr th:only-of-type {\n",
       "        vertical-align: middle;\n",
       "    }\n",
       "\n",
       "    .dataframe tbody tr th {\n",
       "        vertical-align: top;\n",
       "    }\n",
       "\n",
       "    .dataframe thead th {\n",
       "        text-align: right;\n",
       "    }\n",
       "</style>\n",
       "<table border=\"1\" class=\"dataframe\">\n",
       "  <thead>\n",
       "    <tr style=\"text-align: right;\">\n",
       "      <th></th>\n",
       "      <th>got</th>\n",
       "      <th>im</th>\n",
       "      <th>just</th>\n",
       "      <th>know</th>\n",
       "      <th>like</th>\n",
       "      <th>really</th>\n",
       "      <th>time</th>\n",
       "      <th>want</th>\n",
       "      <th>work</th>\n",
       "      <th>subreddit</th>\n",
       "    </tr>\n",
       "  </thead>\n",
       "  <tbody>\n",
       "    <tr>\n",
       "      <th>0</th>\n",
       "      <td>0.000000</td>\n",
       "      <td>0.000000</td>\n",
       "      <td>0.000000</td>\n",
       "      <td>0.000000</td>\n",
       "      <td>0.000000</td>\n",
       "      <td>0.0</td>\n",
       "      <td>0.000000</td>\n",
       "      <td>0.000000</td>\n",
       "      <td>0.0</td>\n",
       "      <td>1</td>\n",
       "    </tr>\n",
       "    <tr>\n",
       "      <th>1809</th>\n",
       "      <td>0.000000</td>\n",
       "      <td>0.822526</td>\n",
       "      <td>0.568728</td>\n",
       "      <td>0.000000</td>\n",
       "      <td>0.000000</td>\n",
       "      <td>0.0</td>\n",
       "      <td>0.000000</td>\n",
       "      <td>0.000000</td>\n",
       "      <td>0.0</td>\n",
       "      <td>1</td>\n",
       "    </tr>\n",
       "    <tr>\n",
       "      <th>1801</th>\n",
       "      <td>0.891888</td>\n",
       "      <td>0.452256</td>\n",
       "      <td>0.000000</td>\n",
       "      <td>0.000000</td>\n",
       "      <td>0.000000</td>\n",
       "      <td>0.0</td>\n",
       "      <td>0.000000</td>\n",
       "      <td>0.000000</td>\n",
       "      <td>0.0</td>\n",
       "      <td>1</td>\n",
       "    </tr>\n",
       "    <tr>\n",
       "      <th>1802</th>\n",
       "      <td>0.000000</td>\n",
       "      <td>0.643899</td>\n",
       "      <td>0.445218</td>\n",
       "      <td>0.000000</td>\n",
       "      <td>0.000000</td>\n",
       "      <td>0.0</td>\n",
       "      <td>0.000000</td>\n",
       "      <td>0.622234</td>\n",
       "      <td>0.0</td>\n",
       "      <td>1</td>\n",
       "    </tr>\n",
       "    <tr>\n",
       "      <th>1803</th>\n",
       "      <td>0.000000</td>\n",
       "      <td>0.000000</td>\n",
       "      <td>0.846646</td>\n",
       "      <td>0.000000</td>\n",
       "      <td>0.000000</td>\n",
       "      <td>0.0</td>\n",
       "      <td>0.532156</td>\n",
       "      <td>0.000000</td>\n",
       "      <td>0.0</td>\n",
       "      <td>1</td>\n",
       "    </tr>\n",
       "    <tr>\n",
       "      <th>...</th>\n",
       "      <td>...</td>\n",
       "      <td>...</td>\n",
       "      <td>...</td>\n",
       "      <td>...</td>\n",
       "      <td>...</td>\n",
       "      <td>...</td>\n",
       "      <td>...</td>\n",
       "      <td>...</td>\n",
       "      <td>...</td>\n",
       "      <td>...</td>\n",
       "    </tr>\n",
       "    <tr>\n",
       "      <th>3346</th>\n",
       "      <td>0.000000</td>\n",
       "      <td>0.000000</td>\n",
       "      <td>0.000000</td>\n",
       "      <td>0.000000</td>\n",
       "      <td>1.000000</td>\n",
       "      <td>0.0</td>\n",
       "      <td>0.000000</td>\n",
       "      <td>0.000000</td>\n",
       "      <td>0.0</td>\n",
       "      <td>0</td>\n",
       "    </tr>\n",
       "    <tr>\n",
       "      <th>3345</th>\n",
       "      <td>0.000000</td>\n",
       "      <td>0.000000</td>\n",
       "      <td>0.317084</td>\n",
       "      <td>0.396537</td>\n",
       "      <td>0.738803</td>\n",
       "      <td>0.0</td>\n",
       "      <td>0.000000</td>\n",
       "      <td>0.443154</td>\n",
       "      <td>0.0</td>\n",
       "      <td>0</td>\n",
       "    </tr>\n",
       "    <tr>\n",
       "      <th>3344</th>\n",
       "      <td>0.000000</td>\n",
       "      <td>0.725767</td>\n",
       "      <td>0.501825</td>\n",
       "      <td>0.313785</td>\n",
       "      <td>0.000000</td>\n",
       "      <td>0.0</td>\n",
       "      <td>0.000000</td>\n",
       "      <td>0.350674</td>\n",
       "      <td>0.0</td>\n",
       "      <td>0</td>\n",
       "    </tr>\n",
       "    <tr>\n",
       "      <th>3343</th>\n",
       "      <td>0.000000</td>\n",
       "      <td>0.000000</td>\n",
       "      <td>0.624520</td>\n",
       "      <td>0.781009</td>\n",
       "      <td>0.000000</td>\n",
       "      <td>0.0</td>\n",
       "      <td>0.000000</td>\n",
       "      <td>0.000000</td>\n",
       "      <td>0.0</td>\n",
       "      <td>0</td>\n",
       "    </tr>\n",
       "    <tr>\n",
       "      <th>4641</th>\n",
       "      <td>0.000000</td>\n",
       "      <td>0.000000</td>\n",
       "      <td>0.246687</td>\n",
       "      <td>0.925502</td>\n",
       "      <td>0.287389</td>\n",
       "      <td>0.0</td>\n",
       "      <td>0.000000</td>\n",
       "      <td>0.000000</td>\n",
       "      <td>0.0</td>\n",
       "      <td>0</td>\n",
       "    </tr>\n",
       "  </tbody>\n",
       "</table>\n",
       "<p>4642 rows × 10 columns</p>\n",
       "</div>"
      ],
      "text/plain": [
       "           got        im      just      know      like  really      time  \\\n",
       "0     0.000000  0.000000  0.000000  0.000000  0.000000     0.0  0.000000   \n",
       "1809  0.000000  0.822526  0.568728  0.000000  0.000000     0.0  0.000000   \n",
       "1801  0.891888  0.452256  0.000000  0.000000  0.000000     0.0  0.000000   \n",
       "1802  0.000000  0.643899  0.445218  0.000000  0.000000     0.0  0.000000   \n",
       "1803  0.000000  0.000000  0.846646  0.000000  0.000000     0.0  0.532156   \n",
       "...        ...       ...       ...       ...       ...     ...       ...   \n",
       "3346  0.000000  0.000000  0.000000  0.000000  1.000000     0.0  0.000000   \n",
       "3345  0.000000  0.000000  0.317084  0.396537  0.738803     0.0  0.000000   \n",
       "3344  0.000000  0.725767  0.501825  0.313785  0.000000     0.0  0.000000   \n",
       "3343  0.000000  0.000000  0.624520  0.781009  0.000000     0.0  0.000000   \n",
       "4641  0.000000  0.000000  0.246687  0.925502  0.287389     0.0  0.000000   \n",
       "\n",
       "          want  work  subreddit  \n",
       "0     0.000000   0.0          1  \n",
       "1809  0.000000   0.0          1  \n",
       "1801  0.000000   0.0          1  \n",
       "1802  0.622234   0.0          1  \n",
       "1803  0.000000   0.0          1  \n",
       "...        ...   ...        ...  \n",
       "3346  0.000000   0.0          0  \n",
       "3345  0.443154   0.0          0  \n",
       "3344  0.350674   0.0          0  \n",
       "3343  0.000000   0.0          0  \n",
       "4641  0.000000   0.0          0  \n",
       "\n",
       "[4642 rows x 10 columns]"
      ]
     },
     "execution_count": 18,
     "metadata": {},
     "output_type": "execute_result"
    }
   ],
   "source": [
    "reddit_tvec_posts.sort_values('subreddit', ascending = False)"
   ]
  },
  {
   "cell_type": "code",
   "execution_count": 19,
   "id": "c6d0a9e8",
   "metadata": {},
   "outputs": [
    {
     "data": {
      "text/plain": [
       "1    0.583154\n",
       "0    0.416846\n",
       "Name: subreddit, dtype: float64"
      ]
     },
     "execution_count": 19,
     "metadata": {},
     "output_type": "execute_result"
    }
   ],
   "source": [
    "reddit.subreddit.value_counts(normalize = True)"
   ]
  },
  {
   "cell_type": "code",
   "execution_count": 20,
   "id": "4878d0c6",
   "metadata": {},
   "outputs": [
    {
     "data": {
      "text/plain": [
       "Index(['index', 'author', 'created_utc', 'full_link', 'id', 'num_comments',\n",
       "       'retrieved_on', 'selftext', 'subreddit', 'title', 'url', 'posts',\n",
       "       'word_count', 'lemm_posts', 'stem_posts'],\n",
       "      dtype='object')"
      ]
     },
     "execution_count": 20,
     "metadata": {},
     "output_type": "execute_result"
    }
   ],
   "source": [
    "reddit.columns"
   ]
  },
  {
   "cell_type": "markdown",
   "id": "4d4adfad",
   "metadata": {},
   "source": [
    "__Lemmatized Posts__"
   ]
  },
  {
   "cell_type": "code",
   "execution_count": 21,
   "id": "50a4afb3",
   "metadata": {},
   "outputs": [
    {
     "data": {
      "text/plain": [
       "TfidfVectorizer(max_df=0.9, max_features=100, min_df=0.2, stop_words='english',\n",
       "                strip_accents='ascii')"
      ]
     },
     "execution_count": 21,
     "metadata": {},
     "output_type": "execute_result"
    }
   ],
   "source": [
    "# fit the tfidf vectorizer with lemmatized words\n",
    "tvec_lemm_posts = TfidfVectorizer(\n",
    "                       stop_words = 'english',\n",
    "                       strip_accents = 'ascii',\n",
    "                       max_features = 100,\n",
    "                       min_df = 0.2,\n",
    "                       max_df = 0.9,\n",
    "                       norm = 'l2'\n",
    ")\n",
    "tvec_lemm_posts.fit(reddit.lemm_posts)"
   ]
  },
  {
   "cell_type": "code",
   "execution_count": 22,
   "id": "54335c36",
   "metadata": {},
   "outputs": [],
   "source": [
    "reddit_tvec_lemm_posts = pd.DataFrame(tvec_lemm_posts.transform(reddit.lemm_posts).todense(),\n",
    "                  columns = tvec_lemm_posts.get_feature_names())\n",
    "reddit_tvec_lemm_posts['subreddit']= reddit.subreddit"
   ]
  },
  {
   "cell_type": "code",
   "execution_count": 23,
   "id": "55b06c85",
   "metadata": {},
   "outputs": [
    {
     "data": {
      "text/html": [
       "<div>\n",
       "<style scoped>\n",
       "    .dataframe tbody tr th:only-of-type {\n",
       "        vertical-align: middle;\n",
       "    }\n",
       "\n",
       "    .dataframe tbody tr th {\n",
       "        vertical-align: top;\n",
       "    }\n",
       "\n",
       "    .dataframe thead th {\n",
       "        text-align: right;\n",
       "    }\n",
       "</style>\n",
       "<table border=\"1\" class=\"dataframe\">\n",
       "  <thead>\n",
       "    <tr style=\"text-align: right;\">\n",
       "      <th></th>\n",
       "      <th>day</th>\n",
       "      <th>did</th>\n",
       "      <th>got</th>\n",
       "      <th>ha</th>\n",
       "      <th>just</th>\n",
       "      <th>know</th>\n",
       "      <th>like</th>\n",
       "      <th>make</th>\n",
       "      <th>really</th>\n",
       "      <th>thing</th>\n",
       "      <th>time</th>\n",
       "      <th>ve</th>\n",
       "      <th>wa</th>\n",
       "      <th>want</th>\n",
       "      <th>work</th>\n",
       "      <th>year</th>\n",
       "      <th>subreddit</th>\n",
       "    </tr>\n",
       "  </thead>\n",
       "  <tbody>\n",
       "    <tr>\n",
       "      <th>0</th>\n",
       "      <td>0.000000</td>\n",
       "      <td>0.000000</td>\n",
       "      <td>0.0</td>\n",
       "      <td>0.00000</td>\n",
       "      <td>0.000000</td>\n",
       "      <td>0.000000</td>\n",
       "      <td>0.000000</td>\n",
       "      <td>0.00000</td>\n",
       "      <td>0.0</td>\n",
       "      <td>0.000000</td>\n",
       "      <td>0.000000</td>\n",
       "      <td>0.000000</td>\n",
       "      <td>1.000000</td>\n",
       "      <td>0.000000</td>\n",
       "      <td>0.0</td>\n",
       "      <td>0.000000</td>\n",
       "      <td>1</td>\n",
       "    </tr>\n",
       "    <tr>\n",
       "      <th>1809</th>\n",
       "      <td>0.000000</td>\n",
       "      <td>0.000000</td>\n",
       "      <td>0.0</td>\n",
       "      <td>0.00000</td>\n",
       "      <td>1.000000</td>\n",
       "      <td>0.000000</td>\n",
       "      <td>0.000000</td>\n",
       "      <td>0.00000</td>\n",
       "      <td>0.0</td>\n",
       "      <td>0.000000</td>\n",
       "      <td>0.000000</td>\n",
       "      <td>0.000000</td>\n",
       "      <td>0.000000</td>\n",
       "      <td>0.000000</td>\n",
       "      <td>0.0</td>\n",
       "      <td>0.000000</td>\n",
       "      <td>1</td>\n",
       "    </tr>\n",
       "    <tr>\n",
       "      <th>1801</th>\n",
       "      <td>0.000000</td>\n",
       "      <td>0.000000</td>\n",
       "      <td>1.0</td>\n",
       "      <td>0.00000</td>\n",
       "      <td>0.000000</td>\n",
       "      <td>0.000000</td>\n",
       "      <td>0.000000</td>\n",
       "      <td>0.00000</td>\n",
       "      <td>0.0</td>\n",
       "      <td>0.000000</td>\n",
       "      <td>0.000000</td>\n",
       "      <td>0.000000</td>\n",
       "      <td>0.000000</td>\n",
       "      <td>0.000000</td>\n",
       "      <td>0.0</td>\n",
       "      <td>0.000000</td>\n",
       "      <td>1</td>\n",
       "    </tr>\n",
       "    <tr>\n",
       "      <th>1802</th>\n",
       "      <td>0.000000</td>\n",
       "      <td>0.252868</td>\n",
       "      <td>0.0</td>\n",
       "      <td>0.22388</td>\n",
       "      <td>0.181338</td>\n",
       "      <td>0.000000</td>\n",
       "      <td>0.000000</td>\n",
       "      <td>0.00000</td>\n",
       "      <td>0.0</td>\n",
       "      <td>0.000000</td>\n",
       "      <td>0.215385</td>\n",
       "      <td>0.248428</td>\n",
       "      <td>0.828450</td>\n",
       "      <td>0.242106</td>\n",
       "      <td>0.0</td>\n",
       "      <td>0.000000</td>\n",
       "      <td>1</td>\n",
       "    </tr>\n",
       "    <tr>\n",
       "      <th>1803</th>\n",
       "      <td>0.247980</td>\n",
       "      <td>0.000000</td>\n",
       "      <td>0.0</td>\n",
       "      <td>0.00000</td>\n",
       "      <td>0.358982</td>\n",
       "      <td>0.000000</td>\n",
       "      <td>0.000000</td>\n",
       "      <td>0.00000</td>\n",
       "      <td>0.0</td>\n",
       "      <td>0.000000</td>\n",
       "      <td>0.213191</td>\n",
       "      <td>0.491795</td>\n",
       "      <td>0.164002</td>\n",
       "      <td>0.000000</td>\n",
       "      <td>0.0</td>\n",
       "      <td>0.703867</td>\n",
       "      <td>1</td>\n",
       "    </tr>\n",
       "    <tr>\n",
       "      <th>...</th>\n",
       "      <td>...</td>\n",
       "      <td>...</td>\n",
       "      <td>...</td>\n",
       "      <td>...</td>\n",
       "      <td>...</td>\n",
       "      <td>...</td>\n",
       "      <td>...</td>\n",
       "      <td>...</td>\n",
       "      <td>...</td>\n",
       "      <td>...</td>\n",
       "      <td>...</td>\n",
       "      <td>...</td>\n",
       "      <td>...</td>\n",
       "      <td>...</td>\n",
       "      <td>...</td>\n",
       "      <td>...</td>\n",
       "      <td>...</td>\n",
       "    </tr>\n",
       "    <tr>\n",
       "      <th>3346</th>\n",
       "      <td>0.000000</td>\n",
       "      <td>0.377005</td>\n",
       "      <td>0.0</td>\n",
       "      <td>0.00000</td>\n",
       "      <td>0.000000</td>\n",
       "      <td>0.000000</td>\n",
       "      <td>0.783436</td>\n",
       "      <td>0.00000</td>\n",
       "      <td>0.0</td>\n",
       "      <td>0.000000</td>\n",
       "      <td>0.000000</td>\n",
       "      <td>0.000000</td>\n",
       "      <td>0.494059</td>\n",
       "      <td>0.000000</td>\n",
       "      <td>0.0</td>\n",
       "      <td>0.000000</td>\n",
       "      <td>0</td>\n",
       "    </tr>\n",
       "    <tr>\n",
       "      <th>3345</th>\n",
       "      <td>0.214117</td>\n",
       "      <td>0.000000</td>\n",
       "      <td>0.0</td>\n",
       "      <td>0.00000</td>\n",
       "      <td>0.154980</td>\n",
       "      <td>0.190974</td>\n",
       "      <td>0.359276</td>\n",
       "      <td>0.00000</td>\n",
       "      <td>0.0</td>\n",
       "      <td>0.000000</td>\n",
       "      <td>0.000000</td>\n",
       "      <td>0.212319</td>\n",
       "      <td>0.141607</td>\n",
       "      <td>0.206916</td>\n",
       "      <td>0.0</td>\n",
       "      <td>0.810333</td>\n",
       "      <td>0</td>\n",
       "    </tr>\n",
       "    <tr>\n",
       "      <th>3344</th>\n",
       "      <td>0.000000</td>\n",
       "      <td>0.000000</td>\n",
       "      <td>0.0</td>\n",
       "      <td>0.00000</td>\n",
       "      <td>0.648899</td>\n",
       "      <td>0.399801</td>\n",
       "      <td>0.000000</td>\n",
       "      <td>0.48109</td>\n",
       "      <td>0.0</td>\n",
       "      <td>0.000000</td>\n",
       "      <td>0.000000</td>\n",
       "      <td>0.000000</td>\n",
       "      <td>0.000000</td>\n",
       "      <td>0.433176</td>\n",
       "      <td>0.0</td>\n",
       "      <td>0.000000</td>\n",
       "      <td>0</td>\n",
       "    </tr>\n",
       "    <tr>\n",
       "      <th>3343</th>\n",
       "      <td>0.000000</td>\n",
       "      <td>0.000000</td>\n",
       "      <td>0.0</td>\n",
       "      <td>0.00000</td>\n",
       "      <td>0.630138</td>\n",
       "      <td>0.776484</td>\n",
       "      <td>0.000000</td>\n",
       "      <td>0.00000</td>\n",
       "      <td>0.0</td>\n",
       "      <td>0.000000</td>\n",
       "      <td>0.000000</td>\n",
       "      <td>0.000000</td>\n",
       "      <td>0.000000</td>\n",
       "      <td>0.000000</td>\n",
       "      <td>0.0</td>\n",
       "      <td>0.000000</td>\n",
       "      <td>0</td>\n",
       "    </tr>\n",
       "    <tr>\n",
       "      <th>4641</th>\n",
       "      <td>0.000000</td>\n",
       "      <td>0.000000</td>\n",
       "      <td>0.0</td>\n",
       "      <td>0.00000</td>\n",
       "      <td>0.234626</td>\n",
       "      <td>0.867351</td>\n",
       "      <td>0.271956</td>\n",
       "      <td>0.00000</td>\n",
       "      <td>0.0</td>\n",
       "      <td>0.344518</td>\n",
       "      <td>0.000000</td>\n",
       "      <td>0.000000</td>\n",
       "      <td>0.000000</td>\n",
       "      <td>0.000000</td>\n",
       "      <td>0.0</td>\n",
       "      <td>0.000000</td>\n",
       "      <td>0</td>\n",
       "    </tr>\n",
       "  </tbody>\n",
       "</table>\n",
       "<p>4642 rows × 17 columns</p>\n",
       "</div>"
      ],
      "text/plain": [
       "           day       did  got       ha      just      know      like     make  \\\n",
       "0     0.000000  0.000000  0.0  0.00000  0.000000  0.000000  0.000000  0.00000   \n",
       "1809  0.000000  0.000000  0.0  0.00000  1.000000  0.000000  0.000000  0.00000   \n",
       "1801  0.000000  0.000000  1.0  0.00000  0.000000  0.000000  0.000000  0.00000   \n",
       "1802  0.000000  0.252868  0.0  0.22388  0.181338  0.000000  0.000000  0.00000   \n",
       "1803  0.247980  0.000000  0.0  0.00000  0.358982  0.000000  0.000000  0.00000   \n",
       "...        ...       ...  ...      ...       ...       ...       ...      ...   \n",
       "3346  0.000000  0.377005  0.0  0.00000  0.000000  0.000000  0.783436  0.00000   \n",
       "3345  0.214117  0.000000  0.0  0.00000  0.154980  0.190974  0.359276  0.00000   \n",
       "3344  0.000000  0.000000  0.0  0.00000  0.648899  0.399801  0.000000  0.48109   \n",
       "3343  0.000000  0.000000  0.0  0.00000  0.630138  0.776484  0.000000  0.00000   \n",
       "4641  0.000000  0.000000  0.0  0.00000  0.234626  0.867351  0.271956  0.00000   \n",
       "\n",
       "      really     thing      time        ve        wa      want  work  \\\n",
       "0        0.0  0.000000  0.000000  0.000000  1.000000  0.000000   0.0   \n",
       "1809     0.0  0.000000  0.000000  0.000000  0.000000  0.000000   0.0   \n",
       "1801     0.0  0.000000  0.000000  0.000000  0.000000  0.000000   0.0   \n",
       "1802     0.0  0.000000  0.215385  0.248428  0.828450  0.242106   0.0   \n",
       "1803     0.0  0.000000  0.213191  0.491795  0.164002  0.000000   0.0   \n",
       "...      ...       ...       ...       ...       ...       ...   ...   \n",
       "3346     0.0  0.000000  0.000000  0.000000  0.494059  0.000000   0.0   \n",
       "3345     0.0  0.000000  0.000000  0.212319  0.141607  0.206916   0.0   \n",
       "3344     0.0  0.000000  0.000000  0.000000  0.000000  0.433176   0.0   \n",
       "3343     0.0  0.000000  0.000000  0.000000  0.000000  0.000000   0.0   \n",
       "4641     0.0  0.344518  0.000000  0.000000  0.000000  0.000000   0.0   \n",
       "\n",
       "          year  subreddit  \n",
       "0     0.000000          1  \n",
       "1809  0.000000          1  \n",
       "1801  0.000000          1  \n",
       "1802  0.000000          1  \n",
       "1803  0.703867          1  \n",
       "...        ...        ...  \n",
       "3346  0.000000          0  \n",
       "3345  0.810333          0  \n",
       "3344  0.000000          0  \n",
       "3343  0.000000          0  \n",
       "4641  0.000000          0  \n",
       "\n",
       "[4642 rows x 17 columns]"
      ]
     },
     "execution_count": 23,
     "metadata": {},
     "output_type": "execute_result"
    }
   ],
   "source": [
    "reddit_tvec_lemm_posts.sort_values('subreddit', ascending = False)"
   ]
  },
  {
   "cell_type": "code",
   "execution_count": 24,
   "id": "b6ca421d",
   "metadata": {},
   "outputs": [
    {
     "data": {
      "text/plain": [
       "(4642, 17)"
      ]
     },
     "execution_count": 24,
     "metadata": {},
     "output_type": "execute_result"
    }
   ],
   "source": [
    "reddit_tvec_lemm_posts.shape"
   ]
  },
  {
   "cell_type": "markdown",
   "id": "1659b07e",
   "metadata": {},
   "source": [
    "__Stemmed Posts__"
   ]
  },
  {
   "cell_type": "code",
   "execution_count": 25,
   "id": "6e268c35",
   "metadata": {},
   "outputs": [
    {
     "data": {
      "text/plain": [
       "TfidfVectorizer(max_df=0.9, max_features=100, min_df=0.2, stop_words='english',\n",
       "                strip_accents='ascii')"
      ]
     },
     "execution_count": 25,
     "metadata": {},
     "output_type": "execute_result"
    }
   ],
   "source": [
    "# fit the tfidf vectorizer with stemmed words\n",
    "tvec_stem_posts = TfidfVectorizer(\n",
    "                       stop_words = 'english',\n",
    "                       strip_accents = 'ascii',\n",
    "                       max_features = 100,\n",
    "                       min_df = 0.2,\n",
    "                       max_df = 0.9,\n",
    "                       norm = 'l2'\n",
    ")\n",
    "tvec_stem_posts.fit(reddit.stem_posts)"
   ]
  },
  {
   "cell_type": "code",
   "execution_count": 26,
   "id": "98f98d38",
   "metadata": {},
   "outputs": [
    {
     "data": {
      "text/html": [
       "<div>\n",
       "<style scoped>\n",
       "    .dataframe tbody tr th:only-of-type {\n",
       "        vertical-align: middle;\n",
       "    }\n",
       "\n",
       "    .dataframe tbody tr th {\n",
       "        vertical-align: top;\n",
       "    }\n",
       "\n",
       "    .dataframe thead th {\n",
       "        text-align: right;\n",
       "    }\n",
       "</style>\n",
       "<table border=\"1\" class=\"dataframe\">\n",
       "  <thead>\n",
       "    <tr style=\"text-align: right;\">\n",
       "      <th></th>\n",
       "      <th>ani</th>\n",
       "      <th>ask</th>\n",
       "      <th>becaus</th>\n",
       "      <th>day</th>\n",
       "      <th>did</th>\n",
       "      <th>feel</th>\n",
       "      <th>got</th>\n",
       "      <th>ha</th>\n",
       "      <th>hi</th>\n",
       "      <th>just</th>\n",
       "      <th>...</th>\n",
       "      <th>say</th>\n",
       "      <th>thi</th>\n",
       "      <th>thing</th>\n",
       "      <th>time</th>\n",
       "      <th>tri</th>\n",
       "      <th>ve</th>\n",
       "      <th>wa</th>\n",
       "      <th>want</th>\n",
       "      <th>work</th>\n",
       "      <th>year</th>\n",
       "    </tr>\n",
       "  </thead>\n",
       "  <tbody>\n",
       "    <tr>\n",
       "      <th>0</th>\n",
       "      <td>0.000000</td>\n",
       "      <td>0.000000</td>\n",
       "      <td>0.000000</td>\n",
       "      <td>0.000000</td>\n",
       "      <td>0.000000</td>\n",
       "      <td>0.000000</td>\n",
       "      <td>0.000000</td>\n",
       "      <td>0.000000</td>\n",
       "      <td>0.850116</td>\n",
       "      <td>0.000000</td>\n",
       "      <td>...</td>\n",
       "      <td>0.000000</td>\n",
       "      <td>0.000000</td>\n",
       "      <td>0.000000</td>\n",
       "      <td>0.000000</td>\n",
       "      <td>0.00000</td>\n",
       "      <td>0.000000</td>\n",
       "      <td>0.526595</td>\n",
       "      <td>0.000000</td>\n",
       "      <td>0.000000</td>\n",
       "      <td>0.000000</td>\n",
       "    </tr>\n",
       "    <tr>\n",
       "      <th>1</th>\n",
       "      <td>0.000000</td>\n",
       "      <td>0.302858</td>\n",
       "      <td>0.000000</td>\n",
       "      <td>0.000000</td>\n",
       "      <td>0.000000</td>\n",
       "      <td>0.000000</td>\n",
       "      <td>0.000000</td>\n",
       "      <td>0.000000</td>\n",
       "      <td>0.303351</td>\n",
       "      <td>0.000000</td>\n",
       "      <td>...</td>\n",
       "      <td>0.000000</td>\n",
       "      <td>0.523498</td>\n",
       "      <td>0.000000</td>\n",
       "      <td>0.244013</td>\n",
       "      <td>0.00000</td>\n",
       "      <td>0.000000</td>\n",
       "      <td>0.375815</td>\n",
       "      <td>0.246494</td>\n",
       "      <td>0.000000</td>\n",
       "      <td>0.000000</td>\n",
       "    </tr>\n",
       "    <tr>\n",
       "      <th>2</th>\n",
       "      <td>0.000000</td>\n",
       "      <td>0.000000</td>\n",
       "      <td>0.000000</td>\n",
       "      <td>0.000000</td>\n",
       "      <td>0.000000</td>\n",
       "      <td>0.000000</td>\n",
       "      <td>0.000000</td>\n",
       "      <td>0.111397</td>\n",
       "      <td>0.000000</td>\n",
       "      <td>0.000000</td>\n",
       "      <td>...</td>\n",
       "      <td>0.129228</td>\n",
       "      <td>0.306580</td>\n",
       "      <td>0.000000</td>\n",
       "      <td>0.428709</td>\n",
       "      <td>0.00000</td>\n",
       "      <td>0.742852</td>\n",
       "      <td>0.000000</td>\n",
       "      <td>0.000000</td>\n",
       "      <td>0.359448</td>\n",
       "      <td>0.000000</td>\n",
       "    </tr>\n",
       "    <tr>\n",
       "      <th>3</th>\n",
       "      <td>0.000000</td>\n",
       "      <td>0.000000</td>\n",
       "      <td>0.000000</td>\n",
       "      <td>0.000000</td>\n",
       "      <td>0.000000</td>\n",
       "      <td>0.000000</td>\n",
       "      <td>0.000000</td>\n",
       "      <td>0.000000</td>\n",
       "      <td>0.000000</td>\n",
       "      <td>0.000000</td>\n",
       "      <td>...</td>\n",
       "      <td>0.000000</td>\n",
       "      <td>0.000000</td>\n",
       "      <td>0.000000</td>\n",
       "      <td>0.000000</td>\n",
       "      <td>0.00000</td>\n",
       "      <td>0.000000</td>\n",
       "      <td>0.000000</td>\n",
       "      <td>0.000000</td>\n",
       "      <td>0.000000</td>\n",
       "      <td>0.000000</td>\n",
       "    </tr>\n",
       "    <tr>\n",
       "      <th>4</th>\n",
       "      <td>0.000000</td>\n",
       "      <td>0.000000</td>\n",
       "      <td>0.000000</td>\n",
       "      <td>0.000000</td>\n",
       "      <td>0.000000</td>\n",
       "      <td>0.000000</td>\n",
       "      <td>0.000000</td>\n",
       "      <td>0.000000</td>\n",
       "      <td>0.491346</td>\n",
       "      <td>0.000000</td>\n",
       "      <td>...</td>\n",
       "      <td>0.000000</td>\n",
       "      <td>0.000000</td>\n",
       "      <td>0.000000</td>\n",
       "      <td>0.000000</td>\n",
       "      <td>0.00000</td>\n",
       "      <td>0.000000</td>\n",
       "      <td>0.000000</td>\n",
       "      <td>0.000000</td>\n",
       "      <td>0.000000</td>\n",
       "      <td>0.870964</td>\n",
       "    </tr>\n",
       "    <tr>\n",
       "      <th>...</th>\n",
       "      <td>...</td>\n",
       "      <td>...</td>\n",
       "      <td>...</td>\n",
       "      <td>...</td>\n",
       "      <td>...</td>\n",
       "      <td>...</td>\n",
       "      <td>...</td>\n",
       "      <td>...</td>\n",
       "      <td>...</td>\n",
       "      <td>...</td>\n",
       "      <td>...</td>\n",
       "      <td>...</td>\n",
       "      <td>...</td>\n",
       "      <td>...</td>\n",
       "      <td>...</td>\n",
       "      <td>...</td>\n",
       "      <td>...</td>\n",
       "      <td>...</td>\n",
       "      <td>...</td>\n",
       "      <td>...</td>\n",
       "      <td>...</td>\n",
       "    </tr>\n",
       "    <tr>\n",
       "      <th>4637</th>\n",
       "      <td>0.000000</td>\n",
       "      <td>0.000000</td>\n",
       "      <td>0.249721</td>\n",
       "      <td>0.000000</td>\n",
       "      <td>0.069793</td>\n",
       "      <td>0.141929</td>\n",
       "      <td>0.070992</td>\n",
       "      <td>0.061694</td>\n",
       "      <td>0.000000</td>\n",
       "      <td>0.200202</td>\n",
       "      <td>...</td>\n",
       "      <td>0.000000</td>\n",
       "      <td>0.169790</td>\n",
       "      <td>0.000000</td>\n",
       "      <td>0.000000</td>\n",
       "      <td>0.07168</td>\n",
       "      <td>0.137135</td>\n",
       "      <td>0.548508</td>\n",
       "      <td>0.059960</td>\n",
       "      <td>0.066356</td>\n",
       "      <td>0.065401</td>\n",
       "    </tr>\n",
       "    <tr>\n",
       "      <th>4638</th>\n",
       "      <td>0.167722</td>\n",
       "      <td>0.000000</td>\n",
       "      <td>0.171667</td>\n",
       "      <td>0.000000</td>\n",
       "      <td>0.000000</td>\n",
       "      <td>0.390270</td>\n",
       "      <td>0.000000</td>\n",
       "      <td>0.508928</td>\n",
       "      <td>0.000000</td>\n",
       "      <td>0.000000</td>\n",
       "      <td>...</td>\n",
       "      <td>0.590390</td>\n",
       "      <td>0.116720</td>\n",
       "      <td>0.000000</td>\n",
       "      <td>0.000000</td>\n",
       "      <td>0.00000</td>\n",
       "      <td>0.000000</td>\n",
       "      <td>0.000000</td>\n",
       "      <td>0.000000</td>\n",
       "      <td>0.000000</td>\n",
       "      <td>0.000000</td>\n",
       "    </tr>\n",
       "    <tr>\n",
       "      <th>4639</th>\n",
       "      <td>0.000000</td>\n",
       "      <td>0.000000</td>\n",
       "      <td>0.000000</td>\n",
       "      <td>0.411763</td>\n",
       "      <td>0.000000</td>\n",
       "      <td>0.000000</td>\n",
       "      <td>0.846106</td>\n",
       "      <td>0.000000</td>\n",
       "      <td>0.000000</td>\n",
       "      <td>0.000000</td>\n",
       "      <td>...</td>\n",
       "      <td>0.000000</td>\n",
       "      <td>0.000000</td>\n",
       "      <td>0.000000</td>\n",
       "      <td>0.000000</td>\n",
       "      <td>0.00000</td>\n",
       "      <td>0.000000</td>\n",
       "      <td>0.000000</td>\n",
       "      <td>0.000000</td>\n",
       "      <td>0.000000</td>\n",
       "      <td>0.000000</td>\n",
       "    </tr>\n",
       "    <tr>\n",
       "      <th>4640</th>\n",
       "      <td>0.000000</td>\n",
       "      <td>0.000000</td>\n",
       "      <td>0.000000</td>\n",
       "      <td>0.000000</td>\n",
       "      <td>0.000000</td>\n",
       "      <td>0.000000</td>\n",
       "      <td>0.000000</td>\n",
       "      <td>0.000000</td>\n",
       "      <td>0.000000</td>\n",
       "      <td>0.000000</td>\n",
       "      <td>...</td>\n",
       "      <td>0.000000</td>\n",
       "      <td>0.000000</td>\n",
       "      <td>0.280056</td>\n",
       "      <td>0.000000</td>\n",
       "      <td>0.00000</td>\n",
       "      <td>0.783550</td>\n",
       "      <td>0.174112</td>\n",
       "      <td>0.000000</td>\n",
       "      <td>0.000000</td>\n",
       "      <td>0.000000</td>\n",
       "    </tr>\n",
       "    <tr>\n",
       "      <th>4641</th>\n",
       "      <td>0.500723</td>\n",
       "      <td>0.000000</td>\n",
       "      <td>0.000000</td>\n",
       "      <td>0.000000</td>\n",
       "      <td>0.000000</td>\n",
       "      <td>0.000000</td>\n",
       "      <td>0.000000</td>\n",
       "      <td>0.000000</td>\n",
       "      <td>0.000000</td>\n",
       "      <td>0.205436</td>\n",
       "      <td>...</td>\n",
       "      <td>0.000000</td>\n",
       "      <td>0.000000</td>\n",
       "      <td>0.301778</td>\n",
       "      <td>0.000000</td>\n",
       "      <td>0.00000</td>\n",
       "      <td>0.000000</td>\n",
       "      <td>0.000000</td>\n",
       "      <td>0.000000</td>\n",
       "      <td>0.000000</td>\n",
       "      <td>0.000000</td>\n",
       "    </tr>\n",
       "  </tbody>\n",
       "</table>\n",
       "<p>4642 rows × 25 columns</p>\n",
       "</div>"
      ],
      "text/plain": [
       "           ani       ask    becaus       day       did      feel       got  \\\n",
       "0     0.000000  0.000000  0.000000  0.000000  0.000000  0.000000  0.000000   \n",
       "1     0.000000  0.302858  0.000000  0.000000  0.000000  0.000000  0.000000   \n",
       "2     0.000000  0.000000  0.000000  0.000000  0.000000  0.000000  0.000000   \n",
       "3     0.000000  0.000000  0.000000  0.000000  0.000000  0.000000  0.000000   \n",
       "4     0.000000  0.000000  0.000000  0.000000  0.000000  0.000000  0.000000   \n",
       "...        ...       ...       ...       ...       ...       ...       ...   \n",
       "4637  0.000000  0.000000  0.249721  0.000000  0.069793  0.141929  0.070992   \n",
       "4638  0.167722  0.000000  0.171667  0.000000  0.000000  0.390270  0.000000   \n",
       "4639  0.000000  0.000000  0.000000  0.411763  0.000000  0.000000  0.846106   \n",
       "4640  0.000000  0.000000  0.000000  0.000000  0.000000  0.000000  0.000000   \n",
       "4641  0.500723  0.000000  0.000000  0.000000  0.000000  0.000000  0.000000   \n",
       "\n",
       "            ha        hi      just  ...       say       thi     thing  \\\n",
       "0     0.000000  0.850116  0.000000  ...  0.000000  0.000000  0.000000   \n",
       "1     0.000000  0.303351  0.000000  ...  0.000000  0.523498  0.000000   \n",
       "2     0.111397  0.000000  0.000000  ...  0.129228  0.306580  0.000000   \n",
       "3     0.000000  0.000000  0.000000  ...  0.000000  0.000000  0.000000   \n",
       "4     0.000000  0.491346  0.000000  ...  0.000000  0.000000  0.000000   \n",
       "...        ...       ...       ...  ...       ...       ...       ...   \n",
       "4637  0.061694  0.000000  0.200202  ...  0.000000  0.169790  0.000000   \n",
       "4638  0.508928  0.000000  0.000000  ...  0.590390  0.116720  0.000000   \n",
       "4639  0.000000  0.000000  0.000000  ...  0.000000  0.000000  0.000000   \n",
       "4640  0.000000  0.000000  0.000000  ...  0.000000  0.000000  0.280056   \n",
       "4641  0.000000  0.000000  0.205436  ...  0.000000  0.000000  0.301778   \n",
       "\n",
       "          time      tri        ve        wa      want      work      year  \n",
       "0     0.000000  0.00000  0.000000  0.526595  0.000000  0.000000  0.000000  \n",
       "1     0.244013  0.00000  0.000000  0.375815  0.246494  0.000000  0.000000  \n",
       "2     0.428709  0.00000  0.742852  0.000000  0.000000  0.359448  0.000000  \n",
       "3     0.000000  0.00000  0.000000  0.000000  0.000000  0.000000  0.000000  \n",
       "4     0.000000  0.00000  0.000000  0.000000  0.000000  0.000000  0.870964  \n",
       "...        ...      ...       ...       ...       ...       ...       ...  \n",
       "4637  0.000000  0.07168  0.137135  0.548508  0.059960  0.066356  0.065401  \n",
       "4638  0.000000  0.00000  0.000000  0.000000  0.000000  0.000000  0.000000  \n",
       "4639  0.000000  0.00000  0.000000  0.000000  0.000000  0.000000  0.000000  \n",
       "4640  0.000000  0.00000  0.783550  0.174112  0.000000  0.000000  0.000000  \n",
       "4641  0.000000  0.00000  0.000000  0.000000  0.000000  0.000000  0.000000  \n",
       "\n",
       "[4642 rows x 25 columns]"
      ]
     },
     "execution_count": 26,
     "metadata": {},
     "output_type": "execute_result"
    }
   ],
   "source": [
    "reddit_tvec_stem_posts = pd.DataFrame(tvec_stem_posts.transform(reddit.stem_posts).todense(),\n",
    "                  columns = tvec_stem_posts.get_feature_names())\n",
    "            \n",
    "\n",
    "reddit_tvec_stem_posts"
   ]
  },
  {
   "cell_type": "code",
   "execution_count": 27,
   "id": "3d68e1f0",
   "metadata": {},
   "outputs": [
    {
     "data": {
      "text/plain": [
       "(4642, 25)"
      ]
     },
     "execution_count": 27,
     "metadata": {},
     "output_type": "execute_result"
    }
   ],
   "source": [
    "reddit_tvec_stem_posts.shape"
   ]
  },
  {
   "cell_type": "markdown",
   "id": "3a27a48f",
   "metadata": {},
   "source": [
    "## Modeling "
   ]
  },
  {
   "cell_type": "markdown",
   "id": "b4e2c822",
   "metadata": {},
   "source": [
    "With our reddit posts preprocessed by tokenizing, lemmatizing, and stemming our text. we are ready to build our models and evaluate accordingly. "
   ]
  },
  {
   "cell_type": "markdown",
   "id": "5923aaa5",
   "metadata": {},
   "source": [
    "__Modeling__\n",
    "* Build Logistic Regression and Random Forest models to predict text type and accurately predict whether the post belongs to the legal advice or casual conversation subrredits. \n",
    "* Examine the performance of the model."
   ]
  },
  {
   "cell_type": "markdown",
   "id": "da751f91",
   "metadata": {},
   "source": [
    "__Logistic regression using raw posts.__"
   ]
  },
  {
   "cell_type": "code",
   "execution_count": 28,
   "id": "6e0121dc",
   "metadata": {},
   "outputs": [],
   "source": [
    "# Set up X and y\n",
    "X = reddit_tvec_posts\n",
    "y = reddit['subreddit']\n",
    "\n",
    "#Train/Split \n",
    "X_train, X_test, y_train, y_test = train_test_split(X, y, random_state = 123)"
   ]
  },
  {
   "cell_type": "markdown",
   "id": "8f670821",
   "metadata": {},
   "source": [
    "### Baseline "
   ]
  },
  {
   "cell_type": "code",
   "execution_count": 29,
   "id": "d160fa1a",
   "metadata": {},
   "outputs": [
    {
     "data": {
      "text/plain": [
       "1    0.583154\n",
       "0    0.416846\n",
       "Name: subreddit, dtype: float64"
      ]
     },
     "execution_count": 29,
     "metadata": {},
     "output_type": "execute_result"
    }
   ],
   "source": [
    "y.value_counts(normalize = True)"
   ]
  },
  {
   "cell_type": "code",
   "execution_count": 30,
   "id": "19395955",
   "metadata": {},
   "outputs": [],
   "source": [
    "# Instantiate model\n",
    "logreg = LogisticRegression(solver = 'newton-cg')"
   ]
  },
  {
   "cell_type": "code",
   "execution_count": 31,
   "id": "693ff325",
   "metadata": {},
   "outputs": [
    {
     "data": {
      "text/plain": [
       "LogisticRegression(solver='newton-cg')"
      ]
     },
     "execution_count": 31,
     "metadata": {},
     "output_type": "execute_result"
    }
   ],
   "source": [
    "# Fit the model\n",
    "logreg.fit(X_train, y_train)"
   ]
  },
  {
   "cell_type": "code",
   "execution_count": 32,
   "id": "af9ce5b1",
   "metadata": {},
   "outputs": [
    {
     "data": {
      "text/plain": [
       "1.0"
      ]
     },
     "execution_count": 32,
     "metadata": {},
     "output_type": "execute_result"
    }
   ],
   "source": [
    "# training accuracy\n",
    "logreg.score(X_train, y_train)"
   ]
  },
  {
   "cell_type": "code",
   "execution_count": 33,
   "id": "84c847d4",
   "metadata": {},
   "outputs": [
    {
     "data": {
      "text/plain": [
       "1.0"
      ]
     },
     "execution_count": 33,
     "metadata": {},
     "output_type": "execute_result"
    }
   ],
   "source": [
    "# testing accuracy\n",
    "logreg.score(X_test, y_test)"
   ]
  },
  {
   "cell_type": "code",
   "execution_count": 34,
   "id": "b415f643",
   "metadata": {},
   "outputs": [
    {
     "data": {
      "text/plain": [
       "array([[ 0.16387418, -0.08238412, -0.32008035,  0.08692989, -0.45727091,\n",
       "        -0.41170602,  0.01225952,  0.0891018 ,  0.23435185, 10.14722229]])"
      ]
     },
     "execution_count": 34,
     "metadata": {},
     "output_type": "execute_result"
    }
   ],
   "source": [
    "logreg.coef_"
   ]
  },
  {
   "cell_type": "code",
   "execution_count": 35,
   "id": "cb6bf268",
   "metadata": {},
   "outputs": [
    {
     "data": {
      "text/plain": [
       "array([[0.99255271, 0.00744729],\n",
       "       [0.00747093, 0.99252907],\n",
       "       [0.99497406, 0.00502594],\n",
       "       ...,\n",
       "       [0.99151072, 0.00848928],\n",
       "       [0.99506703, 0.00493297],\n",
       "       [0.99386125, 0.00613875]])"
      ]
     },
     "execution_count": 35,
     "metadata": {},
     "output_type": "execute_result"
    }
   ],
   "source": [
    "# Predicted probabilities for test set\n",
    "logreg.predict_proba(X_test)"
   ]
  },
  {
   "cell_type": "code",
   "execution_count": 36,
   "id": "0c7e66cf",
   "metadata": {},
   "outputs": [],
   "source": [
    "# Predictions for test set\n",
    "pred = logreg.predict(X_test)"
   ]
  },
  {
   "cell_type": "markdown",
   "id": "94086b4a",
   "metadata": {},
   "source": [
    "__Reminder:__ \n",
    " * Casual conversation subreddits = __'0'__\n",
    " * Legal Advice subreddits = __'1'__"
   ]
  },
  {
   "cell_type": "code",
   "execution_count": 37,
   "id": "6b20e50e",
   "metadata": {},
   "outputs": [
    {
     "data": {
      "image/png": "[encoded data removed]",
      "text/plain": [
       "<Figure size 432x288 with 2 Axes>"
      ]
     },
     "metadata": {
      "needs_background": "light"
     },
     "output_type": "display_data"
    }
   ],
   "source": [
    "metrics.plot_confusion_matrix(logreg, X_test, y_test, cmap='Blues', \n",
    "                      values_format='d', display_labels=['casual', 'legal']);"
   ]
  },
  {
   "cell_type": "markdown",
   "id": "bb7d7dfb",
   "metadata": {},
   "source": [
    "__Results:__\n",
    "    \n",
    "* We see a __true negative__ value, correctly predicted that the post IS NOT a legal advice subreddit, for 481 posts.\n",
    "* We see a __true positive__ value, correctly predicted that the post IS a legal advice subreddit, for 680 posts. "
   ]
  },
  {
   "cell_type": "code",
   "execution_count": 38,
   "id": "2b27496c",
   "metadata": {},
   "outputs": [],
   "source": [
    "#tn, fp, fn, tp"
   ]
  },
  {
   "cell_type": "code",
   "execution_count": 39,
   "id": "ad426e92",
   "metadata": {},
   "outputs": [],
   "source": [
    "# cm= confusion_matrix(y_test,pred)\n",
    "# df_cm = pd.DataFrame(\n",
    "# cm,index = ['tn','fp'], columns=['fn','fp']\n",
    "# )\n",
    "# df_cm.head()"
   ]
  },
  {
   "cell_type": "code",
   "execution_count": 40,
   "id": "428a7994",
   "metadata": {},
   "outputs": [],
   "source": [
    "#plot_confusion_matrix(logreg, X_test, y_test)"
   ]
  },
  {
   "cell_type": "markdown",
   "id": "120a2ba2",
   "metadata": {},
   "source": [
    "__Logistic regression model using lemmatized words__"
   ]
  },
  {
   "cell_type": "code",
   "execution_count": 41,
   "id": "84332557",
   "metadata": {},
   "outputs": [],
   "source": [
    "# Set up X and y lemmatized words\n",
    "X = reddit_tvec_lemm_posts\n",
    "y = reddit['subreddit']\n",
    "\n",
    "#Train/Split \n",
    "X_train, X_test, y_train, y_test = train_test_split(X, y, random_state = 123)"
   ]
  },
  {
   "cell_type": "markdown",
   "id": "f99c1c10",
   "metadata": {},
   "source": [
    "__Baseline__"
   ]
  },
  {
   "cell_type": "code",
   "execution_count": 42,
   "id": "4bff3258",
   "metadata": {},
   "outputs": [
    {
     "data": {
      "text/plain": [
       "1    0.583154\n",
       "0    0.416846\n",
       "Name: subreddit, dtype: float64"
      ]
     },
     "execution_count": 42,
     "metadata": {},
     "output_type": "execute_result"
    }
   ],
   "source": [
    "y.value_counts(normalize = True)"
   ]
  },
  {
   "cell_type": "code",
   "execution_count": 43,
   "id": "f61cebc5",
   "metadata": {},
   "outputs": [
    {
     "data": {
      "text/plain": [
       "LogisticRegression(solver='newton-cg')"
      ]
     },
     "execution_count": 43,
     "metadata": {},
     "output_type": "execute_result"
    }
   ],
   "source": [
    "# Instantiate model\n",
    "logreg_lemm = LogisticRegression(solver = 'newton-cg')\n",
    "# Fit the model\n",
    "logreg_lemm.fit(X_train, y_train)"
   ]
  },
  {
   "cell_type": "code",
   "execution_count": 44,
   "id": "86906e7b",
   "metadata": {},
   "outputs": [
    {
     "data": {
      "text/plain": [
       "1.0"
      ]
     },
     "execution_count": 44,
     "metadata": {},
     "output_type": "execute_result"
    }
   ],
   "source": [
    "# training accuracy\n",
    "logreg_lemm.score(X_train, y_train)"
   ]
  },
  {
   "cell_type": "code",
   "execution_count": 45,
   "id": "66b70823",
   "metadata": {},
   "outputs": [
    {
     "data": {
      "text/plain": [
       "1.0"
      ]
     },
     "execution_count": 45,
     "metadata": {},
     "output_type": "execute_result"
    }
   ],
   "source": [
    "# testing accuracy\n",
    "logreg_lemm.score(X_test, y_test)"
   ]
  },
  {
   "cell_type": "code",
   "execution_count": 47,
   "id": "08ef6e96",
   "metadata": {},
   "outputs": [
    {
     "data": {
      "image/png": "[encoded data removed]",
      "text/plain": [
       "<Figure size 432x288 with 2 Axes>"
      ]
     },
     "metadata": {
      "needs_background": "light"
     },
     "output_type": "display_data"
    }
   ],
   "source": [
    "metrics.plot_confusion_matrix(logreg_lemm, X_test, y_test, cmap='Greens', \n",
    "                      values_format='d', display_labels=['casual', 'legal']);"
   ]
  },
  {
   "cell_type": "code",
   "execution_count": 49,
   "id": "1c893804",
   "metadata": {},
   "outputs": [],
   "source": [
    "#plot_confusion_matrix(logreg_lemm, X_test, y_test)"
   ]
  },
  {
   "cell_type": "markdown",
   "id": "2156efd6",
   "metadata": {},
   "source": [
    "__Logistic regression model using stemmed words__"
   ]
  },
  {
   "cell_type": "code",
   "execution_count": 50,
   "id": "cf858948",
   "metadata": {},
   "outputs": [],
   "source": [
    "# Set up X and y stemmed words\n",
    "X = reddit_tvec_stem_posts\n",
    "y = reddit['subreddit']\n",
    "\n",
    "#Train/Split \n",
    "X_train, X_test, y_train, y_test = train_test_split(X, y, random_state = 123)"
   ]
  },
  {
   "cell_type": "markdown",
   "id": "8d425998",
   "metadata": {},
   "source": [
    "__Baseline__"
   ]
  },
  {
   "cell_type": "code",
   "execution_count": 51,
   "id": "a6b40daa",
   "metadata": {},
   "outputs": [
    {
     "data": {
      "text/plain": [
       "1    0.583154\n",
       "0    0.416846\n",
       "Name: subreddit, dtype: float64"
      ]
     },
     "execution_count": 51,
     "metadata": {},
     "output_type": "execute_result"
    }
   ],
   "source": [
    "y.value_counts(normalize = True)"
   ]
  },
  {
   "cell_type": "code",
   "execution_count": 52,
   "id": "9e586bed",
   "metadata": {},
   "outputs": [
    {
     "data": {
      "text/plain": [
       "LogisticRegression(solver='newton-cg')"
      ]
     },
     "execution_count": 52,
     "metadata": {},
     "output_type": "execute_result"
    }
   ],
   "source": [
    "# Instantiate model\n",
    "logreg_stem = LogisticRegression(solver = 'newton-cg')\n",
    "# Fit the model\n",
    "logreg_stem.fit(X_train, y_train)"
   ]
  },
  {
   "cell_type": "code",
   "execution_count": 53,
   "id": "ef1a1576",
   "metadata": {},
   "outputs": [
    {
     "data": {
      "text/plain": [
       "0.7710428037920138"
      ]
     },
     "execution_count": 53,
     "metadata": {},
     "output_type": "execute_result"
    }
   ],
   "source": [
    "# training accuracy\n",
    "logreg_stem.score(X_train, y_train)"
   ]
  },
  {
   "cell_type": "code",
   "execution_count": 54,
   "id": "460294d7",
   "metadata": {},
   "outputs": [
    {
     "data": {
      "text/plain": [
       "0.7631352282515074"
      ]
     },
     "execution_count": 54,
     "metadata": {},
     "output_type": "execute_result"
    }
   ],
   "source": [
    "# testing accuracy\n",
    "logreg_stem.score(X_test, y_test)"
   ]
  },
  {
   "cell_type": "code",
   "execution_count": 57,
   "id": "13fb87ce",
   "metadata": {},
   "outputs": [
    {
     "data": {
      "image/png": "[encoded data removed]",
      "text/plain": [
       "<Figure size 432x288 with 2 Axes>"
      ]
     },
     "metadata": {
      "needs_background": "light"
     },
     "output_type": "display_data"
    }
   ],
   "source": [
    "metrics.plot_confusion_matrix(logreg_stem, X_test, y_test, cmap='Purples', \n",
    "                      values_format='d', display_labels=['casual', 'legal']);"
   ]
  },
  {
   "cell_type": "code",
   "execution_count": null,
   "id": "7e9c2c8c",
   "metadata": {},
   "outputs": [],
   "source": [
    "__Results:__\n",
    "\n",
    "We see a true negative value, correctly predicted that the post IS NOT a legal advice subreddit, for 481 posts.\n",
    "We see a true positive value, correctly predicted that the post IS a legal advice subreddit, for 680 posts."
   ]
  },
  {
   "cell_type": "code",
   "execution_count": 58,
   "id": "10fa2e99",
   "metadata": {},
   "outputs": [],
   "source": [
    "#plot_confusion_matrix(logreg_stem, X_test, y_test)"
   ]
  },
  {
   "cell_type": "markdown",
   "id": "c868c33c",
   "metadata": {},
   "source": [
    "### Train/Test split "
   ]
  },
  {
   "cell_type": "code",
   "execution_count": null,
   "id": "b977a440",
   "metadata": {},
   "outputs": [],
   "source": [
    "X_train, X_test, y_train, y_test = train_test_split(X, y, random_state =123)"
   ]
  },
  {
   "cell_type": "markdown",
   "id": "1df03fb3",
   "metadata": {},
   "source": [
    "### Pipeline "
   ]
  },
  {
   "cell_type": "code",
   "execution_count": null,
   "id": "be1abc65",
   "metadata": {},
   "outputs": [],
   "source": [
    "pipe = Pipeline ([\n",
    "    ('tvec', TfidfVectorizer()), \n",
    "    ('lr', LogisticRegression())\n",
    "    #('rf', RandomForestClassifier())\n",
    "])"
   ]
  },
  {
   "cell_type": "markdown",
   "id": "2838828b",
   "metadata": {},
   "source": [
    "## GridSearchCV "
   ]
  },
  {
   "cell_type": "code",
   "execution_count": null,
   "id": "06a55984",
   "metadata": {},
   "outputs": [],
   "source": [
    "#tokenizer = C"
   ]
  },
  {
   "cell_type": "code",
   "execution_count": null,
   "id": "579b820f",
   "metadata": {},
   "outputs": [],
   "source": [
    "#params = {\n",
    "    'tvec__stop_words': ['english'],\n",
    "    'tvec__strip_accents': ['ascii'],\n",
    "    'tvec__max_features': [200],\n",
    "    #'tvec__norm': ['l2'],\n",
    "    'tvec__max_df': [0.8],\n",
    "    'tvec__min_df': [0.2],\n",
    "    'tvec__binary': ['False']\n",
    "    \n",
    "}\n",
    "#gs = GridSearchCV(pipe, param_grid = params)\n",
    "#gs.fit(X_train, y_train)\n",
    "#print(gs.best_score_)\n",
    "#gs.best_params_"
   ]
  },
  {
   "cell_type": "code",
   "execution_count": null,
   "id": "20a87789",
   "metadata": {},
   "outputs": [],
   "source": [
    "gs.score(X_test, y_test)"
   ]
  },
  {
   "cell_type": "markdown",
   "id": "0d2df0ad",
   "metadata": {},
   "source": [
    "### Model Evaluation "
   ]
  },
  {
   "cell_type": "markdown",
   "id": "898a0dc5",
   "metadata": {},
   "source": [
    "__confusion matrix__"
   ]
  },
  {
   "cell_type": "code",
   "execution_count": null,
   "id": "fc573eb1",
   "metadata": {},
   "outputs": [],
   "source": [
    "pred = gs.predict(X_test)\n",
    "pred"
   ]
  },
  {
   "cell_type": "code",
   "execution_count": null,
   "id": "a09d72f2",
   "metadata": {},
   "outputs": [],
   "source": [
    "(pred != y_test.values).mean()"
   ]
  },
  {
   "cell_type": "code",
   "execution_count": null,
   "id": "a6a3b8db",
   "metadata": {},
   "outputs": [],
   "source": [
    "X_test[(pred != y_test.values)]"
   ]
  },
  {
   "cell_type": "markdown",
   "id": "a247777c",
   "metadata": {},
   "source": [
    "### Random Forest Modeling"
   ]
  },
  {
   "cell_type": "markdown",
   "id": "c3b5b2d6",
   "metadata": {},
   "source": [
    "__Random Forest using raw posts__"
   ]
  },
  {
   "cell_type": "code",
   "execution_count": 59,
   "id": "412bced4",
   "metadata": {},
   "outputs": [],
   "source": [
    "#Set up X and y\n",
    "X = reddit_tvec_posts\n",
    "y = reddit['subreddit']\n",
    "\n",
    "#Train/Split \n",
    "X_train, X_test, y_train, y_test = train_test_split(X, y, random_state = 123, stratify=y)"
   ]
  },
  {
   "cell_type": "code",
   "execution_count": 60,
   "id": "8262e0ee",
   "metadata": {},
   "outputs": [],
   "source": [
    "rf = RandomForestClassifier(n_estimators=100)"
   ]
  },
  {
   "cell_type": "code",
   "execution_count": 61,
   "id": "9f4cdc7b",
   "metadata": {},
   "outputs": [
    {
     "data": {
      "text/plain": [
       "1.0"
      ]
     },
     "execution_count": 61,
     "metadata": {},
     "output_type": "execute_result"
    }
   ],
   "source": [
    "cross_val_score(rf, X_train, y_train, cv=5).mean()"
   ]
  },
  {
   "cell_type": "code",
   "execution_count": 62,
   "id": "5fd58aaa",
   "metadata": {},
   "outputs": [
    {
     "name": "stdout",
     "output_type": "stream",
     "text": [
      "1.0\n"
     ]
    },
    {
     "data": {
      "text/plain": [
       "{'max_depth': None, 'n_estimators': 100}"
      ]
     },
     "execution_count": 62,
     "metadata": {},
     "output_type": "execute_result"
    }
   ],
   "source": [
    "#Grid Search to identify the bext parameters to use. \n",
    "rf_params = {\n",
    "    'n_estimators': [100, 150, 200],\n",
    "    'max_depth': [None, 1, 2, 3, 4, 5],\n",
    "}\n",
    "gs = GridSearchCV(rf, param_grid=rf_params, cv=5)\n",
    "gs.fit(X_train, y_train)\n",
    "print(gs.best_score_)\n",
    "gs.best_params_"
   ]
  },
  {
   "cell_type": "code",
   "execution_count": 63,
   "id": "0cf55c73",
   "metadata": {},
   "outputs": [
    {
     "data": {
      "text/plain": [
       "1.0"
      ]
     },
     "execution_count": 63,
     "metadata": {},
     "output_type": "execute_result"
    }
   ],
   "source": [
    "gs.score(X_train, y_train)"
   ]
  },
  {
   "cell_type": "markdown",
   "id": "8879af4b",
   "metadata": {},
   "source": [
    "__Random Forest using lemmatized posts__"
   ]
  },
  {
   "cell_type": "code",
   "execution_count": 67,
   "id": "f81f8f37",
   "metadata": {},
   "outputs": [],
   "source": [
    "#Set up X and y\n",
    "X_lemm = reddit_tvec_lemm_posts\n",
    "y_lemm = reddit['subreddit']\n",
    "\n",
    "#Train/Split \n",
    "X_train, X_test, y_train, y_test = train_test_split(X_lemm, y_lemm, random_state = 123, stratify=y)"
   ]
  },
  {
   "cell_type": "code",
   "execution_count": 68,
   "id": "8262e0ee",
   "metadata": {},
   "outputs": [],
   "source": [
    "rf = RandomForestClassifier(n_estimators=100)"
   ]
  },
  {
   "cell_type": "code",
   "execution_count": 69,
   "id": "9f4cdc7b",
   "metadata": {},
   "outputs": [
    {
     "data": {
      "text/plain": [
       "1.0"
      ]
     },
     "execution_count": 69,
     "metadata": {},
     "output_type": "execute_result"
    }
   ],
   "source": [
    "cross_val_score(rf, X_train, y_train, cv=5).mean()"
   ]
  },
  {
   "cell_type": "code",
   "execution_count": 70,
   "id": "5fd58aaa",
   "metadata": {},
   "outputs": [
    {
     "name": "stdout",
     "output_type": "stream",
     "text": [
      "1.0\n"
     ]
    },
    {
     "data": {
      "text/plain": [
       "{'max_depth': None, 'n_estimators': 100}"
      ]
     },
     "execution_count": 70,
     "metadata": {},
     "output_type": "execute_result"
    }
   ],
   "source": [
    "#Grid Search to identify the bext parameters to use. \n",
    "rf_params = {\n",
    "    'n_estimators': [100, 150, 200],\n",
    "    'max_depth': [None, 1, 2, 3, 4, 5],\n",
    "}\n",
    "gs = GridSearchCV(rf, param_grid=rf_params, cv=5)\n",
    "gs.fit(X_train, y_train)\n",
    "print(gs.best_score_)\n",
    "gs.best_params_"
   ]
  },
  {
   "cell_type": "code",
   "execution_count": 71,
   "id": "0cf55c73",
   "metadata": {},
   "outputs": [
    {
     "data": {
      "text/plain": [
       "1.0"
      ]
     },
     "execution_count": 71,
     "metadata": {},
     "output_type": "execute_result"
    }
   ],
   "source": [
    "gs.score(X_train, y_train)"
   ]
  },
  {
   "cell_type": "markdown",
   "id": "44cd32bc",
   "metadata": {},
   "source": [
    "__Random Forest using stemmed posts__"
   ]
  },
  {
   "cell_type": "code",
   "execution_count": 72,
   "id": "fda5c2ca",
   "metadata": {},
   "outputs": [],
   "source": [
    "#Set up X and y\n",
    "X_stem = reddit_tvec_stem_posts\n",
    "y_stem = reddit['subreddit']\n",
    "\n",
    "#Train/Split \n",
    "X_train, X_test, y_train, y_test = train_test_split(X_stem, y_stem, random_state = 123, stratify=y)"
   ]
  },
  {
   "cell_type": "code",
   "execution_count": 73,
   "id": "09f83dff",
   "metadata": {},
   "outputs": [],
   "source": [
    "rf = RandomForestClassifier(n_estimators=100)"
   ]
  },
  {
   "cell_type": "code",
   "execution_count": 74,
   "id": "2f372bdd",
   "metadata": {},
   "outputs": [
    {
     "data": {
      "text/plain": [
       "0.7624321806098386"
      ]
     },
     "execution_count": 74,
     "metadata": {},
     "output_type": "execute_result"
    }
   ],
   "source": [
    "cross_val_score(rf, X_train, y_train, cv=5).mean()"
   ]
  },
  {
   "cell_type": "code",
   "execution_count": null,
   "id": "96dd211a",
   "metadata": {},
   "outputs": [],
   "source": [
    "#Grid Search to identify the bext parameters to use. \n",
    "rf_params = {\n",
    "    'n_estimators': [100, 150, 200],\n",
    "    'max_depth': [None, 1, 2, 3, 4, 5],\n",
    "}\n",
    "gs = GridSearchCV(rf, param_grid=rf_params, cv=5)\n",
    "gs.fit(X_train, y_train)\n",
    "print(gs.best_score_)\n",
    "gs.best_params_"
   ]
  },
  {
   "cell_type": "code",
   "execution_count": null,
   "id": "696e6fbb",
   "metadata": {},
   "outputs": [],
   "source": [
    "gs.score(X_train, y_train)"
   ]
  }
 ],
 "metadata": {
  "kernelspec": {
   "display_name": "Python 3",
   "language": "python",
   "name": "python3"
  },
  "language_info": {
   "codemirror_mode": {
    "name": "ipython",
    "version": 3
   },
   "file_extension": ".py",
   "mimetype": "text/x-python",
   "name": "python",
   "nbconvert_exporter": "python",
   "pygments_lexer": "ipython3",
   "version": "3.8.8"
  }
 },
 "nbformat": 4,
 "nbformat_minor": 5
}
