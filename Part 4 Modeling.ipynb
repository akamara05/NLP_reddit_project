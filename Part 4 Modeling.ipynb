{
 "cells": [
  {
   "cell_type": "markdown",
   "id": "f869450a",
   "metadata": {},
   "source": [
    "This notebook aims to further preprocess the subreddit text data and subsequently model the data to observe whether or not the models utilized accurately classify each post as either a legal advice subrreddit or a  casual conversation subeddit. \n",
    "\n",
    "* __Part 4a:__ Stemming and Lemmatizing\n",
    "* __Part 4b:__  Modeling; Logistic Regression and Random Forest"
   ]
  },
  {
   "cell_type": "markdown",
   "id": "fdf90bd9",
   "metadata": {},
   "source": [
    "__Imports__"
   ]
  },
  {
   "cell_type": "code",
   "execution_count": 1,
   "id": "5ad4fe07",
   "metadata": {},
   "outputs": [],
   "source": [
    "import pandas as pd\n",
    "import numpy as np\n",
    "from collections import Counter\n",
    "\n",
    "from sklearn.feature_extraction.text import TfidfVectorizer\n",
    "\n",
    "import spacy\n",
    "\n",
    "import nltk\n",
    "from nltk.stem.porter import *\n",
    "from nltk.stem import PorterStemmer\n",
    "from nltk.tokenize import word_tokenize \n",
    "from nltk.stem import WordNetLemmatizer\n",
    "\n",
    "from sklearn.linear_model import LogisticRegression\n",
    "from sklearn.model_selection import cross_val_score, train_test_split, GridSearchCV\n",
    "from sklearn.metrics import plot_confusion_matrix\n",
    "from sklearn.metrics import confusion_matrix\n",
    "from sklearn.ensemble import RandomForestClassifier, ExtraTreesClassifier\n",
    "from sklearn.pipeline import Pipeline\n",
    "import sklearn.metrics as metrics"
   ]
  },
  {
   "cell_type": "markdown",
   "id": "880f6e58",
   "metadata": {},
   "source": [
    "__Reading in the Data__"
   ]
  },
  {
   "cell_type": "code",
   "execution_count": 2,
   "id": "ac5b6c0e",
   "metadata": {},
   "outputs": [
    {
     "data": {
      "text/html": [
       "<div>\n",
       "<style scoped>\n",
       "    .dataframe tbody tr th:only-of-type {\n",
       "        vertical-align: middle;\n",
       "    }\n",
       "\n",
       "    .dataframe tbody tr th {\n",
       "        vertical-align: top;\n",
       "    }\n",
       "\n",
       "    .dataframe thead th {\n",
       "        text-align: right;\n",
       "    }\n",
       "</style>\n",
       "<table border=\"1\" class=\"dataframe\">\n",
       "  <thead>\n",
       "    <tr style=\"text-align: right;\">\n",
       "      <th></th>\n",
       "      <th>Unnamed: 0</th>\n",
       "      <th>index</th>\n",
       "      <th>author</th>\n",
       "      <th>created_utc</th>\n",
       "      <th>full_link</th>\n",
       "      <th>id</th>\n",
       "      <th>num_comments</th>\n",
       "      <th>retrieved_on</th>\n",
       "      <th>selftext</th>\n",
       "      <th>subreddit</th>\n",
       "      <th>title</th>\n",
       "      <th>url</th>\n",
       "      <th>posts</th>\n",
       "      <th>word_count</th>\n",
       "    </tr>\n",
       "  </thead>\n",
       "  <tbody>\n",
       "    <tr>\n",
       "      <th>0</th>\n",
       "      <td>1</td>\n",
       "      <td>1</td>\n",
       "      <td>banksnosons</td>\n",
       "      <td>1629570605</td>\n",
       "      <td>https://www.reddit.com/r/legaladvice/comments/...</td>\n",
       "      <td>p8wn7t</td>\n",
       "      <td>3</td>\n",
       "      <td>1629577686</td>\n",
       "      <td>What can I do? My old neighbor witnessed the p...</td>\n",
       "      <td>1</td>\n",
       "      <td>Package delivered to old residence, not being ...</td>\n",
       "      <td>https://www.reddit.com/r/legaladvice/comments/...</td>\n",
       "      <td>package delivered to old residence, not being ...</td>\n",
       "      <td>70</td>\n",
       "    </tr>\n",
       "    <tr>\n",
       "      <th>1</th>\n",
       "      <td>2</td>\n",
       "      <td>2</td>\n",
       "      <td>Hangman_Matt</td>\n",
       "      <td>1629570478</td>\n",
       "      <td>https://www.reddit.com/r/legaladvice/comments/...</td>\n",
       "      <td>p8wlv0</td>\n",
       "      <td>12</td>\n",
       "      <td>1629577576</td>\n",
       "      <td>Does use of obscene language in school fall un...</td>\n",
       "      <td>1</td>\n",
       "      <td>First Ammendment rights and Schools</td>\n",
       "      <td>https://www.reddit.com/r/legaladvice/comments/...</td>\n",
       "      <td>first ammendment rights and schools.does use o...</td>\n",
       "      <td>216</td>\n",
       "    </tr>\n",
       "    <tr>\n",
       "      <th>2</th>\n",
       "      <td>3</td>\n",
       "      <td>3</td>\n",
       "      <td>Throwawaaaaaay526289</td>\n",
       "      <td>1629570313</td>\n",
       "      <td>https://www.reddit.com/r/legaladvice/comments/...</td>\n",
       "      <td>p8wk5r</td>\n",
       "      <td>4</td>\n",
       "      <td>1629577433</td>\n",
       "      <td>Basically what the title says. I've never been...</td>\n",
       "      <td>1</td>\n",
       "      <td>Virginia - If my employer only shows a set amo...</td>\n",
       "      <td>https://www.reddit.com/r/legaladvice/comments/...</td>\n",
       "      <td>virginia   if my employer only shows a set amo...</td>\n",
       "      <td>206</td>\n",
       "    </tr>\n",
       "    <tr>\n",
       "      <th>3</th>\n",
       "      <td>4</td>\n",
       "      <td>4</td>\n",
       "      <td>unholychalice</td>\n",
       "      <td>1629570134</td>\n",
       "      <td>https://www.reddit.com/r/legaladvice/comments/...</td>\n",
       "      <td>p8wi9h</td>\n",
       "      <td>3</td>\n",
       "      <td>1629577281</td>\n",
       "      <td>Can I record with video and audio from my porc...</td>\n",
       "      <td>1</td>\n",
       "      <td>Can I record visual and audio from my front po...</td>\n",
       "      <td>https://www.reddit.com/r/legaladvice/comments/...</td>\n",
       "      <td>can i record visual and audio from my front po...</td>\n",
       "      <td>100</td>\n",
       "    </tr>\n",
       "    <tr>\n",
       "      <th>4</th>\n",
       "      <td>6</td>\n",
       "      <td>6</td>\n",
       "      <td>opsboop</td>\n",
       "      <td>1629569971</td>\n",
       "      <td>https://www.reddit.com/r/legaladvice/comments/...</td>\n",
       "      <td>p8wgjm</td>\n",
       "      <td>0</td>\n",
       "      <td>1629577141</td>\n",
       "      <td>We live on a quiet, low traffic street with ma...</td>\n",
       "      <td>1</td>\n",
       "      <td>[Va] 7 year old walking up and down the street...</td>\n",
       "      <td>https://www.reddit.com/r/legaladvice/comments/...</td>\n",
       "      <td>[va] 7 year old walking up and down the street...</td>\n",
       "      <td>78</td>\n",
       "    </tr>\n",
       "  </tbody>\n",
       "</table>\n",
       "</div>"
      ],
      "text/plain": [
       "   Unnamed: 0  index                author  created_utc  \\\n",
       "0           1      1           banksnosons   1629570605   \n",
       "1           2      2          Hangman_Matt   1629570478   \n",
       "2           3      3  Throwawaaaaaay526289   1629570313   \n",
       "3           4      4         unholychalice   1629570134   \n",
       "4           6      6               opsboop   1629569971   \n",
       "\n",
       "                                           full_link      id  num_comments  \\\n",
       "0  https://www.reddit.com/r/legaladvice/comments/...  p8wn7t             3   \n",
       "1  https://www.reddit.com/r/legaladvice/comments/...  p8wlv0            12   \n",
       "2  https://www.reddit.com/r/legaladvice/comments/...  p8wk5r             4   \n",
       "3  https://www.reddit.com/r/legaladvice/comments/...  p8wi9h             3   \n",
       "4  https://www.reddit.com/r/legaladvice/comments/...  p8wgjm             0   \n",
       "\n",
       "   retrieved_on                                           selftext  subreddit  \\\n",
       "0    1629577686  What can I do? My old neighbor witnessed the p...          1   \n",
       "1    1629577576  Does use of obscene language in school fall un...          1   \n",
       "2    1629577433  Basically what the title says. I've never been...          1   \n",
       "3    1629577281  Can I record with video and audio from my porc...          1   \n",
       "4    1629577141  We live on a quiet, low traffic street with ma...          1   \n",
       "\n",
       "                                               title  \\\n",
       "0  Package delivered to old residence, not being ...   \n",
       "1                First Ammendment rights and Schools   \n",
       "2  Virginia - If my employer only shows a set amo...   \n",
       "3  Can I record visual and audio from my front po...   \n",
       "4  [Va] 7 year old walking up and down the street...   \n",
       "\n",
       "                                                 url  \\\n",
       "0  https://www.reddit.com/r/legaladvice/comments/...   \n",
       "1  https://www.reddit.com/r/legaladvice/comments/...   \n",
       "2  https://www.reddit.com/r/legaladvice/comments/...   \n",
       "3  https://www.reddit.com/r/legaladvice/comments/...   \n",
       "4  https://www.reddit.com/r/legaladvice/comments/...   \n",
       "\n",
       "                                               posts  word_count  \n",
       "0  package delivered to old residence, not being ...          70  \n",
       "1  first ammendment rights and schools.does use o...         216  \n",
       "2  virginia   if my employer only shows a set amo...         206  \n",
       "3  can i record visual and audio from my front po...         100  \n",
       "4  [va] 7 year old walking up and down the street...          78  "
      ]
     },
     "execution_count": 2,
     "metadata": {},
     "output_type": "execute_result"
    }
   ],
   "source": [
    "reddit= pd.read_csv('./data/cleaned_reddit.csv')\n",
    "reddit.head()"
   ]
  },
  {
   "cell_type": "code",
   "execution_count": 3,
   "id": "586fdb38",
   "metadata": {},
   "outputs": [],
   "source": [
    "reddit.drop('Unnamed: 0',axis = 1, inplace = True)"
   ]
  },
  {
   "cell_type": "code",
   "execution_count": 4,
   "id": "8b211eae",
   "metadata": {},
   "outputs": [
    {
     "data": {
      "text/plain": [
       "(4642, 13)"
      ]
     },
     "execution_count": 4,
     "metadata": {},
     "output_type": "execute_result"
    }
   ],
   "source": [
    "reddit.shape"
   ]
  },
  {
   "cell_type": "code",
   "execution_count": 5,
   "id": "61cf6604",
   "metadata": {},
   "outputs": [
    {
     "data": {
      "text/plain": [
       "index           0\n",
       "author          0\n",
       "created_utc     0\n",
       "full_link       0\n",
       "id              0\n",
       "num_comments    0\n",
       "retrieved_on    0\n",
       "selftext        1\n",
       "subreddit       0\n",
       "title           0\n",
       "url             0\n",
       "posts           0\n",
       "word_count      0\n",
       "dtype: int64"
      ]
     },
     "execution_count": 5,
     "metadata": {},
     "output_type": "execute_result"
    }
   ],
   "source": [
    "reddit.isnull().sum()"
   ]
  },
  {
   "cell_type": "code",
   "execution_count": 6,
   "id": "471e9e0b",
   "metadata": {},
   "outputs": [
    {
     "data": {
      "text/plain": [
       "\"virginia   if my employer only shows a set amount of hours worked every paycheck for every employee, is that legal?.basically what the title says. i've never been given a real answer on why it's done this way. everyone's paycheck shows 86 hours on the paystub of our checks every payday regardless of what they actually worked. nobody knows the exact amount of time they've worked unless they've taken a picture of their time card and added it up themselves. i've had repeated paychecks with the exact same amount down to the change being exactly same and it's to a point where i've calculated my own hours and talked to my manager to compare every payday. however, even then i'm still unsure if it's accurate. do employers round by the hour? i can't see how this is legal and i wanna put in a complaint to someone higher than the company at this point. i've been underpaid too often, and it has been corrected each time, but this is ridiculous. i shouldn't have to play payroll every time i'm given my paycheck. it is a smaller business if that matters. 3 locations each have 15 to 25 employees and all locations are in virginia as well.\""
      ]
     },
     "execution_count": 6,
     "metadata": {},
     "output_type": "execute_result"
    }
   ],
   "source": [
    "reddit.posts[2]"
   ]
  },
  {
   "cell_type": "markdown",
   "id": "45b03748",
   "metadata": {},
   "source": [
    "## Part 4a: Preprocessing of Text Data"
   ]
  },
  {
   "cell_type": "markdown",
   "id": "6c1e891c",
   "metadata": {},
   "source": [
    "### Lemmatization with NLTK"
   ]
  },
  {
   "cell_type": "markdown",
   "id": "825cbe67",
   "metadata": {},
   "source": [
    "Let's include a new column in the dataframe that includes all lematized words from the corpus. "
   ]
  },
  {
   "cell_type": "code",
   "execution_count": 7,
   "id": "aa1dfb1f",
   "metadata": {},
   "outputs": [],
   "source": [
    "# instantiate\n",
    "lemmatizer = WordNetLemmatizer()\n",
    "\n",
    "reddit['lemm_posts']= reddit['posts'].apply(lambda x: ' '.join([lemmatizer.lemmatize (w) for w in word_tokenize(x)]))"
   ]
  },
  {
   "cell_type": "code",
   "execution_count": 8,
   "id": "9cd300d6",
   "metadata": {},
   "outputs": [
    {
     "data": {
      "text/html": [
       "<div>\n",
       "<style scoped>\n",
       "    .dataframe tbody tr th:only-of-type {\n",
       "        vertical-align: middle;\n",
       "    }\n",
       "\n",
       "    .dataframe tbody tr th {\n",
       "        vertical-align: top;\n",
       "    }\n",
       "\n",
       "    .dataframe thead th {\n",
       "        text-align: right;\n",
       "    }\n",
       "</style>\n",
       "<table border=\"1\" class=\"dataframe\">\n",
       "  <thead>\n",
       "    <tr style=\"text-align: right;\">\n",
       "      <th></th>\n",
       "      <th>index</th>\n",
       "      <th>author</th>\n",
       "      <th>created_utc</th>\n",
       "      <th>full_link</th>\n",
       "      <th>id</th>\n",
       "      <th>num_comments</th>\n",
       "      <th>retrieved_on</th>\n",
       "      <th>selftext</th>\n",
       "      <th>subreddit</th>\n",
       "      <th>title</th>\n",
       "      <th>url</th>\n",
       "      <th>posts</th>\n",
       "      <th>word_count</th>\n",
       "      <th>lemm_posts</th>\n",
       "    </tr>\n",
       "  </thead>\n",
       "  <tbody>\n",
       "    <tr>\n",
       "      <th>0</th>\n",
       "      <td>1</td>\n",
       "      <td>banksnosons</td>\n",
       "      <td>1629570605</td>\n",
       "      <td>https://www.reddit.com/r/legaladvice/comments/...</td>\n",
       "      <td>p8wn7t</td>\n",
       "      <td>3</td>\n",
       "      <td>1629577686</td>\n",
       "      <td>What can I do? My old neighbor witnessed the p...</td>\n",
       "      <td>1</td>\n",
       "      <td>Package delivered to old residence, not being ...</td>\n",
       "      <td>https://www.reddit.com/r/legaladvice/comments/...</td>\n",
       "      <td>package delivered to old residence, not being ...</td>\n",
       "      <td>70</td>\n",
       "      <td>package delivered to old residence , not being...</td>\n",
       "    </tr>\n",
       "    <tr>\n",
       "      <th>1</th>\n",
       "      <td>2</td>\n",
       "      <td>Hangman_Matt</td>\n",
       "      <td>1629570478</td>\n",
       "      <td>https://www.reddit.com/r/legaladvice/comments/...</td>\n",
       "      <td>p8wlv0</td>\n",
       "      <td>12</td>\n",
       "      <td>1629577576</td>\n",
       "      <td>Does use of obscene language in school fall un...</td>\n",
       "      <td>1</td>\n",
       "      <td>First Ammendment rights and Schools</td>\n",
       "      <td>https://www.reddit.com/r/legaladvice/comments/...</td>\n",
       "      <td>first ammendment rights and schools.does use o...</td>\n",
       "      <td>216</td>\n",
       "      <td>first ammendment right and schools.does use of...</td>\n",
       "    </tr>\n",
       "    <tr>\n",
       "      <th>2</th>\n",
       "      <td>3</td>\n",
       "      <td>Throwawaaaaaay526289</td>\n",
       "      <td>1629570313</td>\n",
       "      <td>https://www.reddit.com/r/legaladvice/comments/...</td>\n",
       "      <td>p8wk5r</td>\n",
       "      <td>4</td>\n",
       "      <td>1629577433</td>\n",
       "      <td>Basically what the title says. I've never been...</td>\n",
       "      <td>1</td>\n",
       "      <td>Virginia - If my employer only shows a set amo...</td>\n",
       "      <td>https://www.reddit.com/r/legaladvice/comments/...</td>\n",
       "      <td>virginia   if my employer only shows a set amo...</td>\n",
       "      <td>206</td>\n",
       "      <td>virginia if my employer only show a set amount...</td>\n",
       "    </tr>\n",
       "    <tr>\n",
       "      <th>3</th>\n",
       "      <td>4</td>\n",
       "      <td>unholychalice</td>\n",
       "      <td>1629570134</td>\n",
       "      <td>https://www.reddit.com/r/legaladvice/comments/...</td>\n",
       "      <td>p8wi9h</td>\n",
       "      <td>3</td>\n",
       "      <td>1629577281</td>\n",
       "      <td>Can I record with video and audio from my porc...</td>\n",
       "      <td>1</td>\n",
       "      <td>Can I record visual and audio from my front po...</td>\n",
       "      <td>https://www.reddit.com/r/legaladvice/comments/...</td>\n",
       "      <td>can i record visual and audio from my front po...</td>\n",
       "      <td>100</td>\n",
       "      <td>can i record visual and audio from my front po...</td>\n",
       "    </tr>\n",
       "    <tr>\n",
       "      <th>4</th>\n",
       "      <td>6</td>\n",
       "      <td>opsboop</td>\n",
       "      <td>1629569971</td>\n",
       "      <td>https://www.reddit.com/r/legaladvice/comments/...</td>\n",
       "      <td>p8wgjm</td>\n",
       "      <td>0</td>\n",
       "      <td>1629577141</td>\n",
       "      <td>We live on a quiet, low traffic street with ma...</td>\n",
       "      <td>1</td>\n",
       "      <td>[Va] 7 year old walking up and down the street...</td>\n",
       "      <td>https://www.reddit.com/r/legaladvice/comments/...</td>\n",
       "      <td>[va] 7 year old walking up and down the street...</td>\n",
       "      <td>78</td>\n",
       "      <td>[ va ] 7 year old walking up and down the stre...</td>\n",
       "    </tr>\n",
       "    <tr>\n",
       "      <th>...</th>\n",
       "      <td>...</td>\n",
       "      <td>...</td>\n",
       "      <td>...</td>\n",
       "      <td>...</td>\n",
       "      <td>...</td>\n",
       "      <td>...</td>\n",
       "      <td>...</td>\n",
       "      <td>...</td>\n",
       "      <td>...</td>\n",
       "      <td>...</td>\n",
       "      <td>...</td>\n",
       "      <td>...</td>\n",
       "      <td>...</td>\n",
       "      <td>...</td>\n",
       "    </tr>\n",
       "    <tr>\n",
       "      <th>4637</th>\n",
       "      <td>2991</td>\n",
       "      <td>the_queen_of_nada</td>\n",
       "      <td>1628067537</td>\n",
       "      <td>https://www.reddit.com/r/CasualConversation/co...</td>\n",
       "      <td>oxolvq</td>\n",
       "      <td>3</td>\n",
       "      <td>1628067547</td>\n",
       "      <td>Long story short, I grew up poor and as the yo...</td>\n",
       "      <td>0</td>\n",
       "      <td>Today I learned I don't know how to dress myself</td>\n",
       "      <td>https://www.reddit.com/r/CasualConversation/co...</td>\n",
       "      <td>today i learned i don't know how to dress myse...</td>\n",
       "      <td>553</td>\n",
       "      <td>today i learned i do n't know how to dress mys...</td>\n",
       "    </tr>\n",
       "    <tr>\n",
       "      <th>4638</th>\n",
       "      <td>2994</td>\n",
       "      <td>tacful_cactus</td>\n",
       "      <td>1628065950</td>\n",
       "      <td>https://www.reddit.com/r/CasualConversation/co...</td>\n",
       "      <td>oxo9s6</td>\n",
       "      <td>13</td>\n",
       "      <td>1628065961</td>\n",
       "      <td>My mum is the sort of person who has a lot of ...</td>\n",
       "      <td>0</td>\n",
       "      <td>My mum has figured out emojis and it sounds si...</td>\n",
       "      <td>https://www.reddit.com/r/CasualConversation/co...</td>\n",
       "      <td>my mum has figured out  s and it sounds silly ...</td>\n",
       "      <td>120</td>\n",
       "      <td>my mum ha figured out s and it sound silly but...</td>\n",
       "    </tr>\n",
       "    <tr>\n",
       "      <th>4639</th>\n",
       "      <td>2995</td>\n",
       "      <td>slasher011</td>\n",
       "      <td>1628063510</td>\n",
       "      <td>https://www.reddit.com/r/CasualConversation/co...</td>\n",
       "      <td>oxnqlq</td>\n",
       "      <td>3</td>\n",
       "      <td>1628063521</td>\n",
       "      <td>I am in an hotel wasting 11 days of my life.\\n...</td>\n",
       "      <td>0</td>\n",
       "      <td>Anyone wanna talk to Someone that’s got nothin...</td>\n",
       "      <td>https://www.reddit.com/r/CasualConversation/co...</td>\n",
       "      <td>anyone wanna talk to someone that’s got nothin...</td>\n",
       "      <td>44</td>\n",
       "      <td>anyone wan na talk to someone that ’ s got not...</td>\n",
       "    </tr>\n",
       "    <tr>\n",
       "      <th>4640</th>\n",
       "      <td>2996</td>\n",
       "      <td>dustanjhlady</td>\n",
       "      <td>1628063375</td>\n",
       "      <td>https://www.reddit.com/r/CasualConversation/co...</td>\n",
       "      <td>oxnplg</td>\n",
       "      <td>1</td>\n",
       "      <td>1628063387</td>\n",
       "      <td>So, I've made a film that was mildly successfu...</td>\n",
       "      <td>0</td>\n",
       "      <td>Making a Web Series</td>\n",
       "      <td>https://www.reddit.com/r/CasualConversation/co...</td>\n",
       "      <td>making a web series.so, i've made a film that ...</td>\n",
       "      <td>50</td>\n",
       "      <td>making a web series.so , i 've made a film tha...</td>\n",
       "    </tr>\n",
       "    <tr>\n",
       "      <th>4641</th>\n",
       "      <td>2999</td>\n",
       "      <td>infuriating_spelling</td>\n",
       "      <td>1628061964</td>\n",
       "      <td>https://www.reddit.com/r/CasualConversation/co...</td>\n",
       "      <td>oxnesf</td>\n",
       "      <td>0</td>\n",
       "      <td>1628061975</td>\n",
       "      <td>TLDR is a man of its (not many) words. I know ...</td>\n",
       "      <td>0</td>\n",
       "      <td>Just realised that TLDR does exactly what it m...</td>\n",
       "      <td>https://www.reddit.com/r/CasualConversation/co...</td>\n",
       "      <td>just realised that tldr does exactly what it m...</td>\n",
       "      <td>69</td>\n",
       "      <td>just realised that tldr doe exactly what it me...</td>\n",
       "    </tr>\n",
       "  </tbody>\n",
       "</table>\n",
       "<p>4642 rows × 14 columns</p>\n",
       "</div>"
      ],
      "text/plain": [
       "      index                author  created_utc  \\\n",
       "0         1           banksnosons   1629570605   \n",
       "1         2          Hangman_Matt   1629570478   \n",
       "2         3  Throwawaaaaaay526289   1629570313   \n",
       "3         4         unholychalice   1629570134   \n",
       "4         6               opsboop   1629569971   \n",
       "...     ...                   ...          ...   \n",
       "4637   2991     the_queen_of_nada   1628067537   \n",
       "4638   2994         tacful_cactus   1628065950   \n",
       "4639   2995            slasher011   1628063510   \n",
       "4640   2996          dustanjhlady   1628063375   \n",
       "4641   2999  infuriating_spelling   1628061964   \n",
       "\n",
       "                                              full_link      id  num_comments  \\\n",
       "0     https://www.reddit.com/r/legaladvice/comments/...  p8wn7t             3   \n",
       "1     https://www.reddit.com/r/legaladvice/comments/...  p8wlv0            12   \n",
       "2     https://www.reddit.com/r/legaladvice/comments/...  p8wk5r             4   \n",
       "3     https://www.reddit.com/r/legaladvice/comments/...  p8wi9h             3   \n",
       "4     https://www.reddit.com/r/legaladvice/comments/...  p8wgjm             0   \n",
       "...                                                 ...     ...           ...   \n",
       "4637  https://www.reddit.com/r/CasualConversation/co...  oxolvq             3   \n",
       "4638  https://www.reddit.com/r/CasualConversation/co...  oxo9s6            13   \n",
       "4639  https://www.reddit.com/r/CasualConversation/co...  oxnqlq             3   \n",
       "4640  https://www.reddit.com/r/CasualConversation/co...  oxnplg             1   \n",
       "4641  https://www.reddit.com/r/CasualConversation/co...  oxnesf             0   \n",
       "\n",
       "      retrieved_on                                           selftext  \\\n",
       "0       1629577686  What can I do? My old neighbor witnessed the p...   \n",
       "1       1629577576  Does use of obscene language in school fall un...   \n",
       "2       1629577433  Basically what the title says. I've never been...   \n",
       "3       1629577281  Can I record with video and audio from my porc...   \n",
       "4       1629577141  We live on a quiet, low traffic street with ma...   \n",
       "...            ...                                                ...   \n",
       "4637    1628067547  Long story short, I grew up poor and as the yo...   \n",
       "4638    1628065961  My mum is the sort of person who has a lot of ...   \n",
       "4639    1628063521  I am in an hotel wasting 11 days of my life.\\n...   \n",
       "4640    1628063387  So, I've made a film that was mildly successfu...   \n",
       "4641    1628061975  TLDR is a man of its (not many) words. I know ...   \n",
       "\n",
       "      subreddit                                              title  \\\n",
       "0             1  Package delivered to old residence, not being ...   \n",
       "1             1                First Ammendment rights and Schools   \n",
       "2             1  Virginia - If my employer only shows a set amo...   \n",
       "3             1  Can I record visual and audio from my front po...   \n",
       "4             1  [Va] 7 year old walking up and down the street...   \n",
       "...         ...                                                ...   \n",
       "4637          0   Today I learned I don't know how to dress myself   \n",
       "4638          0  My mum has figured out emojis and it sounds si...   \n",
       "4639          0  Anyone wanna talk to Someone that’s got nothin...   \n",
       "4640          0                                Making a Web Series   \n",
       "4641          0  Just realised that TLDR does exactly what it m...   \n",
       "\n",
       "                                                    url  \\\n",
       "0     https://www.reddit.com/r/legaladvice/comments/...   \n",
       "1     https://www.reddit.com/r/legaladvice/comments/...   \n",
       "2     https://www.reddit.com/r/legaladvice/comments/...   \n",
       "3     https://www.reddit.com/r/legaladvice/comments/...   \n",
       "4     https://www.reddit.com/r/legaladvice/comments/...   \n",
       "...                                                 ...   \n",
       "4637  https://www.reddit.com/r/CasualConversation/co...   \n",
       "4638  https://www.reddit.com/r/CasualConversation/co...   \n",
       "4639  https://www.reddit.com/r/CasualConversation/co...   \n",
       "4640  https://www.reddit.com/r/CasualConversation/co...   \n",
       "4641  https://www.reddit.com/r/CasualConversation/co...   \n",
       "\n",
       "                                                  posts  word_count  \\\n",
       "0     package delivered to old residence, not being ...          70   \n",
       "1     first ammendment rights and schools.does use o...         216   \n",
       "2     virginia   if my employer only shows a set amo...         206   \n",
       "3     can i record visual and audio from my front po...         100   \n",
       "4     [va] 7 year old walking up and down the street...          78   \n",
       "...                                                 ...         ...   \n",
       "4637  today i learned i don't know how to dress myse...         553   \n",
       "4638  my mum has figured out  s and it sounds silly ...         120   \n",
       "4639  anyone wanna talk to someone that’s got nothin...          44   \n",
       "4640  making a web series.so, i've made a film that ...          50   \n",
       "4641  just realised that tldr does exactly what it m...          69   \n",
       "\n",
       "                                             lemm_posts  \n",
       "0     package delivered to old residence , not being...  \n",
       "1     first ammendment right and schools.does use of...  \n",
       "2     virginia if my employer only show a set amount...  \n",
       "3     can i record visual and audio from my front po...  \n",
       "4     [ va ] 7 year old walking up and down the stre...  \n",
       "...                                                 ...  \n",
       "4637  today i learned i do n't know how to dress mys...  \n",
       "4638  my mum ha figured out s and it sound silly but...  \n",
       "4639  anyone wan na talk to someone that ’ s got not...  \n",
       "4640  making a web series.so , i 've made a film tha...  \n",
       "4641  just realised that tldr doe exactly what it me...  \n",
       "\n",
       "[4642 rows x 14 columns]"
      ]
     },
     "execution_count": 8,
     "metadata": {},
     "output_type": "execute_result"
    }
   ],
   "source": [
    "reddit"
   ]
  },
  {
   "cell_type": "markdown",
   "id": "687821e2",
   "metadata": {},
   "source": [
    "### Stemming with NLTK "
   ]
  },
  {
   "cell_type": "markdown",
   "id": "1776abe5",
   "metadata": {},
   "source": [
    "Let's also include a new column in the dataframe that includes all stemmed words from the corpus."
   ]
  },
  {
   "cell_type": "code",
   "execution_count": 9,
   "id": "57e75a30",
   "metadata": {},
   "outputs": [],
   "source": [
    "# instantiate\n",
    "stemmer = PorterStemmer()\n",
    "\n",
    "reddit['stem_posts']= reddit['posts'].apply(lambda x: ' '.join([stemmer.stem (w) for w in word_tokenize(x)]))"
   ]
  },
  {
   "cell_type": "code",
   "execution_count": 10,
   "id": "21fb62ab",
   "metadata": {},
   "outputs": [
    {
     "data": {
      "text/html": [
       "<div>\n",
       "<style scoped>\n",
       "    .dataframe tbody tr th:only-of-type {\n",
       "        vertical-align: middle;\n",
       "    }\n",
       "\n",
       "    .dataframe tbody tr th {\n",
       "        vertical-align: top;\n",
       "    }\n",
       "\n",
       "    .dataframe thead th {\n",
       "        text-align: right;\n",
       "    }\n",
       "</style>\n",
       "<table border=\"1\" class=\"dataframe\">\n",
       "  <thead>\n",
       "    <tr style=\"text-align: right;\">\n",
       "      <th></th>\n",
       "      <th>index</th>\n",
       "      <th>author</th>\n",
       "      <th>created_utc</th>\n",
       "      <th>full_link</th>\n",
       "      <th>id</th>\n",
       "      <th>num_comments</th>\n",
       "      <th>retrieved_on</th>\n",
       "      <th>selftext</th>\n",
       "      <th>subreddit</th>\n",
       "      <th>title</th>\n",
       "      <th>url</th>\n",
       "      <th>posts</th>\n",
       "      <th>word_count</th>\n",
       "      <th>lemm_posts</th>\n",
       "      <th>stem_posts</th>\n",
       "    </tr>\n",
       "  </thead>\n",
       "  <tbody>\n",
       "    <tr>\n",
       "      <th>0</th>\n",
       "      <td>1</td>\n",
       "      <td>banksnosons</td>\n",
       "      <td>1629570605</td>\n",
       "      <td>https://www.reddit.com/r/legaladvice/comments/...</td>\n",
       "      <td>p8wn7t</td>\n",
       "      <td>3</td>\n",
       "      <td>1629577686</td>\n",
       "      <td>What can I do? My old neighbor witnessed the p...</td>\n",
       "      <td>1</td>\n",
       "      <td>Package delivered to old residence, not being ...</td>\n",
       "      <td>https://www.reddit.com/r/legaladvice/comments/...</td>\n",
       "      <td>package delivered to old residence, not being ...</td>\n",
       "      <td>70</td>\n",
       "      <td>package delivered to old residence , not being...</td>\n",
       "      <td>packag deliv to old resid , not be return by n...</td>\n",
       "    </tr>\n",
       "    <tr>\n",
       "      <th>1</th>\n",
       "      <td>2</td>\n",
       "      <td>Hangman_Matt</td>\n",
       "      <td>1629570478</td>\n",
       "      <td>https://www.reddit.com/r/legaladvice/comments/...</td>\n",
       "      <td>p8wlv0</td>\n",
       "      <td>12</td>\n",
       "      <td>1629577576</td>\n",
       "      <td>Does use of obscene language in school fall un...</td>\n",
       "      <td>1</td>\n",
       "      <td>First Ammendment rights and Schools</td>\n",
       "      <td>https://www.reddit.com/r/legaladvice/comments/...</td>\n",
       "      <td>first ammendment rights and schools.does use o...</td>\n",
       "      <td>216</td>\n",
       "      <td>first ammendment right and schools.does use of...</td>\n",
       "      <td>first ammend right and schools.do use of obsce...</td>\n",
       "    </tr>\n",
       "    <tr>\n",
       "      <th>2</th>\n",
       "      <td>3</td>\n",
       "      <td>Throwawaaaaaay526289</td>\n",
       "      <td>1629570313</td>\n",
       "      <td>https://www.reddit.com/r/legaladvice/comments/...</td>\n",
       "      <td>p8wk5r</td>\n",
       "      <td>4</td>\n",
       "      <td>1629577433</td>\n",
       "      <td>Basically what the title says. I've never been...</td>\n",
       "      <td>1</td>\n",
       "      <td>Virginia - If my employer only shows a set amo...</td>\n",
       "      <td>https://www.reddit.com/r/legaladvice/comments/...</td>\n",
       "      <td>virginia   if my employer only shows a set amo...</td>\n",
       "      <td>206</td>\n",
       "      <td>virginia if my employer only show a set amount...</td>\n",
       "      <td>virginia if my employ onli show a set amount o...</td>\n",
       "    </tr>\n",
       "    <tr>\n",
       "      <th>3</th>\n",
       "      <td>4</td>\n",
       "      <td>unholychalice</td>\n",
       "      <td>1629570134</td>\n",
       "      <td>https://www.reddit.com/r/legaladvice/comments/...</td>\n",
       "      <td>p8wi9h</td>\n",
       "      <td>3</td>\n",
       "      <td>1629577281</td>\n",
       "      <td>Can I record with video and audio from my porc...</td>\n",
       "      <td>1</td>\n",
       "      <td>Can I record visual and audio from my front po...</td>\n",
       "      <td>https://www.reddit.com/r/legaladvice/comments/...</td>\n",
       "      <td>can i record visual and audio from my front po...</td>\n",
       "      <td>100</td>\n",
       "      <td>can i record visual and audio from my front po...</td>\n",
       "      <td>can i record visual and audio from my front po...</td>\n",
       "    </tr>\n",
       "    <tr>\n",
       "      <th>4</th>\n",
       "      <td>6</td>\n",
       "      <td>opsboop</td>\n",
       "      <td>1629569971</td>\n",
       "      <td>https://www.reddit.com/r/legaladvice/comments/...</td>\n",
       "      <td>p8wgjm</td>\n",
       "      <td>0</td>\n",
       "      <td>1629577141</td>\n",
       "      <td>We live on a quiet, low traffic street with ma...</td>\n",
       "      <td>1</td>\n",
       "      <td>[Va] 7 year old walking up and down the street...</td>\n",
       "      <td>https://www.reddit.com/r/legaladvice/comments/...</td>\n",
       "      <td>[va] 7 year old walking up and down the street...</td>\n",
       "      <td>78</td>\n",
       "      <td>[ va ] 7 year old walking up and down the stre...</td>\n",
       "      <td>[ va ] 7 year old walk up and down the street ...</td>\n",
       "    </tr>\n",
       "  </tbody>\n",
       "</table>\n",
       "</div>"
      ],
      "text/plain": [
       "   index                author  created_utc  \\\n",
       "0      1           banksnosons   1629570605   \n",
       "1      2          Hangman_Matt   1629570478   \n",
       "2      3  Throwawaaaaaay526289   1629570313   \n",
       "3      4         unholychalice   1629570134   \n",
       "4      6               opsboop   1629569971   \n",
       "\n",
       "                                           full_link      id  num_comments  \\\n",
       "0  https://www.reddit.com/r/legaladvice/comments/...  p8wn7t             3   \n",
       "1  https://www.reddit.com/r/legaladvice/comments/...  p8wlv0            12   \n",
       "2  https://www.reddit.com/r/legaladvice/comments/...  p8wk5r             4   \n",
       "3  https://www.reddit.com/r/legaladvice/comments/...  p8wi9h             3   \n",
       "4  https://www.reddit.com/r/legaladvice/comments/...  p8wgjm             0   \n",
       "\n",
       "   retrieved_on                                           selftext  subreddit  \\\n",
       "0    1629577686  What can I do? My old neighbor witnessed the p...          1   \n",
       "1    1629577576  Does use of obscene language in school fall un...          1   \n",
       "2    1629577433  Basically what the title says. I've never been...          1   \n",
       "3    1629577281  Can I record with video and audio from my porc...          1   \n",
       "4    1629577141  We live on a quiet, low traffic street with ma...          1   \n",
       "\n",
       "                                               title  \\\n",
       "0  Package delivered to old residence, not being ...   \n",
       "1                First Ammendment rights and Schools   \n",
       "2  Virginia - If my employer only shows a set amo...   \n",
       "3  Can I record visual and audio from my front po...   \n",
       "4  [Va] 7 year old walking up and down the street...   \n",
       "\n",
       "                                                 url  \\\n",
       "0  https://www.reddit.com/r/legaladvice/comments/...   \n",
       "1  https://www.reddit.com/r/legaladvice/comments/...   \n",
       "2  https://www.reddit.com/r/legaladvice/comments/...   \n",
       "3  https://www.reddit.com/r/legaladvice/comments/...   \n",
       "4  https://www.reddit.com/r/legaladvice/comments/...   \n",
       "\n",
       "                                               posts  word_count  \\\n",
       "0  package delivered to old residence, not being ...          70   \n",
       "1  first ammendment rights and schools.does use o...         216   \n",
       "2  virginia   if my employer only shows a set amo...         206   \n",
       "3  can i record visual and audio from my front po...         100   \n",
       "4  [va] 7 year old walking up and down the street...          78   \n",
       "\n",
       "                                          lemm_posts  \\\n",
       "0  package delivered to old residence , not being...   \n",
       "1  first ammendment right and schools.does use of...   \n",
       "2  virginia if my employer only show a set amount...   \n",
       "3  can i record visual and audio from my front po...   \n",
       "4  [ va ] 7 year old walking up and down the stre...   \n",
       "\n",
       "                                          stem_posts  \n",
       "0  packag deliv to old resid , not be return by n...  \n",
       "1  first ammend right and schools.do use of obsce...  \n",
       "2  virginia if my employ onli show a set amount o...  \n",
       "3  can i record visual and audio from my front po...  \n",
       "4  [ va ] 7 year old walk up and down the street ...  "
      ]
     },
     "execution_count": 10,
     "metadata": {},
     "output_type": "execute_result"
    }
   ],
   "source": [
    "reddit.head()"
   ]
  },
  {
   "cell_type": "markdown",
   "id": "c97c92e3",
   "metadata": {},
   "source": [
    "### Term frequency - inverse document frequency (tf-idf)"
   ]
  },
  {
   "cell_type": "markdown",
   "id": "0b87150f",
   "metadata": {},
   "source": [
    "A tf-idf score tells us which words are more common in one document compared to the other. We want to identify such words and remove them as best we can in order to reduce any bias that may occur and ultimately improve the analysis and accuracy of our models. \n",
    "\n",
    "__Why Use TFIDF?__\n",
    "* Common words are penalized\n",
    "* Rare words have more influence"
   ]
  },
  {
   "cell_type": "markdown",
   "id": "e39a61bd",
   "metadata": {},
   "source": [
    "__Regular Posts__"
   ]
  },
  {
   "cell_type": "code",
   "execution_count": 11,
   "id": "8e28a921",
   "metadata": {},
   "outputs": [
    {
     "data": {
      "text/plain": [
       "TfidfVectorizer(max_df=0.9, max_features=100, min_df=0.2, stop_words='english',\n",
       "                strip_accents='ascii')"
      ]
     },
     "execution_count": 11,
     "metadata": {},
     "output_type": "execute_result"
    }
   ],
   "source": [
    "# fit the tfidf vectorizer with initial posts\n",
    "tvec_posts = TfidfVectorizer(\n",
    "                       stop_words = 'english',\n",
    "                       strip_accents = 'ascii',\n",
    "                       max_features = 100,\n",
    "                       min_df = 0.2,\n",
    "                       max_df = 0.9,\n",
    "                       norm = 'l2'\n",
    ")\n",
    "tvec_posts.fit(reddit.posts)"
   ]
  },
  {
   "cell_type": "code",
   "execution_count": 12,
   "id": "5138974a",
   "metadata": {},
   "outputs": [],
   "source": [
    "reddit_tvec_posts = pd.DataFrame(tvec_posts.transform(reddit.posts).todense(),\n",
    "                  columns = tvec_posts.get_feature_names())\n",
    "reddit_tvec_posts['subreddit']= reddit.subreddit"
   ]
  },
  {
   "cell_type": "code",
   "execution_count": 13,
   "id": "a476cb11",
   "metadata": {},
   "outputs": [
    {
     "data": {
      "text/html": [
       "<div>\n",
       "<style scoped>\n",
       "    .dataframe tbody tr th:only-of-type {\n",
       "        vertical-align: middle;\n",
       "    }\n",
       "\n",
       "    .dataframe tbody tr th {\n",
       "        vertical-align: top;\n",
       "    }\n",
       "\n",
       "    .dataframe thead th {\n",
       "        text-align: right;\n",
       "    }\n",
       "</style>\n",
       "<table border=\"1\" class=\"dataframe\">\n",
       "  <thead>\n",
       "    <tr style=\"text-align: right;\">\n",
       "      <th></th>\n",
       "      <th>got</th>\n",
       "      <th>im</th>\n",
       "      <th>just</th>\n",
       "      <th>know</th>\n",
       "      <th>like</th>\n",
       "      <th>really</th>\n",
       "      <th>time</th>\n",
       "      <th>want</th>\n",
       "      <th>work</th>\n",
       "      <th>subreddit</th>\n",
       "    </tr>\n",
       "  </thead>\n",
       "  <tbody>\n",
       "    <tr>\n",
       "      <th>0</th>\n",
       "      <td>0.000000</td>\n",
       "      <td>0.000000</td>\n",
       "      <td>0.000000</td>\n",
       "      <td>0.000000</td>\n",
       "      <td>0.000000</td>\n",
       "      <td>0.0</td>\n",
       "      <td>0.000000</td>\n",
       "      <td>0.000000</td>\n",
       "      <td>0.0</td>\n",
       "      <td>1</td>\n",
       "    </tr>\n",
       "    <tr>\n",
       "      <th>1809</th>\n",
       "      <td>0.000000</td>\n",
       "      <td>0.822526</td>\n",
       "      <td>0.568728</td>\n",
       "      <td>0.000000</td>\n",
       "      <td>0.000000</td>\n",
       "      <td>0.0</td>\n",
       "      <td>0.000000</td>\n",
       "      <td>0.000000</td>\n",
       "      <td>0.0</td>\n",
       "      <td>1</td>\n",
       "    </tr>\n",
       "    <tr>\n",
       "      <th>1801</th>\n",
       "      <td>0.891888</td>\n",
       "      <td>0.452256</td>\n",
       "      <td>0.000000</td>\n",
       "      <td>0.000000</td>\n",
       "      <td>0.000000</td>\n",
       "      <td>0.0</td>\n",
       "      <td>0.000000</td>\n",
       "      <td>0.000000</td>\n",
       "      <td>0.0</td>\n",
       "      <td>1</td>\n",
       "    </tr>\n",
       "    <tr>\n",
       "      <th>1802</th>\n",
       "      <td>0.000000</td>\n",
       "      <td>0.643899</td>\n",
       "      <td>0.445218</td>\n",
       "      <td>0.000000</td>\n",
       "      <td>0.000000</td>\n",
       "      <td>0.0</td>\n",
       "      <td>0.000000</td>\n",
       "      <td>0.622234</td>\n",
       "      <td>0.0</td>\n",
       "      <td>1</td>\n",
       "    </tr>\n",
       "    <tr>\n",
       "      <th>1803</th>\n",
       "      <td>0.000000</td>\n",
       "      <td>0.000000</td>\n",
       "      <td>0.846646</td>\n",
       "      <td>0.000000</td>\n",
       "      <td>0.000000</td>\n",
       "      <td>0.0</td>\n",
       "      <td>0.532156</td>\n",
       "      <td>0.000000</td>\n",
       "      <td>0.0</td>\n",
       "      <td>1</td>\n",
       "    </tr>\n",
       "    <tr>\n",
       "      <th>...</th>\n",
       "      <td>...</td>\n",
       "      <td>...</td>\n",
       "      <td>...</td>\n",
       "      <td>...</td>\n",
       "      <td>...</td>\n",
       "      <td>...</td>\n",
       "      <td>...</td>\n",
       "      <td>...</td>\n",
       "      <td>...</td>\n",
       "      <td>...</td>\n",
       "    </tr>\n",
       "    <tr>\n",
       "      <th>3346</th>\n",
       "      <td>0.000000</td>\n",
       "      <td>0.000000</td>\n",
       "      <td>0.000000</td>\n",
       "      <td>0.000000</td>\n",
       "      <td>1.000000</td>\n",
       "      <td>0.0</td>\n",
       "      <td>0.000000</td>\n",
       "      <td>0.000000</td>\n",
       "      <td>0.0</td>\n",
       "      <td>0</td>\n",
       "    </tr>\n",
       "    <tr>\n",
       "      <th>3345</th>\n",
       "      <td>0.000000</td>\n",
       "      <td>0.000000</td>\n",
       "      <td>0.317084</td>\n",
       "      <td>0.396537</td>\n",
       "      <td>0.738803</td>\n",
       "      <td>0.0</td>\n",
       "      <td>0.000000</td>\n",
       "      <td>0.443154</td>\n",
       "      <td>0.0</td>\n",
       "      <td>0</td>\n",
       "    </tr>\n",
       "    <tr>\n",
       "      <th>3344</th>\n",
       "      <td>0.000000</td>\n",
       "      <td>0.725767</td>\n",
       "      <td>0.501825</td>\n",
       "      <td>0.313785</td>\n",
       "      <td>0.000000</td>\n",
       "      <td>0.0</td>\n",
       "      <td>0.000000</td>\n",
       "      <td>0.350674</td>\n",
       "      <td>0.0</td>\n",
       "      <td>0</td>\n",
       "    </tr>\n",
       "    <tr>\n",
       "      <th>3343</th>\n",
       "      <td>0.000000</td>\n",
       "      <td>0.000000</td>\n",
       "      <td>0.624520</td>\n",
       "      <td>0.781009</td>\n",
       "      <td>0.000000</td>\n",
       "      <td>0.0</td>\n",
       "      <td>0.000000</td>\n",
       "      <td>0.000000</td>\n",
       "      <td>0.0</td>\n",
       "      <td>0</td>\n",
       "    </tr>\n",
       "    <tr>\n",
       "      <th>4641</th>\n",
       "      <td>0.000000</td>\n",
       "      <td>0.000000</td>\n",
       "      <td>0.246687</td>\n",
       "      <td>0.925502</td>\n",
       "      <td>0.287389</td>\n",
       "      <td>0.0</td>\n",
       "      <td>0.000000</td>\n",
       "      <td>0.000000</td>\n",
       "      <td>0.0</td>\n",
       "      <td>0</td>\n",
       "    </tr>\n",
       "  </tbody>\n",
       "</table>\n",
       "<p>4642 rows × 10 columns</p>\n",
       "</div>"
      ],
      "text/plain": [
       "           got        im      just      know      like  really      time  \\\n",
       "0     0.000000  0.000000  0.000000  0.000000  0.000000     0.0  0.000000   \n",
       "1809  0.000000  0.822526  0.568728  0.000000  0.000000     0.0  0.000000   \n",
       "1801  0.891888  0.452256  0.000000  0.000000  0.000000     0.0  0.000000   \n",
       "1802  0.000000  0.643899  0.445218  0.000000  0.000000     0.0  0.000000   \n",
       "1803  0.000000  0.000000  0.846646  0.000000  0.000000     0.0  0.532156   \n",
       "...        ...       ...       ...       ...       ...     ...       ...   \n",
       "3346  0.000000  0.000000  0.000000  0.000000  1.000000     0.0  0.000000   \n",
       "3345  0.000000  0.000000  0.317084  0.396537  0.738803     0.0  0.000000   \n",
       "3344  0.000000  0.725767  0.501825  0.313785  0.000000     0.0  0.000000   \n",
       "3343  0.000000  0.000000  0.624520  0.781009  0.000000     0.0  0.000000   \n",
       "4641  0.000000  0.000000  0.246687  0.925502  0.287389     0.0  0.000000   \n",
       "\n",
       "          want  work  subreddit  \n",
       "0     0.000000   0.0          1  \n",
       "1809  0.000000   0.0          1  \n",
       "1801  0.000000   0.0          1  \n",
       "1802  0.622234   0.0          1  \n",
       "1803  0.000000   0.0          1  \n",
       "...        ...   ...        ...  \n",
       "3346  0.000000   0.0          0  \n",
       "3345  0.443154   0.0          0  \n",
       "3344  0.350674   0.0          0  \n",
       "3343  0.000000   0.0          0  \n",
       "4641  0.000000   0.0          0  \n",
       "\n",
       "[4642 rows x 10 columns]"
      ]
     },
     "execution_count": 13,
     "metadata": {},
     "output_type": "execute_result"
    }
   ],
   "source": [
    "reddit_tvec_posts.sort_values('subreddit', ascending = False)"
   ]
  },
  {
   "cell_type": "code",
   "execution_count": 14,
   "id": "c6d0a9e8",
   "metadata": {},
   "outputs": [
    {
     "data": {
      "text/plain": [
       "1    0.583154\n",
       "0    0.416846\n",
       "Name: subreddit, dtype: float64"
      ]
     },
     "execution_count": 14,
     "metadata": {},
     "output_type": "execute_result"
    }
   ],
   "source": [
    "reddit.subreddit.value_counts(normalize = True)"
   ]
  },
  {
   "cell_type": "code",
   "execution_count": 15,
   "id": "4878d0c6",
   "metadata": {},
   "outputs": [
    {
     "data": {
      "text/plain": [
       "Index(['index', 'author', 'created_utc', 'full_link', 'id', 'num_comments',\n",
       "       'retrieved_on', 'selftext', 'subreddit', 'title', 'url', 'posts',\n",
       "       'word_count', 'lemm_posts', 'stem_posts'],\n",
       "      dtype='object')"
      ]
     },
     "execution_count": 15,
     "metadata": {},
     "output_type": "execute_result"
    }
   ],
   "source": [
    "reddit.columns"
   ]
  },
  {
   "cell_type": "markdown",
   "id": "4d4adfad",
   "metadata": {},
   "source": [
    "__Lemmatized Posts__"
   ]
  },
  {
   "cell_type": "code",
   "execution_count": 16,
   "id": "50a4afb3",
   "metadata": {},
   "outputs": [
    {
     "data": {
      "text/plain": [
       "TfidfVectorizer(max_df=0.9, max_features=100, min_df=0.2, stop_words='english',\n",
       "                strip_accents='ascii')"
      ]
     },
     "execution_count": 16,
     "metadata": {},
     "output_type": "execute_result"
    }
   ],
   "source": [
    "# fit the tfidf vectorizer with lemmatized words\n",
    "tvec_lemm_posts = TfidfVectorizer(\n",
    "                       stop_words = 'english',\n",
    "                       strip_accents = 'ascii',\n",
    "                       max_features = 100,\n",
    "                       min_df = 0.2,\n",
    "                       max_df = 0.9,\n",
    "                       norm = 'l2'\n",
    ")\n",
    "tvec_lemm_posts.fit(reddit.lemm_posts)"
   ]
  },
  {
   "cell_type": "code",
   "execution_count": 17,
   "id": "54335c36",
   "metadata": {},
   "outputs": [],
   "source": [
    "reddit_tvec_lemm_posts = pd.DataFrame(tvec_lemm_posts.transform(reddit.lemm_posts).todense(),\n",
    "                  columns = tvec_lemm_posts.get_feature_names())\n",
    "reddit_tvec_lemm_posts['subreddit']= reddit.subreddit"
   ]
  },
  {
   "cell_type": "code",
   "execution_count": 18,
   "id": "55b06c85",
   "metadata": {},
   "outputs": [
    {
     "data": {
      "text/html": [
       "<div>\n",
       "<style scoped>\n",
       "    .dataframe tbody tr th:only-of-type {\n",
       "        vertical-align: middle;\n",
       "    }\n",
       "\n",
       "    .dataframe tbody tr th {\n",
       "        vertical-align: top;\n",
       "    }\n",
       "\n",
       "    .dataframe thead th {\n",
       "        text-align: right;\n",
       "    }\n",
       "</style>\n",
       "<table border=\"1\" class=\"dataframe\">\n",
       "  <thead>\n",
       "    <tr style=\"text-align: right;\">\n",
       "      <th></th>\n",
       "      <th>day</th>\n",
       "      <th>did</th>\n",
       "      <th>got</th>\n",
       "      <th>ha</th>\n",
       "      <th>just</th>\n",
       "      <th>know</th>\n",
       "      <th>like</th>\n",
       "      <th>make</th>\n",
       "      <th>really</th>\n",
       "      <th>thing</th>\n",
       "      <th>time</th>\n",
       "      <th>ve</th>\n",
       "      <th>wa</th>\n",
       "      <th>want</th>\n",
       "      <th>work</th>\n",
       "      <th>year</th>\n",
       "      <th>subreddit</th>\n",
       "    </tr>\n",
       "  </thead>\n",
       "  <tbody>\n",
       "    <tr>\n",
       "      <th>0</th>\n",
       "      <td>0.000000</td>\n",
       "      <td>0.000000</td>\n",
       "      <td>0.0</td>\n",
       "      <td>0.00000</td>\n",
       "      <td>0.000000</td>\n",
       "      <td>0.000000</td>\n",
       "      <td>0.000000</td>\n",
       "      <td>0.00000</td>\n",
       "      <td>0.0</td>\n",
       "      <td>0.000000</td>\n",
       "      <td>0.000000</td>\n",
       "      <td>0.000000</td>\n",
       "      <td>1.000000</td>\n",
       "      <td>0.000000</td>\n",
       "      <td>0.0</td>\n",
       "      <td>0.000000</td>\n",
       "      <td>1</td>\n",
       "    </tr>\n",
       "    <tr>\n",
       "      <th>1809</th>\n",
       "      <td>0.000000</td>\n",
       "      <td>0.000000</td>\n",
       "      <td>0.0</td>\n",
       "      <td>0.00000</td>\n",
       "      <td>1.000000</td>\n",
       "      <td>0.000000</td>\n",
       "      <td>0.000000</td>\n",
       "      <td>0.00000</td>\n",
       "      <td>0.0</td>\n",
       "      <td>0.000000</td>\n",
       "      <td>0.000000</td>\n",
       "      <td>0.000000</td>\n",
       "      <td>0.000000</td>\n",
       "      <td>0.000000</td>\n",
       "      <td>0.0</td>\n",
       "      <td>0.000000</td>\n",
       "      <td>1</td>\n",
       "    </tr>\n",
       "    <tr>\n",
       "      <th>1801</th>\n",
       "      <td>0.000000</td>\n",
       "      <td>0.000000</td>\n",
       "      <td>1.0</td>\n",
       "      <td>0.00000</td>\n",
       "      <td>0.000000</td>\n",
       "      <td>0.000000</td>\n",
       "      <td>0.000000</td>\n",
       "      <td>0.00000</td>\n",
       "      <td>0.0</td>\n",
       "      <td>0.000000</td>\n",
       "      <td>0.000000</td>\n",
       "      <td>0.000000</td>\n",
       "      <td>0.000000</td>\n",
       "      <td>0.000000</td>\n",
       "      <td>0.0</td>\n",
       "      <td>0.000000</td>\n",
       "      <td>1</td>\n",
       "    </tr>\n",
       "    <tr>\n",
       "      <th>1802</th>\n",
       "      <td>0.000000</td>\n",
       "      <td>0.252868</td>\n",
       "      <td>0.0</td>\n",
       "      <td>0.22388</td>\n",
       "      <td>0.181338</td>\n",
       "      <td>0.000000</td>\n",
       "      <td>0.000000</td>\n",
       "      <td>0.00000</td>\n",
       "      <td>0.0</td>\n",
       "      <td>0.000000</td>\n",
       "      <td>0.215385</td>\n",
       "      <td>0.248428</td>\n",
       "      <td>0.828450</td>\n",
       "      <td>0.242106</td>\n",
       "      <td>0.0</td>\n",
       "      <td>0.000000</td>\n",
       "      <td>1</td>\n",
       "    </tr>\n",
       "    <tr>\n",
       "      <th>1803</th>\n",
       "      <td>0.247980</td>\n",
       "      <td>0.000000</td>\n",
       "      <td>0.0</td>\n",
       "      <td>0.00000</td>\n",
       "      <td>0.358982</td>\n",
       "      <td>0.000000</td>\n",
       "      <td>0.000000</td>\n",
       "      <td>0.00000</td>\n",
       "      <td>0.0</td>\n",
       "      <td>0.000000</td>\n",
       "      <td>0.213191</td>\n",
       "      <td>0.491795</td>\n",
       "      <td>0.164002</td>\n",
       "      <td>0.000000</td>\n",
       "      <td>0.0</td>\n",
       "      <td>0.703867</td>\n",
       "      <td>1</td>\n",
       "    </tr>\n",
       "    <tr>\n",
       "      <th>...</th>\n",
       "      <td>...</td>\n",
       "      <td>...</td>\n",
       "      <td>...</td>\n",
       "      <td>...</td>\n",
       "      <td>...</td>\n",
       "      <td>...</td>\n",
       "      <td>...</td>\n",
       "      <td>...</td>\n",
       "      <td>...</td>\n",
       "      <td>...</td>\n",
       "      <td>...</td>\n",
       "      <td>...</td>\n",
       "      <td>...</td>\n",
       "      <td>...</td>\n",
       "      <td>...</td>\n",
       "      <td>...</td>\n",
       "      <td>...</td>\n",
       "    </tr>\n",
       "    <tr>\n",
       "      <th>3346</th>\n",
       "      <td>0.000000</td>\n",
       "      <td>0.377005</td>\n",
       "      <td>0.0</td>\n",
       "      <td>0.00000</td>\n",
       "      <td>0.000000</td>\n",
       "      <td>0.000000</td>\n",
       "      <td>0.783436</td>\n",
       "      <td>0.00000</td>\n",
       "      <td>0.0</td>\n",
       "      <td>0.000000</td>\n",
       "      <td>0.000000</td>\n",
       "      <td>0.000000</td>\n",
       "      <td>0.494059</td>\n",
       "      <td>0.000000</td>\n",
       "      <td>0.0</td>\n",
       "      <td>0.000000</td>\n",
       "      <td>0</td>\n",
       "    </tr>\n",
       "    <tr>\n",
       "      <th>3345</th>\n",
       "      <td>0.214117</td>\n",
       "      <td>0.000000</td>\n",
       "      <td>0.0</td>\n",
       "      <td>0.00000</td>\n",
       "      <td>0.154980</td>\n",
       "      <td>0.190974</td>\n",
       "      <td>0.359276</td>\n",
       "      <td>0.00000</td>\n",
       "      <td>0.0</td>\n",
       "      <td>0.000000</td>\n",
       "      <td>0.000000</td>\n",
       "      <td>0.212319</td>\n",
       "      <td>0.141607</td>\n",
       "      <td>0.206916</td>\n",
       "      <td>0.0</td>\n",
       "      <td>0.810333</td>\n",
       "      <td>0</td>\n",
       "    </tr>\n",
       "    <tr>\n",
       "      <th>3344</th>\n",
       "      <td>0.000000</td>\n",
       "      <td>0.000000</td>\n",
       "      <td>0.0</td>\n",
       "      <td>0.00000</td>\n",
       "      <td>0.648899</td>\n",
       "      <td>0.399801</td>\n",
       "      <td>0.000000</td>\n",
       "      <td>0.48109</td>\n",
       "      <td>0.0</td>\n",
       "      <td>0.000000</td>\n",
       "      <td>0.000000</td>\n",
       "      <td>0.000000</td>\n",
       "      <td>0.000000</td>\n",
       "      <td>0.433176</td>\n",
       "      <td>0.0</td>\n",
       "      <td>0.000000</td>\n",
       "      <td>0</td>\n",
       "    </tr>\n",
       "    <tr>\n",
       "      <th>3343</th>\n",
       "      <td>0.000000</td>\n",
       "      <td>0.000000</td>\n",
       "      <td>0.0</td>\n",
       "      <td>0.00000</td>\n",
       "      <td>0.630138</td>\n",
       "      <td>0.776484</td>\n",
       "      <td>0.000000</td>\n",
       "      <td>0.00000</td>\n",
       "      <td>0.0</td>\n",
       "      <td>0.000000</td>\n",
       "      <td>0.000000</td>\n",
       "      <td>0.000000</td>\n",
       "      <td>0.000000</td>\n",
       "      <td>0.000000</td>\n",
       "      <td>0.0</td>\n",
       "      <td>0.000000</td>\n",
       "      <td>0</td>\n",
       "    </tr>\n",
       "    <tr>\n",
       "      <th>4641</th>\n",
       "      <td>0.000000</td>\n",
       "      <td>0.000000</td>\n",
       "      <td>0.0</td>\n",
       "      <td>0.00000</td>\n",
       "      <td>0.234626</td>\n",
       "      <td>0.867351</td>\n",
       "      <td>0.271956</td>\n",
       "      <td>0.00000</td>\n",
       "      <td>0.0</td>\n",
       "      <td>0.344518</td>\n",
       "      <td>0.000000</td>\n",
       "      <td>0.000000</td>\n",
       "      <td>0.000000</td>\n",
       "      <td>0.000000</td>\n",
       "      <td>0.0</td>\n",
       "      <td>0.000000</td>\n",
       "      <td>0</td>\n",
       "    </tr>\n",
       "  </tbody>\n",
       "</table>\n",
       "<p>4642 rows × 17 columns</p>\n",
       "</div>"
      ],
      "text/plain": [
       "           day       did  got       ha      just      know      like     make  \\\n",
       "0     0.000000  0.000000  0.0  0.00000  0.000000  0.000000  0.000000  0.00000   \n",
       "1809  0.000000  0.000000  0.0  0.00000  1.000000  0.000000  0.000000  0.00000   \n",
       "1801  0.000000  0.000000  1.0  0.00000  0.000000  0.000000  0.000000  0.00000   \n",
       "1802  0.000000  0.252868  0.0  0.22388  0.181338  0.000000  0.000000  0.00000   \n",
       "1803  0.247980  0.000000  0.0  0.00000  0.358982  0.000000  0.000000  0.00000   \n",
       "...        ...       ...  ...      ...       ...       ...       ...      ...   \n",
       "3346  0.000000  0.377005  0.0  0.00000  0.000000  0.000000  0.783436  0.00000   \n",
       "3345  0.214117  0.000000  0.0  0.00000  0.154980  0.190974  0.359276  0.00000   \n",
       "3344  0.000000  0.000000  0.0  0.00000  0.648899  0.399801  0.000000  0.48109   \n",
       "3343  0.000000  0.000000  0.0  0.00000  0.630138  0.776484  0.000000  0.00000   \n",
       "4641  0.000000  0.000000  0.0  0.00000  0.234626  0.867351  0.271956  0.00000   \n",
       "\n",
       "      really     thing      time        ve        wa      want  work  \\\n",
       "0        0.0  0.000000  0.000000  0.000000  1.000000  0.000000   0.0   \n",
       "1809     0.0  0.000000  0.000000  0.000000  0.000000  0.000000   0.0   \n",
       "1801     0.0  0.000000  0.000000  0.000000  0.000000  0.000000   0.0   \n",
       "1802     0.0  0.000000  0.215385  0.248428  0.828450  0.242106   0.0   \n",
       "1803     0.0  0.000000  0.213191  0.491795  0.164002  0.000000   0.0   \n",
       "...      ...       ...       ...       ...       ...       ...   ...   \n",
       "3346     0.0  0.000000  0.000000  0.000000  0.494059  0.000000   0.0   \n",
       "3345     0.0  0.000000  0.000000  0.212319  0.141607  0.206916   0.0   \n",
       "3344     0.0  0.000000  0.000000  0.000000  0.000000  0.433176   0.0   \n",
       "3343     0.0  0.000000  0.000000  0.000000  0.000000  0.000000   0.0   \n",
       "4641     0.0  0.344518  0.000000  0.000000  0.000000  0.000000   0.0   \n",
       "\n",
       "          year  subreddit  \n",
       "0     0.000000          1  \n",
       "1809  0.000000          1  \n",
       "1801  0.000000          1  \n",
       "1802  0.000000          1  \n",
       "1803  0.703867          1  \n",
       "...        ...        ...  \n",
       "3346  0.000000          0  \n",
       "3345  0.810333          0  \n",
       "3344  0.000000          0  \n",
       "3343  0.000000          0  \n",
       "4641  0.000000          0  \n",
       "\n",
       "[4642 rows x 17 columns]"
      ]
     },
     "execution_count": 18,
     "metadata": {},
     "output_type": "execute_result"
    }
   ],
   "source": [
    "reddit_tvec_lemm_posts.sort_values('subreddit', ascending = False)"
   ]
  },
  {
   "cell_type": "code",
   "execution_count": 19,
   "id": "b6ca421d",
   "metadata": {},
   "outputs": [
    {
     "data": {
      "text/plain": [
       "(4642, 17)"
      ]
     },
     "execution_count": 19,
     "metadata": {},
     "output_type": "execute_result"
    }
   ],
   "source": [
    "reddit_tvec_lemm_posts.shape"
   ]
  },
  {
   "cell_type": "markdown",
   "id": "1659b07e",
   "metadata": {},
   "source": [
    "__Stemmed Posts__"
   ]
  },
  {
   "cell_type": "code",
   "execution_count": 20,
   "id": "6e268c35",
   "metadata": {},
   "outputs": [
    {
     "data": {
      "text/plain": [
       "TfidfVectorizer(max_df=0.9, max_features=100, min_df=0.2, stop_words='english',\n",
       "                strip_accents='ascii')"
      ]
     },
     "execution_count": 20,
     "metadata": {},
     "output_type": "execute_result"
    }
   ],
   "source": [
    "# fit the tfidf vectorizer with stemmed words\n",
    "tvec_stem_posts = TfidfVectorizer(\n",
    "                       stop_words = 'english',\n",
    "                       strip_accents = 'ascii',\n",
    "                       max_features = 100,\n",
    "                       min_df = 0.2,\n",
    "                       max_df = 0.9,\n",
    "                       norm = 'l2'\n",
    ")\n",
    "tvec_stem_posts.fit(reddit.stem_posts)"
   ]
  },
  {
   "cell_type": "code",
   "execution_count": 21,
   "id": "aa867c62",
   "metadata": {},
   "outputs": [],
   "source": [
    "reddit_tvec_stem_posts = pd.DataFrame(tvec_stem_posts.transform(reddit.stem_posts).todense(),\n",
    "                  columns = tvec_stem_posts.get_feature_names())\n",
    "reddit_tvec_stem_posts['subreddit']= reddit.subreddit"
   ]
  },
  {
   "cell_type": "code",
   "execution_count": 22,
   "id": "d53d59ac",
   "metadata": {},
   "outputs": [
    {
     "data": {
      "text/html": [
       "<div>\n",
       "<style scoped>\n",
       "    .dataframe tbody tr th:only-of-type {\n",
       "        vertical-align: middle;\n",
       "    }\n",
       "\n",
       "    .dataframe tbody tr th {\n",
       "        vertical-align: top;\n",
       "    }\n",
       "\n",
       "    .dataframe thead th {\n",
       "        text-align: right;\n",
       "    }\n",
       "</style>\n",
       "<table border=\"1\" class=\"dataframe\">\n",
       "  <thead>\n",
       "    <tr style=\"text-align: right;\">\n",
       "      <th></th>\n",
       "      <th>ani</th>\n",
       "      <th>ask</th>\n",
       "      <th>becaus</th>\n",
       "      <th>day</th>\n",
       "      <th>did</th>\n",
       "      <th>feel</th>\n",
       "      <th>got</th>\n",
       "      <th>ha</th>\n",
       "      <th>hi</th>\n",
       "      <th>just</th>\n",
       "      <th>...</th>\n",
       "      <th>thi</th>\n",
       "      <th>thing</th>\n",
       "      <th>time</th>\n",
       "      <th>tri</th>\n",
       "      <th>ve</th>\n",
       "      <th>wa</th>\n",
       "      <th>want</th>\n",
       "      <th>work</th>\n",
       "      <th>year</th>\n",
       "      <th>subreddit</th>\n",
       "    </tr>\n",
       "  </thead>\n",
       "  <tbody>\n",
       "    <tr>\n",
       "      <th>0</th>\n",
       "      <td>0.000000</td>\n",
       "      <td>0.000000</td>\n",
       "      <td>0.000000</td>\n",
       "      <td>0.000000</td>\n",
       "      <td>0.000000</td>\n",
       "      <td>0.000000</td>\n",
       "      <td>0.00000</td>\n",
       "      <td>0.000000</td>\n",
       "      <td>0.850116</td>\n",
       "      <td>0.000000</td>\n",
       "      <td>...</td>\n",
       "      <td>0.000000</td>\n",
       "      <td>0.000000</td>\n",
       "      <td>0.000000</td>\n",
       "      <td>0.000000</td>\n",
       "      <td>0.000000</td>\n",
       "      <td>0.526595</td>\n",
       "      <td>0.000000</td>\n",
       "      <td>0.0</td>\n",
       "      <td>0.000000</td>\n",
       "      <td>1</td>\n",
       "    </tr>\n",
       "    <tr>\n",
       "      <th>1809</th>\n",
       "      <td>0.000000</td>\n",
       "      <td>0.000000</td>\n",
       "      <td>0.000000</td>\n",
       "      <td>0.000000</td>\n",
       "      <td>0.000000</td>\n",
       "      <td>0.000000</td>\n",
       "      <td>0.00000</td>\n",
       "      <td>0.000000</td>\n",
       "      <td>0.000000</td>\n",
       "      <td>0.570393</td>\n",
       "      <td>...</td>\n",
       "      <td>0.000000</td>\n",
       "      <td>0.000000</td>\n",
       "      <td>0.000000</td>\n",
       "      <td>0.000000</td>\n",
       "      <td>0.000000</td>\n",
       "      <td>0.000000</td>\n",
       "      <td>0.000000</td>\n",
       "      <td>0.0</td>\n",
       "      <td>0.000000</td>\n",
       "      <td>1</td>\n",
       "    </tr>\n",
       "    <tr>\n",
       "      <th>1801</th>\n",
       "      <td>0.357720</td>\n",
       "      <td>0.000000</td>\n",
       "      <td>0.000000</td>\n",
       "      <td>0.000000</td>\n",
       "      <td>0.000000</td>\n",
       "      <td>0.000000</td>\n",
       "      <td>0.83269</td>\n",
       "      <td>0.000000</td>\n",
       "      <td>0.000000</td>\n",
       "      <td>0.000000</td>\n",
       "      <td>...</td>\n",
       "      <td>0.000000</td>\n",
       "      <td>0.000000</td>\n",
       "      <td>0.000000</td>\n",
       "      <td>0.000000</td>\n",
       "      <td>0.000000</td>\n",
       "      <td>0.000000</td>\n",
       "      <td>0.000000</td>\n",
       "      <td>0.0</td>\n",
       "      <td>0.000000</td>\n",
       "      <td>1</td>\n",
       "    </tr>\n",
       "    <tr>\n",
       "      <th>1802</th>\n",
       "      <td>0.000000</td>\n",
       "      <td>0.230770</td>\n",
       "      <td>0.000000</td>\n",
       "      <td>0.000000</td>\n",
       "      <td>0.218622</td>\n",
       "      <td>0.222292</td>\n",
       "      <td>0.00000</td>\n",
       "      <td>0.193252</td>\n",
       "      <td>0.000000</td>\n",
       "      <td>0.156780</td>\n",
       "      <td>...</td>\n",
       "      <td>0.398892</td>\n",
       "      <td>0.000000</td>\n",
       "      <td>0.185931</td>\n",
       "      <td>0.000000</td>\n",
       "      <td>0.214784</td>\n",
       "      <td>0.715902</td>\n",
       "      <td>0.187822</td>\n",
       "      <td>0.0</td>\n",
       "      <td>0.000000</td>\n",
       "      <td>1</td>\n",
       "    </tr>\n",
       "    <tr>\n",
       "      <th>1803</th>\n",
       "      <td>0.322526</td>\n",
       "      <td>0.194775</td>\n",
       "      <td>0.000000</td>\n",
       "      <td>0.182683</td>\n",
       "      <td>0.000000</td>\n",
       "      <td>0.000000</td>\n",
       "      <td>0.00000</td>\n",
       "      <td>0.000000</td>\n",
       "      <td>0.000000</td>\n",
       "      <td>0.264651</td>\n",
       "      <td>...</td>\n",
       "      <td>0.561123</td>\n",
       "      <td>0.000000</td>\n",
       "      <td>0.156930</td>\n",
       "      <td>0.000000</td>\n",
       "      <td>0.362565</td>\n",
       "      <td>0.120848</td>\n",
       "      <td>0.000000</td>\n",
       "      <td>0.0</td>\n",
       "      <td>0.518733</td>\n",
       "      <td>1</td>\n",
       "    </tr>\n",
       "    <tr>\n",
       "      <th>...</th>\n",
       "      <td>...</td>\n",
       "      <td>...</td>\n",
       "      <td>...</td>\n",
       "      <td>...</td>\n",
       "      <td>...</td>\n",
       "      <td>...</td>\n",
       "      <td>...</td>\n",
       "      <td>...</td>\n",
       "      <td>...</td>\n",
       "      <td>...</td>\n",
       "      <td>...</td>\n",
       "      <td>...</td>\n",
       "      <td>...</td>\n",
       "      <td>...</td>\n",
       "      <td>...</td>\n",
       "      <td>...</td>\n",
       "      <td>...</td>\n",
       "      <td>...</td>\n",
       "      <td>...</td>\n",
       "      <td>...</td>\n",
       "      <td>...</td>\n",
       "    </tr>\n",
       "    <tr>\n",
       "      <th>3346</th>\n",
       "      <td>0.142739</td>\n",
       "      <td>0.000000</td>\n",
       "      <td>0.000000</td>\n",
       "      <td>0.000000</td>\n",
       "      <td>0.326653</td>\n",
       "      <td>0.498205</td>\n",
       "      <td>0.00000</td>\n",
       "      <td>0.000000</td>\n",
       "      <td>0.000000</td>\n",
       "      <td>0.000000</td>\n",
       "      <td>...</td>\n",
       "      <td>0.000000</td>\n",
       "      <td>0.000000</td>\n",
       "      <td>0.000000</td>\n",
       "      <td>0.000000</td>\n",
       "      <td>0.000000</td>\n",
       "      <td>0.427864</td>\n",
       "      <td>0.000000</td>\n",
       "      <td>0.0</td>\n",
       "      <td>0.000000</td>\n",
       "      <td>0</td>\n",
       "    </tr>\n",
       "    <tr>\n",
       "      <th>3345</th>\n",
       "      <td>0.000000</td>\n",
       "      <td>0.000000</td>\n",
       "      <td>0.284618</td>\n",
       "      <td>0.157507</td>\n",
       "      <td>0.000000</td>\n",
       "      <td>0.485290</td>\n",
       "      <td>0.00000</td>\n",
       "      <td>0.000000</td>\n",
       "      <td>0.000000</td>\n",
       "      <td>0.114089</td>\n",
       "      <td>...</td>\n",
       "      <td>0.387034</td>\n",
       "      <td>0.000000</td>\n",
       "      <td>0.000000</td>\n",
       "      <td>0.000000</td>\n",
       "      <td>0.156299</td>\n",
       "      <td>0.104193</td>\n",
       "      <td>0.136679</td>\n",
       "      <td>0.0</td>\n",
       "      <td>0.596326</td>\n",
       "      <td>0</td>\n",
       "    </tr>\n",
       "    <tr>\n",
       "      <th>3344</th>\n",
       "      <td>0.000000</td>\n",
       "      <td>0.000000</td>\n",
       "      <td>0.353821</td>\n",
       "      <td>0.000000</td>\n",
       "      <td>0.000000</td>\n",
       "      <td>0.000000</td>\n",
       "      <td>0.00000</td>\n",
       "      <td>0.000000</td>\n",
       "      <td>0.000000</td>\n",
       "      <td>0.567318</td>\n",
       "      <td>...</td>\n",
       "      <td>0.000000</td>\n",
       "      <td>0.000000</td>\n",
       "      <td>0.000000</td>\n",
       "      <td>0.406245</td>\n",
       "      <td>0.000000</td>\n",
       "      <td>0.000000</td>\n",
       "      <td>0.339823</td>\n",
       "      <td>0.0</td>\n",
       "      <td>0.000000</td>\n",
       "      <td>0</td>\n",
       "    </tr>\n",
       "    <tr>\n",
       "      <th>3343</th>\n",
       "      <td>0.000000</td>\n",
       "      <td>0.564473</td>\n",
       "      <td>0.000000</td>\n",
       "      <td>0.000000</td>\n",
       "      <td>0.000000</td>\n",
       "      <td>0.000000</td>\n",
       "      <td>0.00000</td>\n",
       "      <td>0.000000</td>\n",
       "      <td>0.000000</td>\n",
       "      <td>0.383490</td>\n",
       "      <td>...</td>\n",
       "      <td>0.325235</td>\n",
       "      <td>0.000000</td>\n",
       "      <td>0.000000</td>\n",
       "      <td>0.000000</td>\n",
       "      <td>0.000000</td>\n",
       "      <td>0.000000</td>\n",
       "      <td>0.459420</td>\n",
       "      <td>0.0</td>\n",
       "      <td>0.000000</td>\n",
       "      <td>0</td>\n",
       "    </tr>\n",
       "    <tr>\n",
       "      <th>4641</th>\n",
       "      <td>0.500723</td>\n",
       "      <td>0.000000</td>\n",
       "      <td>0.000000</td>\n",
       "      <td>0.000000</td>\n",
       "      <td>0.000000</td>\n",
       "      <td>0.000000</td>\n",
       "      <td>0.00000</td>\n",
       "      <td>0.000000</td>\n",
       "      <td>0.000000</td>\n",
       "      <td>0.205436</td>\n",
       "      <td>...</td>\n",
       "      <td>0.000000</td>\n",
       "      <td>0.301778</td>\n",
       "      <td>0.000000</td>\n",
       "      <td>0.000000</td>\n",
       "      <td>0.000000</td>\n",
       "      <td>0.000000</td>\n",
       "      <td>0.000000</td>\n",
       "      <td>0.0</td>\n",
       "      <td>0.000000</td>\n",
       "      <td>0</td>\n",
       "    </tr>\n",
       "  </tbody>\n",
       "</table>\n",
       "<p>4642 rows × 26 columns</p>\n",
       "</div>"
      ],
      "text/plain": [
       "           ani       ask    becaus       day       did      feel      got  \\\n",
       "0     0.000000  0.000000  0.000000  0.000000  0.000000  0.000000  0.00000   \n",
       "1809  0.000000  0.000000  0.000000  0.000000  0.000000  0.000000  0.00000   \n",
       "1801  0.357720  0.000000  0.000000  0.000000  0.000000  0.000000  0.83269   \n",
       "1802  0.000000  0.230770  0.000000  0.000000  0.218622  0.222292  0.00000   \n",
       "1803  0.322526  0.194775  0.000000  0.182683  0.000000  0.000000  0.00000   \n",
       "...        ...       ...       ...       ...       ...       ...      ...   \n",
       "3346  0.142739  0.000000  0.000000  0.000000  0.326653  0.498205  0.00000   \n",
       "3345  0.000000  0.000000  0.284618  0.157507  0.000000  0.485290  0.00000   \n",
       "3344  0.000000  0.000000  0.353821  0.000000  0.000000  0.000000  0.00000   \n",
       "3343  0.000000  0.564473  0.000000  0.000000  0.000000  0.000000  0.00000   \n",
       "4641  0.500723  0.000000  0.000000  0.000000  0.000000  0.000000  0.00000   \n",
       "\n",
       "            ha        hi      just  ...       thi     thing      time  \\\n",
       "0     0.000000  0.850116  0.000000  ...  0.000000  0.000000  0.000000   \n",
       "1809  0.000000  0.000000  0.570393  ...  0.000000  0.000000  0.000000   \n",
       "1801  0.000000  0.000000  0.000000  ...  0.000000  0.000000  0.000000   \n",
       "1802  0.193252  0.000000  0.156780  ...  0.398892  0.000000  0.185931   \n",
       "1803  0.000000  0.000000  0.264651  ...  0.561123  0.000000  0.156930   \n",
       "...        ...       ...       ...  ...       ...       ...       ...   \n",
       "3346  0.000000  0.000000  0.000000  ...  0.000000  0.000000  0.000000   \n",
       "3345  0.000000  0.000000  0.114089  ...  0.387034  0.000000  0.000000   \n",
       "3344  0.000000  0.000000  0.567318  ...  0.000000  0.000000  0.000000   \n",
       "3343  0.000000  0.000000  0.383490  ...  0.325235  0.000000  0.000000   \n",
       "4641  0.000000  0.000000  0.205436  ...  0.000000  0.301778  0.000000   \n",
       "\n",
       "           tri        ve        wa      want  work      year  subreddit  \n",
       "0     0.000000  0.000000  0.526595  0.000000   0.0  0.000000          1  \n",
       "1809  0.000000  0.000000  0.000000  0.000000   0.0  0.000000          1  \n",
       "1801  0.000000  0.000000  0.000000  0.000000   0.0  0.000000          1  \n",
       "1802  0.000000  0.214784  0.715902  0.187822   0.0  0.000000          1  \n",
       "1803  0.000000  0.362565  0.120848  0.000000   0.0  0.518733          1  \n",
       "...        ...       ...       ...       ...   ...       ...        ...  \n",
       "3346  0.000000  0.000000  0.427864  0.000000   0.0  0.000000          0  \n",
       "3345  0.000000  0.156299  0.104193  0.136679   0.0  0.596326          0  \n",
       "3344  0.406245  0.000000  0.000000  0.339823   0.0  0.000000          0  \n",
       "3343  0.000000  0.000000  0.000000  0.459420   0.0  0.000000          0  \n",
       "4641  0.000000  0.000000  0.000000  0.000000   0.0  0.000000          0  \n",
       "\n",
       "[4642 rows x 26 columns]"
      ]
     },
     "execution_count": 22,
     "metadata": {},
     "output_type": "execute_result"
    }
   ],
   "source": [
    "reddit_tvec_stem_posts.sort_values('subreddit', ascending = False)"
   ]
  },
  {
   "cell_type": "code",
   "execution_count": 23,
   "id": "3d68e1f0",
   "metadata": {},
   "outputs": [
    {
     "data": {
      "text/plain": [
       "(4642, 26)"
      ]
     },
     "execution_count": 23,
     "metadata": {},
     "output_type": "execute_result"
    }
   ],
   "source": [
    "reddit_tvec_stem_posts.shape"
   ]
  },
  {
   "cell_type": "markdown",
   "id": "3a27a48f",
   "metadata": {},
   "source": [
    "## Part 4b: Modeling "
   ]
  },
  {
   "cell_type": "markdown",
   "id": "b4e2c822",
   "metadata": {},
   "source": [
    "With our reddit posts preprocessed by tokenizing, lemmatizing, and stemming our text. we are ready to build our models and evaluate accordingly. "
   ]
  },
  {
   "cell_type": "markdown",
   "id": "5923aaa5",
   "metadata": {},
   "source": [
    "__Modeling__\n",
    "* Build Logistic Regression and Random Forest models to predict text type and accurately predict whether the post belongs to the legal advice or casual conversation subrredits. \n",
    "* Examine the performance of the model."
   ]
  },
  {
   "cell_type": "markdown",
   "id": "da751f91",
   "metadata": {},
   "source": [
    "__Logistic regression using raw posts.__"
   ]
  },
  {
   "cell_type": "code",
   "execution_count": 24,
   "id": "6e0121dc",
   "metadata": {},
   "outputs": [],
   "source": [
    "# Set up X and y\n",
    "X = reddit_tvec_posts.drop(columns ='subreddit')\n",
    "y = reddit_tvec_posts['subreddit']\n",
    "\n",
    "#Train/Split \n",
    "X_train, X_test, y_train, y_test = train_test_split(X, y, random_state = 123)"
   ]
  },
  {
   "cell_type": "markdown",
   "id": "8f670821",
   "metadata": {},
   "source": [
    "### Baseline "
   ]
  },
  {
   "cell_type": "code",
   "execution_count": 25,
   "id": "d160fa1a",
   "metadata": {},
   "outputs": [
    {
     "data": {
      "text/plain": [
       "1    0.583154\n",
       "0    0.416846\n",
       "Name: subreddit, dtype: float64"
      ]
     },
     "execution_count": 25,
     "metadata": {},
     "output_type": "execute_result"
    }
   ],
   "source": [
    "y.value_counts(normalize = True)"
   ]
  },
  {
   "cell_type": "code",
   "execution_count": 26,
   "id": "19395955",
   "metadata": {},
   "outputs": [],
   "source": [
    "# Instantiate model\n",
    "logreg = LogisticRegression(solver = 'newton-cg')"
   ]
  },
  {
   "cell_type": "code",
   "execution_count": 27,
   "id": "693ff325",
   "metadata": {},
   "outputs": [
    {
     "data": {
      "text/plain": [
       "LogisticRegression(solver='newton-cg')"
      ]
     },
     "execution_count": 27,
     "metadata": {},
     "output_type": "execute_result"
    }
   ],
   "source": [
    "# Fit the model\n",
    "logreg.fit(X_train, y_train)"
   ]
  },
  {
   "cell_type": "markdown",
   "id": "648e4651",
   "metadata": {},
   "source": [
    "__Evaluation Metrics__ "
   ]
  },
  {
   "cell_type": "code",
   "execution_count": 28,
   "id": "1d2af7c2",
   "metadata": {},
   "outputs": [
    {
     "name": "stdout",
     "output_type": "stream",
     "text": [
      "Training Accuracy Score: 0.6630278655558748\n",
      "Testing Accuracy Score: 0.6520241171403962\n",
      "Cross Validation Score: 0.6581251623918934\n"
     ]
    }
   ],
   "source": [
    "print(f'Training Accuracy Score: {logreg.score(X_train, y_train)}')\n",
    "print(f'Testing Accuracy Score: {logreg.score(X_test, y_test)}')\n",
    "print(f'Cross Validation Score: {cross_val_score(logreg,X,y).mean()}')"
   ]
  },
  {
   "cell_type": "markdown",
   "id": "d56b1789",
   "metadata": {},
   "source": [
    "* Slight in decrease in the test data accuracy score, but overall these are low scores, not very close to 1. "
   ]
  },
  {
   "cell_type": "code",
   "execution_count": 29,
   "id": "b415f643",
   "metadata": {},
   "outputs": [
    {
     "data": {
      "text/plain": [
       "[(1.6025736215501392, 'index'),\n",
       " (0.7045057046073065, 'author'),\n",
       " (0.37514662324705716, 'created_utc'),\n",
       " (1.2970688231833196, 'full_link'),\n",
       " (0.2402083385554355, 'id'),\n",
       " (0.2117858661530004, 'num_comments'),\n",
       " (0.9815416739663659, 'retrieved_on'),\n",
       " (1.3258727602931206, 'selftext'),\n",
       " (2.036790762228532, 'subreddit')]"
      ]
     },
     "execution_count": 29,
     "metadata": {},
     "output_type": "execute_result"
    }
   ],
   "source": [
    "#not sure if these will help in my evaluation. \n",
    "list(zip(np.exp(logreg.coef_[0]),reddit.columns))"
   ]
  },
  {
   "cell_type": "code",
   "execution_count": 30,
   "id": "cb6bf268",
   "metadata": {},
   "outputs": [],
   "source": [
    "# Predicted probabilities for test set\n",
    "#logreg.predict_proba(X_test)"
   ]
  },
  {
   "cell_type": "code",
   "execution_count": 31,
   "id": "0c7e66cf",
   "metadata": {},
   "outputs": [],
   "source": [
    "# Generat predictions for test set\n",
    "preds = logreg.predict(X_test)"
   ]
  },
  {
   "cell_type": "markdown",
   "id": "94086b4a",
   "metadata": {},
   "source": [
    "__Reminder:__ \n",
    " * Casual conversation subreddits = __'0'__\n",
    " * Legal Advice subreddits = __'1'__\n",
    " \n",
    " \n",
    "Using our results from the confusion matrices displayed below,  I'll calculate the sensitivity and specificity scores for each instance. The sensitivity score looks to mnimize the __false negatives__, in our case classifying a post as a casual conversation subreddit post when in fact it was a legal advice subreddit post. The specificity score looks to minimize the __false positives__, meaning we incorrectly classify a post as a legal advice subreddit post when in fact it was a casual conversation post. \n",
    "\n",
    "In order to increase our accuracy of proper classification ultimately optimizing our model we'll need to tweak or models to process and produce higher true positives and true negatives meaning a higher precision of classification of each text data. Let's see what our matrices tell us. "
   ]
  },
  {
   "cell_type": "code",
   "execution_count": 32,
   "id": "4e858974",
   "metadata": {},
   "outputs": [
    {
     "data": {
      "text/plain": [
       "array([[250, 231],\n",
       "       [173, 507]])"
      ]
     },
     "execution_count": 32,
     "metadata": {},
     "output_type": "execute_result"
    }
   ],
   "source": [
    "# Generate confusion matrix.\n",
    "confusion_matrix(y_test, preds)"
   ]
  },
  {
   "cell_type": "code",
   "execution_count": 33,
   "id": "6b20e50e",
   "metadata": {},
   "outputs": [
    {
     "data": {
      "image/png": "[encoded data removed]",
      "text/plain": [
       "<Figure size 432x288 with 2 Axes>"
      ]
     },
     "metadata": {
      "needs_background": "light"
     },
     "output_type": "display_data"
    }
   ],
   "source": [
    "# Plot confusion matrix.\n",
    "metrics.plot_confusion_matrix(logreg, X_test, y_test, cmap='Blues', \n",
    "                      values_format='d', display_labels=['casual', 'legal']);"
   ]
  },
  {
   "cell_type": "markdown",
   "id": "a3790c5a",
   "metadata": {},
   "source": [
    "* True Negative (TN)- correctly predicted that the post IS NOT a legal advice subreddit.\n",
    "* False Positive (FP)- Incorrectly predicted that the post IS a legal advice subreddit.\n",
    "* False Negative ( FN)- Incorrectly predicted that the post IS NOT a legal advice subreddit.\n",
    "* True Positives (TP)-correctly predicted that the post IS a legal advice subreddit. "
   ]
  },
  {
   "cell_type": "code",
   "execution_count": 34,
   "id": "a955df53",
   "metadata": {},
   "outputs": [],
   "source": [
    "TN, FP, FN, TP = confusion_matrix(y_test, preds).ravel()"
   ]
  },
  {
   "cell_type": "markdown",
   "id": "261fb269",
   "metadata": {},
   "source": [
    "__Missclasification Rate__ - How many did the model predict incorrectly?"
   ]
  },
  {
   "cell_type": "code",
   "execution_count": 35,
   "id": "3232ae1b",
   "metadata": {},
   "outputs": [
    {
     "data": {
      "text/plain": [
       "0.4469026548672566"
      ]
     },
     "execution_count": 35,
     "metadata": {},
     "output_type": "execute_result"
    }
   ],
   "source": [
    "missclassification = (FP+FN)/(TN + FP+TN+FN)\n",
    "missclassification"
   ]
  },
  {
   "cell_type": "markdown",
   "id": "0a7a6d72",
   "metadata": {},
   "source": [
    "__Specificity__- among the casual conversation subreddits (TN), how many did the model predict correctly?"
   ]
  },
  {
   "cell_type": "code",
   "execution_count": 36,
   "id": "d9836b47",
   "metadata": {},
   "outputs": [
    {
     "data": {
      "text/plain": [
       "0.5197505197505198"
      ]
     },
     "execution_count": 36,
     "metadata": {},
     "output_type": "execute_result"
    }
   ],
   "source": [
    "specificity = TN / (TN + FP)\n",
    "specificity"
   ]
  },
  {
   "cell_type": "markdown",
   "id": "b211d5b1",
   "metadata": {},
   "source": [
    "__Sensitivity__- among the legal advice subreddits (TP), how many did the model predict correctly?"
   ]
  },
  {
   "cell_type": "code",
   "execution_count": 37,
   "id": "5b83125d",
   "metadata": {},
   "outputs": [
    {
     "data": {
      "text/plain": [
       "0.7455882352941177"
      ]
     },
     "execution_count": 37,
     "metadata": {},
     "output_type": "execute_result"
    }
   ],
   "source": [
    "sensitivity = TP / (TP + FN)\n",
    "sensitivity"
   ]
  },
  {
   "cell_type": "markdown",
   "id": "e3d6e0a3",
   "metadata": {},
   "source": [
    "* Let's compare our results to the other two variations of this logistic regression model. "
   ]
  },
  {
   "cell_type": "markdown",
   "id": "120a2ba2",
   "metadata": {},
   "source": [
    "__Logistic regression model using lemmatized words__"
   ]
  },
  {
   "cell_type": "code",
   "execution_count": 38,
   "id": "84332557",
   "metadata": {},
   "outputs": [],
   "source": [
    "# Set up X and y lemmatized words\n",
    "X = reddit_tvec_lemm_posts.drop(columns ='subreddit')\n",
    "y = reddit_tvec_posts['subreddit']\n",
    "\n",
    "#Train/Split \n",
    "X_train, X_test, y_train, y_test = train_test_split(X, y, random_state = 123)"
   ]
  },
  {
   "cell_type": "markdown",
   "id": "f99c1c10",
   "metadata": {},
   "source": [
    "__Baseline__"
   ]
  },
  {
   "cell_type": "code",
   "execution_count": 39,
   "id": "4bff3258",
   "metadata": {},
   "outputs": [
    {
     "data": {
      "text/plain": [
       "1    0.583154\n",
       "0    0.416846\n",
       "Name: subreddit, dtype: float64"
      ]
     },
     "execution_count": 39,
     "metadata": {},
     "output_type": "execute_result"
    }
   ],
   "source": [
    "y.value_counts(normalize = True)"
   ]
  },
  {
   "cell_type": "code",
   "execution_count": 40,
   "id": "f61cebc5",
   "metadata": {},
   "outputs": [
    {
     "data": {
      "text/plain": [
       "LogisticRegression(solver='newton-cg')"
      ]
     },
     "execution_count": 40,
     "metadata": {},
     "output_type": "execute_result"
    }
   ],
   "source": [
    "# Instantiate model\n",
    "logreg_lemm = LogisticRegression(solver = 'newton-cg')\n",
    "# Fit the model\n",
    "logreg_lemm.fit(X_train, y_train)"
   ]
  },
  {
   "cell_type": "code",
   "execution_count": 41,
   "id": "e0e624a9",
   "metadata": {},
   "outputs": [
    {
     "name": "stdout",
     "output_type": "stream",
     "text": [
      "Training Accuracy Score: 0.7242171789715599\n",
      "Testing Accuracy Score: 0.7295434969853575\n",
      "Cross Validation Score: 0.7233969600237555\n"
     ]
    }
   ],
   "source": [
    "print(f'Training Accuracy Score: {logreg_lemm.score(X_train, y_train)}')\n",
    "print(f'Testing Accuracy Score: {logreg_lemm.score(X_test, y_test)}')\n",
    "print(f'Cross Validation Score: {cross_val_score(logreg_lemm,X,y).mean()}')"
   ]
  },
  {
   "cell_type": "markdown",
   "id": "a70cb9a6",
   "metadata": {},
   "source": [
    "* Increase in overall accuracy scores in comparison to the \"raw\" (meaning not lemmatized or stemmed text data) text data. \n",
    "* The test accuracy score is ever so slightly higher than the training score, meaning the model performs better, barely, with test (newly introduced) data. "
   ]
  },
  {
   "cell_type": "code",
   "execution_count": 42,
   "id": "716da159",
   "metadata": {},
   "outputs": [],
   "source": [
    "# Predictions for test set\n",
    "preds = logreg_lemm.predict(X_test)"
   ]
  },
  {
   "cell_type": "code",
   "execution_count": 43,
   "id": "02d34882",
   "metadata": {},
   "outputs": [
    {
     "data": {
      "text/plain": [
       "array([[283, 198],\n",
       "       [116, 564]])"
      ]
     },
     "execution_count": 43,
     "metadata": {},
     "output_type": "execute_result"
    }
   ],
   "source": [
    "# Generate confusion matrix.\n",
    "confusion_matrix(y_test, preds)"
   ]
  },
  {
   "cell_type": "code",
   "execution_count": 44,
   "id": "91bff00c",
   "metadata": {},
   "outputs": [
    {
     "data": {
      "image/png": "[encoded data removed]",
      "text/plain": [
       "<Figure size 432x288 with 2 Axes>"
      ]
     },
     "metadata": {
      "needs_background": "light"
     },
     "output_type": "display_data"
    }
   ],
   "source": [
    "# Plot confusion matrix.\n",
    "metrics.plot_confusion_matrix(logreg_lemm, X_test, y_test, cmap='Greens', \n",
    "                      values_format='d', display_labels=['casual', 'legal']);"
   ]
  },
  {
   "cell_type": "code",
   "execution_count": 45,
   "id": "502b48fe",
   "metadata": {},
   "outputs": [],
   "source": [
    "TN, FP, FN, TP = confusion_matrix(y_test, preds).ravel()"
   ]
  },
  {
   "cell_type": "markdown",
   "id": "fd40cb4d",
   "metadata": {},
   "source": [
    "__Misclassification Rate__ - How many did the model predict incorrectly?"
   ]
  },
  {
   "cell_type": "code",
   "execution_count": 46,
   "id": "4eae2c4c",
   "metadata": {},
   "outputs": [
    {
     "data": {
      "text/plain": [
       "0.3568181818181818"
      ]
     },
     "execution_count": 46,
     "metadata": {},
     "output_type": "execute_result"
    }
   ],
   "source": [
    "missclassification = (FP+FN)/(TN + FP+TN+FN)\n",
    "missclassification"
   ]
  },
  {
   "cell_type": "markdown",
   "id": "4f751990",
   "metadata": {},
   "source": [
    "__Specificity__- among the casual conversation subreddits (TN), how many did the model predict correctly?"
   ]
  },
  {
   "cell_type": "code",
   "execution_count": 47,
   "id": "9386a534",
   "metadata": {},
   "outputs": [
    {
     "data": {
      "text/plain": [
       "0.5883575883575883"
      ]
     },
     "execution_count": 47,
     "metadata": {},
     "output_type": "execute_result"
    }
   ],
   "source": [
    "specificity = TN / (TN + FP)\n",
    "specificity"
   ]
  },
  {
   "cell_type": "markdown",
   "id": "baddf179",
   "metadata": {},
   "source": [
    "__Sensitivity__- among the legal advice subreddits (TP), how many did the model predict correctly?"
   ]
  },
  {
   "cell_type": "code",
   "execution_count": 48,
   "id": "f6fb9c21",
   "metadata": {},
   "outputs": [
    {
     "data": {
      "text/plain": [
       "0.8294117647058824"
      ]
     },
     "execution_count": 48,
     "metadata": {},
     "output_type": "execute_result"
    }
   ],
   "source": [
    "sensitivity = TP / (TP + FN)\n",
    "sensitivity"
   ]
  },
  {
   "cell_type": "markdown",
   "id": "e5a11ecf",
   "metadata": {},
   "source": [
    "__Comparison between \"raw\" and lemmatized text data:__\n",
    "* The misclassification rate reduces, meaning less incorrect predictions\n",
    "* The specificity score increase, meaning less false positives.\n",
    "* The sensitivity score also increases, meaning less false negatives.  "
   ]
  },
  {
   "cell_type": "markdown",
   "id": "9ab15b08",
   "metadata": {},
   "source": [
    "__Logistic regression model using stemmed words__"
   ]
  },
  {
   "cell_type": "code",
   "execution_count": 49,
   "id": "cf858948",
   "metadata": {},
   "outputs": [],
   "source": [
    "# Set up X and y stemmed words\n",
    "X = reddit_tvec_stem_posts.drop(columns ='subreddit')\n",
    "y = reddit_tvec_posts['subreddit']\n",
    "\n",
    "#Train/Split \n",
    "X_train, X_test, y_train, y_test = train_test_split(X, y, random_state = 123)"
   ]
  },
  {
   "cell_type": "markdown",
   "id": "8d425998",
   "metadata": {},
   "source": [
    "__Baseline__"
   ]
  },
  {
   "cell_type": "code",
   "execution_count": 50,
   "id": "a6b40daa",
   "metadata": {},
   "outputs": [
    {
     "data": {
      "text/plain": [
       "1    0.583154\n",
       "0    0.416846\n",
       "Name: subreddit, dtype: float64"
      ]
     },
     "execution_count": 50,
     "metadata": {},
     "output_type": "execute_result"
    }
   ],
   "source": [
    "y.value_counts(normalize = True)"
   ]
  },
  {
   "cell_type": "code",
   "execution_count": 51,
   "id": "9e586bed",
   "metadata": {},
   "outputs": [
    {
     "data": {
      "text/plain": [
       "LogisticRegression(solver='newton-cg')"
      ]
     },
     "execution_count": 51,
     "metadata": {},
     "output_type": "execute_result"
    }
   ],
   "source": [
    "# Instantiate model\n",
    "logreg_stem = LogisticRegression(solver = 'newton-cg')\n",
    "# Fit the model\n",
    "logreg_stem.fit(X_train, y_train)"
   ]
  },
  {
   "cell_type": "code",
   "execution_count": 52,
   "id": "22df234a",
   "metadata": {},
   "outputs": [
    {
     "name": "stdout",
     "output_type": "stream",
     "text": [
      "Training Accuracy Score: 0.7710428037920138\n",
      "Testing Accuracy Score: 0.7631352282515074\n",
      "Cross Validation Score: 0.7667013102705913\n"
     ]
    }
   ],
   "source": [
    "print(f'Training Accuracy Score: {logreg_stem.score(X_train, y_train)}')\n",
    "print(f'Testing Accuracy Score: {logreg_stem.score(X_test, y_test)}')\n",
    "print(f'Cross Validation Score: {cross_val_score(logreg_stem,X,y).mean()}')"
   ]
  },
  {
   "cell_type": "markdown",
   "id": "a894273a",
   "metadata": {},
   "source": [
    "* Very slight increase in scores when compared to our lemmatized model. \n",
    "* The testing model perform slightly worse than the test model. "
   ]
  },
  {
   "cell_type": "code",
   "execution_count": 53,
   "id": "dad46b4a",
   "metadata": {},
   "outputs": [],
   "source": [
    "# Predictions for test set\n",
    "preds = logreg_stem.predict(X_test)"
   ]
  },
  {
   "cell_type": "code",
   "execution_count": 54,
   "id": "08e9503c",
   "metadata": {},
   "outputs": [
    {
     "data": {
      "text/plain": [
       "array([[320, 161],\n",
       "       [114, 566]])"
      ]
     },
     "execution_count": 54,
     "metadata": {},
     "output_type": "execute_result"
    }
   ],
   "source": [
    "# Generate confusion matrix.\n",
    "confusion_matrix(y_test, preds)"
   ]
  },
  {
   "cell_type": "code",
   "execution_count": 55,
   "id": "ff397a2e",
   "metadata": {},
   "outputs": [
    {
     "data": {
      "image/png": "[encoded data removed]",
      "text/plain": [
       "<Figure size 432x288 with 2 Axes>"
      ]
     },
     "metadata": {
      "needs_background": "light"
     },
     "output_type": "display_data"
    }
   ],
   "source": [
    "metrics.plot_confusion_matrix(logreg_stem, X_test, y_test, cmap='Purples', \n",
    "                      values_format='d', display_labels=['casual', 'legal']);"
   ]
  },
  {
   "cell_type": "code",
   "execution_count": 56,
   "id": "5c2706e4",
   "metadata": {},
   "outputs": [],
   "source": [
    "TN, FP, FN, TP = confusion_matrix(y_test, preds).ravel()"
   ]
  },
  {
   "cell_type": "markdown",
   "id": "70a3af56",
   "metadata": {},
   "source": [
    "__Misclassification Rate__ - How many did the model predict incorrectly?"
   ]
  },
  {
   "cell_type": "code",
   "execution_count": 57,
   "id": "b72c8639",
   "metadata": {},
   "outputs": [
    {
     "data": {
      "text/plain": [
       "0.3005464480874317"
      ]
     },
     "execution_count": 57,
     "metadata": {},
     "output_type": "execute_result"
    }
   ],
   "source": [
    "missclassification = (FP+FN)/(TN + FP+TN+FN)\n",
    "missclassification"
   ]
  },
  {
   "cell_type": "markdown",
   "id": "32a45ecd",
   "metadata": {},
   "source": [
    "__Specificity__- among the casual conversation subreddits (TN), how many did the model predict correctly?"
   ]
  },
  {
   "cell_type": "code",
   "execution_count": 58,
   "id": "de3ff57a",
   "metadata": {},
   "outputs": [
    {
     "data": {
      "text/plain": [
       "0.6652806652806653"
      ]
     },
     "execution_count": 58,
     "metadata": {},
     "output_type": "execute_result"
    }
   ],
   "source": [
    "specificity = TN / (TN + FP)\n",
    "specificity"
   ]
  },
  {
   "cell_type": "markdown",
   "id": "7261c773",
   "metadata": {},
   "source": [
    "__Sensitivity__- among the legal advice subreddits (TP), how many did the model predict correctly?"
   ]
  },
  {
   "cell_type": "code",
   "execution_count": 59,
   "id": "8a215951",
   "metadata": {},
   "outputs": [
    {
     "data": {
      "text/plain": [
       "0.8323529411764706"
      ]
     },
     "execution_count": 59,
     "metadata": {},
     "output_type": "execute_result"
    }
   ],
   "source": [
    "sensitivity = TP / (TP + FN)\n",
    "sensitivity"
   ]
  },
  {
   "cell_type": "markdown",
   "id": "cac507ea",
   "metadata": {},
   "source": [
    "__Comparison between \"raw\" and stemmed text data:__\n",
    "* The misclassification rate reduces, meaning less incorrect predictions\n",
    "* The specificity score increases, meaning less false positives.\n",
    "* The sensitivity score also increases, meaning less false negatives.  \n",
    "\n",
    "__Comparison between lemmatized and stemmed text data:__\n",
    "* The misclassification rate reduced by 0.056, meaninga slight decease in incorrect predictions.\n",
    "* The specificity score increases (approx. 0.59 to 0.67), meaning less false positives.\n",
    "* The sensitivity score also increases slightly, meaning less false negatives. "
   ]
  },
  {
   "cell_type": "markdown",
   "id": "b910c10b",
   "metadata": {},
   "source": [
    "__Logisitic Regression Summary__\n",
    "\n",
    "Based on the accuracy scores, misclassification rate, specificity score, and sensitivity score our logistic regression model with stemmed text data, performed the best and increased our precision of proper classification of subreddit posts. "
   ]
  },
  {
   "cell_type": "markdown",
   "id": "a247777c",
   "metadata": {},
   "source": [
    "### Random Forest Modeling"
   ]
  },
  {
   "cell_type": "markdown",
   "id": "1d27bc6a",
   "metadata": {},
   "source": [
    "__Random Forest using raw posts__"
   ]
  },
  {
   "cell_type": "code",
   "execution_count": 60,
   "id": "412bced4",
   "metadata": {},
   "outputs": [],
   "source": [
    "#Set up X and y\n",
    "X = reddit_tvec_posts.drop(columns ='subreddit')\n",
    "y = reddit_tvec_posts['subreddit']\n",
    "\n",
    "#Train/Split \n",
    "X_train, X_test, y_train, y_test = train_test_split(X, y, random_state = 123, stratify=y)"
   ]
  },
  {
   "cell_type": "code",
   "execution_count": 61,
   "id": "8262e0ee",
   "metadata": {},
   "outputs": [],
   "source": [
    "rf = RandomForestClassifier(n_estimators=100)"
   ]
  },
  {
   "cell_type": "code",
   "execution_count": 62,
   "id": "9f4cdc7b",
   "metadata": {},
   "outputs": [
    {
     "data": {
      "text/plain": [
       "0.6426338659938324"
      ]
     },
     "execution_count": 62,
     "metadata": {},
     "output_type": "execute_result"
    }
   ],
   "source": [
    "cross_val_score(rf, X_train, y_train, cv=5).mean()"
   ]
  },
  {
   "cell_type": "code",
   "execution_count": 63,
   "id": "5fd58aaa",
   "metadata": {},
   "outputs": [
    {
     "name": "stdout",
     "output_type": "stream",
     "text": [
      "0.6630295684295585\n"
     ]
    },
    {
     "data": {
      "text/plain": [
       "{'max_depth': 5, 'min_samples_leaf': 2, 'n_estimators': 150, 'n_jobs': -1}"
      ]
     },
     "execution_count": 63,
     "metadata": {},
     "output_type": "execute_result"
    }
   ],
   "source": [
    "#Grid Search to identify the bext parameters to use. \n",
    "rf_params = {\n",
    "    'max_depth': [None, 1, 2, 3, 4, 5],\n",
    "    'min_samples_leaf': [2, 3],\n",
    "    'n_estimators': [100, 150, 200],\n",
    "    'n_jobs': [-1]\n",
    "}\n",
    "gs = GridSearchCV(rf, param_grid=rf_params, cv=5)\n",
    "gs.fit(X_train, y_train)\n",
    "print(gs.best_score_)\n",
    "gs.best_params_"
   ]
  },
  {
   "cell_type": "code",
   "execution_count": 64,
   "id": "0cf55c73",
   "metadata": {},
   "outputs": [
    {
     "data": {
      "text/plain": [
       "0.6931916116058604"
      ]
     },
     "execution_count": 64,
     "metadata": {},
     "output_type": "execute_result"
    }
   ],
   "source": [
    "gs.score(X_train, y_train)"
   ]
  },
  {
   "cell_type": "markdown",
   "id": "92dcc912",
   "metadata": {},
   "source": [
    "__Random Forest using lemmatized posts__"
   ]
  },
  {
   "cell_type": "code",
   "execution_count": 65,
   "id": "45edf77a",
   "metadata": {},
   "outputs": [],
   "source": [
    "#Set up X and y\n",
    "X_lemm = reddit_tvec_lemm_posts.drop(columns ='subreddit')\n",
    "y_lemm = reddit_tvec_posts['subreddit']\n",
    "\n",
    "#Train/Split \n",
    "X_train, X_test, y_train, y_test = train_test_split(X_lemm, y_lemm, random_state = 123, stratify=y)"
   ]
  },
  {
   "cell_type": "code",
   "execution_count": 66,
   "id": "0f8bfc8f",
   "metadata": {},
   "outputs": [],
   "source": [
    "rf = RandomForestClassifier(n_estimators=100)"
   ]
  },
  {
   "cell_type": "code",
   "execution_count": 67,
   "id": "05331917",
   "metadata": {},
   "outputs": [
    {
     "data": {
      "text/plain": [
       "0.7000902884282392"
      ]
     },
     "execution_count": 67,
     "metadata": {},
     "output_type": "execute_result"
    }
   ],
   "source": [
    "cross_val_score(rf, X_train, y_train, cv=5).mean()"
   ]
  },
  {
   "cell_type": "code",
   "execution_count": 68,
   "id": "de983581",
   "metadata": {},
   "outputs": [
    {
     "name": "stdout",
     "output_type": "stream",
     "text": [
      "0.7115857781295867\n"
     ]
    },
    {
     "data": {
      "text/plain": [
       "{'max_depth': 5, 'min_samples_leaf': 2, 'n_estimators': 200, 'n_jobs': -1}"
      ]
     },
     "execution_count": 68,
     "metadata": {},
     "output_type": "execute_result"
    }
   ],
   "source": [
    "#Grid Search to identify the bext parameters to use. \n",
    "rf_params = {\n",
    "    'max_depth': [None, 1, 2, 3, 4, 5],\n",
    "    'min_samples_leaf': [2, 3],\n",
    "    'n_estimators': [100, 150, 200],\n",
    "    'n_jobs': [-1]\n",
    "}\n",
    "gs = GridSearchCV(rf, param_grid=rf_params, cv=5)\n",
    "gs.fit(X_train, y_train)\n",
    "print(gs.best_score_)\n",
    "gs.best_params_"
   ]
  },
  {
   "cell_type": "code",
   "execution_count": 69,
   "id": "d697dea4",
   "metadata": {},
   "outputs": [
    {
     "data": {
      "text/plain": [
       "0.7426027003734559"
      ]
     },
     "execution_count": 69,
     "metadata": {},
     "output_type": "execute_result"
    }
   ],
   "source": [
    "gs.score(X_train, y_train)"
   ]
  },
  {
   "cell_type": "markdown",
   "id": "564e4fd3",
   "metadata": {},
   "source": [
    "__Random Forest using stemmed posts__"
   ]
  },
  {
   "cell_type": "code",
   "execution_count": 70,
   "id": "0e32bcc8",
   "metadata": {},
   "outputs": [],
   "source": [
    "#Set up X and y\n",
    "X_stem = reddit_tvec_stem_posts.drop(columns ='subreddit')\n",
    "y_stem = reddit_tvec_posts['subreddit']\n",
    "\n",
    "#Train/Split \n",
    "X_train, X_test, y_train, y_test = train_test_split(X_stem, y_stem, random_state = 123, stratify=y)"
   ]
  },
  {
   "cell_type": "code",
   "execution_count": 71,
   "id": "7a28973c",
   "metadata": {},
   "outputs": [],
   "source": [
    "rf = RandomForestClassifier(n_estimators=100)"
   ]
  },
  {
   "cell_type": "code",
   "execution_count": 72,
   "id": "a1a6c932",
   "metadata": {},
   "outputs": [
    {
     "data": {
      "text/plain": [
       "0.7655910387704283"
      ]
     },
     "execution_count": 72,
     "metadata": {},
     "output_type": "execute_result"
    }
   ],
   "source": [
    "cross_val_score(rf, X_train, y_train, cv=5).mean()"
   ]
  },
  {
   "cell_type": "code",
   "execution_count": 73,
   "id": "cfecbebc",
   "metadata": {},
   "outputs": [
    {
     "name": "stdout",
     "output_type": "stream",
     "text": [
      "0.7673168258051749\n"
     ]
    },
    {
     "data": {
      "text/plain": [
       "{'max_depth': None, 'min_samples_leaf': 3, 'n_estimators': 150, 'n_jobs': -1}"
      ]
     },
     "execution_count": 73,
     "metadata": {},
     "output_type": "execute_result"
    }
   ],
   "source": [
    "#Grid Search to identify the bext parameters to use. \n",
    "rf_params = {\n",
    "    'max_depth': [None, 1, 2, 3, 4, 5],\n",
    "    'min_samples_leaf': [2, 3],\n",
    "    'n_estimators': [100, 150, 200],\n",
    "    'n_jobs': [-1]\n",
    "}\n",
    "gs = GridSearchCV(rf, param_grid=rf_params, cv=5)\n",
    "gs.fit(X_train, y_train)\n",
    "print(gs.best_score_)\n",
    "gs.best_params_"
   ]
  },
  {
   "cell_type": "markdown",
   "id": "059cb614",
   "metadata": {},
   "source": [
    "* Based on the results of this GridSearch above, the best model should include the following parameters:\n",
    "        - number of estimators/the number of trees in the forest = 150\n",
    "        - The maximum depth of the tree = None"
   ]
  },
  {
   "cell_type": "code",
   "execution_count": 74,
   "id": "927ac48f",
   "metadata": {},
   "outputs": [
    {
     "data": {
      "text/plain": [
       "0.9284688307957484"
      ]
     },
     "execution_count": 74,
     "metadata": {},
     "output_type": "execute_result"
    }
   ],
   "source": [
    "gs.score(X_train, y_train)"
   ]
  },
  {
   "cell_type": "markdown",
   "id": "164cbc1a",
   "metadata": {},
   "source": [
    "__RF Summary__\n",
    "\n",
    "Based on the accuracy scores, our RF  model with stemmed text data, performed the best and increased our precision of properly classifying our subreddit posts. "
   ]
  },
  {
   "cell_type": "markdown",
   "id": "b9543a3f",
   "metadata": {},
   "source": [
    "### Overall Summary"
   ]
  },
  {
   "cell_type": "markdown",
   "id": "33cb2bc0",
   "metadata": {},
   "source": [
    "* Out of the two models used, the Random Forest model yielded the best results. \n",
    "* Our stemmed words resulted in a higher accuracy score compared to the lemmatized words, score of 0.96 compared to 0.74.\n",
    "* For both models used it's evident the benefits of pre-peocessing the text data, either lemmatizing of stemming, in order to improve our model accuracy. "
   ]
  }
 ],
 "metadata": {
  "kernelspec": {
   "display_name": "Python 3",
   "language": "python",
   "name": "python3"
  },
  "language_info": {
   "codemirror_mode": {
    "name": "ipython",
    "version": 3
   },
   "file_extension": ".py",
   "mimetype": "text/x-python",
   "name": "python",
   "nbconvert_exporter": "python",
   "pygments_lexer": "ipython3",
   "version": "3.8.8"
  }
 },
 "nbformat": 4,
 "nbformat_minor": 5
}
