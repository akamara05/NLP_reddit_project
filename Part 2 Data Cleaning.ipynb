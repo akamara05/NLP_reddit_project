{
 "cells": [
  {
   "cell_type": "markdown",
   "id": "9b98ceac",
   "metadata": {},
   "source": [
    "__Part 2: Data Cleaning__ \n",
    " \n",
    "In this notebook, I'm going to combine the two subbredit posts into one dataframe and clean the dataframe, accordingly. "
   ]
  },
  {
   "cell_type": "markdown",
   "id": "b19d0f65",
   "metadata": {},
   "source": [
    "### Imports"
   ]
  },
  {
   "cell_type": "code",
   "execution_count": 1,
   "id": "dab21f11",
   "metadata": {},
   "outputs": [],
   "source": [
    "import numpy as np\n",
    "import pandas as pd\n",
    "from matplotlib import pyplot as plt\n",
    "import seaborn as sns"
   ]
  },
  {
   "cell_type": "markdown",
   "id": "6dec9d2d",
   "metadata": {},
   "source": [
    "Reading in the raw data gathered from Reddit. "
   ]
  },
  {
   "cell_type": "code",
   "execution_count": 2,
   "id": "5320feda",
   "metadata": {},
   "outputs": [],
   "source": [
    "legal = pd.read_csv('./Data/legaladvice_reddit.csv')\n",
    "casual = pd.read_csv('./Data/casualconversation_reddit.csv')"
   ]
  },
  {
   "cell_type": "code",
   "execution_count": 3,
   "id": "24f8ba98",
   "metadata": {},
   "outputs": [
    {
     "data": {
      "text/html": [
       "<div>\n",
       "<style scoped>\n",
       "    .dataframe tbody tr th:only-of-type {\n",
       "        vertical-align: middle;\n",
       "    }\n",
       "\n",
       "    .dataframe tbody tr th {\n",
       "        vertical-align: top;\n",
       "    }\n",
       "\n",
       "    .dataframe thead th {\n",
       "        text-align: right;\n",
       "    }\n",
       "</style>\n",
       "<table border=\"1\" class=\"dataframe\">\n",
       "  <thead>\n",
       "    <tr style=\"text-align: right;\">\n",
       "      <th></th>\n",
       "      <th>Unnamed: 0</th>\n",
       "      <th>all_awardings</th>\n",
       "      <th>allow_live_comments</th>\n",
       "      <th>author</th>\n",
       "      <th>author_flair_background_color</th>\n",
       "      <th>author_flair_css_class</th>\n",
       "      <th>author_flair_text</th>\n",
       "      <th>author_flair_text_color</th>\n",
       "      <th>author_is_blocked</th>\n",
       "      <th>awarders</th>\n",
       "      <th>...</th>\n",
       "      <th>wls</th>\n",
       "      <th>author_flair_richtext</th>\n",
       "      <th>author_flair_type</th>\n",
       "      <th>author_fullname</th>\n",
       "      <th>author_patreon_flair</th>\n",
       "      <th>author_premium</th>\n",
       "      <th>post_hint</th>\n",
       "      <th>preview</th>\n",
       "      <th>banned_by</th>\n",
       "      <th>author_cakeday</th>\n",
       "    </tr>\n",
       "  </thead>\n",
       "  <tbody>\n",
       "    <tr>\n",
       "      <th>0</th>\n",
       "      <td>0</td>\n",
       "      <td>[]</td>\n",
       "      <td>True</td>\n",
       "      <td>[deleted]</td>\n",
       "      <td>NaN</td>\n",
       "      <td>NaN</td>\n",
       "      <td>NaN</td>\n",
       "      <td>dark</td>\n",
       "      <td>False</td>\n",
       "      <td>[]</td>\n",
       "      <td>...</td>\n",
       "      <td>6</td>\n",
       "      <td>NaN</td>\n",
       "      <td>NaN</td>\n",
       "      <td>NaN</td>\n",
       "      <td>NaN</td>\n",
       "      <td>NaN</td>\n",
       "      <td>NaN</td>\n",
       "      <td>NaN</td>\n",
       "      <td>NaN</td>\n",
       "      <td>NaN</td>\n",
       "    </tr>\n",
       "    <tr>\n",
       "      <th>1</th>\n",
       "      <td>1</td>\n",
       "      <td>[]</td>\n",
       "      <td>False</td>\n",
       "      <td>banksnosons</td>\n",
       "      <td>NaN</td>\n",
       "      <td>NaN</td>\n",
       "      <td>NaN</td>\n",
       "      <td>NaN</td>\n",
       "      <td>False</td>\n",
       "      <td>[]</td>\n",
       "      <td>...</td>\n",
       "      <td>6</td>\n",
       "      <td>[]</td>\n",
       "      <td>text</td>\n",
       "      <td>t2_3ha8i7b2</td>\n",
       "      <td>False</td>\n",
       "      <td>False</td>\n",
       "      <td>NaN</td>\n",
       "      <td>NaN</td>\n",
       "      <td>NaN</td>\n",
       "      <td>NaN</td>\n",
       "    </tr>\n",
       "    <tr>\n",
       "      <th>2</th>\n",
       "      <td>2</td>\n",
       "      <td>[]</td>\n",
       "      <td>False</td>\n",
       "      <td>Hangman_Matt</td>\n",
       "      <td>NaN</td>\n",
       "      <td>NaN</td>\n",
       "      <td>NaN</td>\n",
       "      <td>NaN</td>\n",
       "      <td>False</td>\n",
       "      <td>[]</td>\n",
       "      <td>...</td>\n",
       "      <td>6</td>\n",
       "      <td>[]</td>\n",
       "      <td>text</td>\n",
       "      <td>t2_8ew841k</td>\n",
       "      <td>False</td>\n",
       "      <td>False</td>\n",
       "      <td>NaN</td>\n",
       "      <td>NaN</td>\n",
       "      <td>NaN</td>\n",
       "      <td>NaN</td>\n",
       "    </tr>\n",
       "    <tr>\n",
       "      <th>3</th>\n",
       "      <td>3</td>\n",
       "      <td>[]</td>\n",
       "      <td>False</td>\n",
       "      <td>Throwawaaaaaay526289</td>\n",
       "      <td>NaN</td>\n",
       "      <td>NaN</td>\n",
       "      <td>NaN</td>\n",
       "      <td>NaN</td>\n",
       "      <td>False</td>\n",
       "      <td>[]</td>\n",
       "      <td>...</td>\n",
       "      <td>6</td>\n",
       "      <td>[]</td>\n",
       "      <td>text</td>\n",
       "      <td>t2_e0mruzq3</td>\n",
       "      <td>False</td>\n",
       "      <td>False</td>\n",
       "      <td>NaN</td>\n",
       "      <td>NaN</td>\n",
       "      <td>NaN</td>\n",
       "      <td>NaN</td>\n",
       "    </tr>\n",
       "    <tr>\n",
       "      <th>4</th>\n",
       "      <td>4</td>\n",
       "      <td>[]</td>\n",
       "      <td>False</td>\n",
       "      <td>unholychalice</td>\n",
       "      <td>NaN</td>\n",
       "      <td>NaN</td>\n",
       "      <td>NaN</td>\n",
       "      <td>NaN</td>\n",
       "      <td>False</td>\n",
       "      <td>[]</td>\n",
       "      <td>...</td>\n",
       "      <td>6</td>\n",
       "      <td>[]</td>\n",
       "      <td>text</td>\n",
       "      <td>t2_80teju2</td>\n",
       "      <td>False</td>\n",
       "      <td>False</td>\n",
       "      <td>NaN</td>\n",
       "      <td>NaN</td>\n",
       "      <td>NaN</td>\n",
       "      <td>NaN</td>\n",
       "    </tr>\n",
       "  </tbody>\n",
       "</table>\n",
       "<p>5 rows × 70 columns</p>\n",
       "</div>"
      ],
      "text/plain": [
       "   Unnamed: 0 all_awardings  allow_live_comments                author  \\\n",
       "0           0            []                 True             [deleted]   \n",
       "1           1            []                False           banksnosons   \n",
       "2           2            []                False          Hangman_Matt   \n",
       "3           3            []                False  Throwawaaaaaay526289   \n",
       "4           4            []                False         unholychalice   \n",
       "\n",
       "   author_flair_background_color  author_flair_css_class  author_flair_text  \\\n",
       "0                            NaN                     NaN                NaN   \n",
       "1                            NaN                     NaN                NaN   \n",
       "2                            NaN                     NaN                NaN   \n",
       "3                            NaN                     NaN                NaN   \n",
       "4                            NaN                     NaN                NaN   \n",
       "\n",
       "  author_flair_text_color  author_is_blocked awarders  ...  wls  \\\n",
       "0                    dark              False       []  ...    6   \n",
       "1                     NaN              False       []  ...    6   \n",
       "2                     NaN              False       []  ...    6   \n",
       "3                     NaN              False       []  ...    6   \n",
       "4                     NaN              False       []  ...    6   \n",
       "\n",
       "   author_flair_richtext  author_flair_type author_fullname  \\\n",
       "0                    NaN                NaN             NaN   \n",
       "1                     []               text     t2_3ha8i7b2   \n",
       "2                     []               text      t2_8ew841k   \n",
       "3                     []               text     t2_e0mruzq3   \n",
       "4                     []               text      t2_80teju2   \n",
       "\n",
       "   author_patreon_flair author_premium post_hint preview  banned_by  \\\n",
       "0                   NaN            NaN       NaN     NaN        NaN   \n",
       "1                 False          False       NaN     NaN        NaN   \n",
       "2                 False          False       NaN     NaN        NaN   \n",
       "3                 False          False       NaN     NaN        NaN   \n",
       "4                 False          False       NaN     NaN        NaN   \n",
       "\n",
       "   author_cakeday  \n",
       "0             NaN  \n",
       "1             NaN  \n",
       "2             NaN  \n",
       "3             NaN  \n",
       "4             NaN  \n",
       "\n",
       "[5 rows x 70 columns]"
      ]
     },
     "execution_count": 3,
     "metadata": {},
     "output_type": "execute_result"
    }
   ],
   "source": [
    "legal.head()"
   ]
  },
  {
   "cell_type": "code",
   "execution_count": 4,
   "id": "35995473",
   "metadata": {},
   "outputs": [
    {
     "data": {
      "text/html": [
       "<div>\n",
       "<style scoped>\n",
       "    .dataframe tbody tr th:only-of-type {\n",
       "        vertical-align: middle;\n",
       "    }\n",
       "\n",
       "    .dataframe tbody tr th {\n",
       "        vertical-align: top;\n",
       "    }\n",
       "\n",
       "    .dataframe thead th {\n",
       "        text-align: right;\n",
       "    }\n",
       "</style>\n",
       "<table border=\"1\" class=\"dataframe\">\n",
       "  <thead>\n",
       "    <tr style=\"text-align: right;\">\n",
       "      <th></th>\n",
       "      <th>Unnamed: 0</th>\n",
       "      <th>all_awardings</th>\n",
       "      <th>allow_live_comments</th>\n",
       "      <th>author</th>\n",
       "      <th>author_flair_css_class</th>\n",
       "      <th>author_flair_richtext</th>\n",
       "      <th>author_flair_text</th>\n",
       "      <th>author_flair_type</th>\n",
       "      <th>author_fullname</th>\n",
       "      <th>author_is_blocked</th>\n",
       "      <th>...</th>\n",
       "      <th>author_flair_background_color</th>\n",
       "      <th>author_flair_template_id</th>\n",
       "      <th>author_flair_text_color</th>\n",
       "      <th>post_hint</th>\n",
       "      <th>preview</th>\n",
       "      <th>poll_data</th>\n",
       "      <th>author_cakeday</th>\n",
       "      <th>banned_by</th>\n",
       "      <th>distinguished</th>\n",
       "      <th>edited</th>\n",
       "    </tr>\n",
       "  </thead>\n",
       "  <tbody>\n",
       "    <tr>\n",
       "      <th>0</th>\n",
       "      <td>0</td>\n",
       "      <td>[]</td>\n",
       "      <td>False</td>\n",
       "      <td>Prawnprawn101</td>\n",
       "      <td>NaN</td>\n",
       "      <td>[]</td>\n",
       "      <td>NaN</td>\n",
       "      <td>text</td>\n",
       "      <td>t2_5p3jn3ut</td>\n",
       "      <td>False</td>\n",
       "      <td>...</td>\n",
       "      <td>NaN</td>\n",
       "      <td>NaN</td>\n",
       "      <td>NaN</td>\n",
       "      <td>NaN</td>\n",
       "      <td>NaN</td>\n",
       "      <td>NaN</td>\n",
       "      <td>NaN</td>\n",
       "      <td>NaN</td>\n",
       "      <td>NaN</td>\n",
       "      <td>NaN</td>\n",
       "    </tr>\n",
       "    <tr>\n",
       "      <th>1</th>\n",
       "      <td>1</td>\n",
       "      <td>[]</td>\n",
       "      <td>False</td>\n",
       "      <td>Fantastic-Judgment-2</td>\n",
       "      <td>NaN</td>\n",
       "      <td>[]</td>\n",
       "      <td>NaN</td>\n",
       "      <td>text</td>\n",
       "      <td>t2_dvd2sbpi</td>\n",
       "      <td>False</td>\n",
       "      <td>...</td>\n",
       "      <td>NaN</td>\n",
       "      <td>NaN</td>\n",
       "      <td>NaN</td>\n",
       "      <td>NaN</td>\n",
       "      <td>NaN</td>\n",
       "      <td>NaN</td>\n",
       "      <td>NaN</td>\n",
       "      <td>NaN</td>\n",
       "      <td>NaN</td>\n",
       "      <td>NaN</td>\n",
       "    </tr>\n",
       "    <tr>\n",
       "      <th>2</th>\n",
       "      <td>2</td>\n",
       "      <td>[]</td>\n",
       "      <td>False</td>\n",
       "      <td>Prawnprawn101</td>\n",
       "      <td>NaN</td>\n",
       "      <td>[]</td>\n",
       "      <td>NaN</td>\n",
       "      <td>text</td>\n",
       "      <td>t2_5p3jn3ut</td>\n",
       "      <td>False</td>\n",
       "      <td>...</td>\n",
       "      <td>NaN</td>\n",
       "      <td>NaN</td>\n",
       "      <td>NaN</td>\n",
       "      <td>NaN</td>\n",
       "      <td>NaN</td>\n",
       "      <td>NaN</td>\n",
       "      <td>NaN</td>\n",
       "      <td>NaN</td>\n",
       "      <td>NaN</td>\n",
       "      <td>NaN</td>\n",
       "    </tr>\n",
       "    <tr>\n",
       "      <th>3</th>\n",
       "      <td>3</td>\n",
       "      <td>[]</td>\n",
       "      <td>False</td>\n",
       "      <td>Thefallenkraken</td>\n",
       "      <td>NaN</td>\n",
       "      <td>[]</td>\n",
       "      <td>NaN</td>\n",
       "      <td>text</td>\n",
       "      <td>t2_5xvjcsgx</td>\n",
       "      <td>False</td>\n",
       "      <td>...</td>\n",
       "      <td>NaN</td>\n",
       "      <td>NaN</td>\n",
       "      <td>NaN</td>\n",
       "      <td>NaN</td>\n",
       "      <td>NaN</td>\n",
       "      <td>NaN</td>\n",
       "      <td>NaN</td>\n",
       "      <td>NaN</td>\n",
       "      <td>NaN</td>\n",
       "      <td>NaN</td>\n",
       "    </tr>\n",
       "    <tr>\n",
       "      <th>4</th>\n",
       "      <td>4</td>\n",
       "      <td>[]</td>\n",
       "      <td>False</td>\n",
       "      <td>Cyanocitta-cristata</td>\n",
       "      <td>NaN</td>\n",
       "      <td>[]</td>\n",
       "      <td>NaN</td>\n",
       "      <td>text</td>\n",
       "      <td>t2_dvocjzti</td>\n",
       "      <td>False</td>\n",
       "      <td>...</td>\n",
       "      <td>NaN</td>\n",
       "      <td>NaN</td>\n",
       "      <td>NaN</td>\n",
       "      <td>NaN</td>\n",
       "      <td>NaN</td>\n",
       "      <td>NaN</td>\n",
       "      <td>NaN</td>\n",
       "      <td>NaN</td>\n",
       "      <td>NaN</td>\n",
       "      <td>NaN</td>\n",
       "    </tr>\n",
       "  </tbody>\n",
       "</table>\n",
       "<p>5 rows × 74 columns</p>\n",
       "</div>"
      ],
      "text/plain": [
       "   Unnamed: 0 all_awardings  allow_live_comments                author  \\\n",
       "0           0            []                False         Prawnprawn101   \n",
       "1           1            []                False  Fantastic-Judgment-2   \n",
       "2           2            []                False         Prawnprawn101   \n",
       "3           3            []                False       Thefallenkraken   \n",
       "4           4            []                False   Cyanocitta-cristata   \n",
       "\n",
       "  author_flair_css_class author_flair_richtext author_flair_text  \\\n",
       "0                    NaN                    []               NaN   \n",
       "1                    NaN                    []               NaN   \n",
       "2                    NaN                    []               NaN   \n",
       "3                    NaN                    []               NaN   \n",
       "4                    NaN                    []               NaN   \n",
       "\n",
       "  author_flair_type author_fullname  author_is_blocked  ...  \\\n",
       "0              text     t2_5p3jn3ut              False  ...   \n",
       "1              text     t2_dvd2sbpi              False  ...   \n",
       "2              text     t2_5p3jn3ut              False  ...   \n",
       "3              text     t2_5xvjcsgx              False  ...   \n",
       "4              text     t2_dvocjzti              False  ...   \n",
       "\n",
       "  author_flair_background_color author_flair_template_id  \\\n",
       "0                           NaN                      NaN   \n",
       "1                           NaN                      NaN   \n",
       "2                           NaN                      NaN   \n",
       "3                           NaN                      NaN   \n",
       "4                           NaN                      NaN   \n",
       "\n",
       "  author_flair_text_color  post_hint  preview  poll_data author_cakeday  \\\n",
       "0                     NaN        NaN      NaN        NaN            NaN   \n",
       "1                     NaN        NaN      NaN        NaN            NaN   \n",
       "2                     NaN        NaN      NaN        NaN            NaN   \n",
       "3                     NaN        NaN      NaN        NaN            NaN   \n",
       "4                     NaN        NaN      NaN        NaN            NaN   \n",
       "\n",
       "  banned_by distinguished edited  \n",
       "0       NaN           NaN    NaN  \n",
       "1       NaN           NaN    NaN  \n",
       "2       NaN           NaN    NaN  \n",
       "3       NaN           NaN    NaN  \n",
       "4       NaN           NaN    NaN  \n",
       "\n",
       "[5 rows x 74 columns]"
      ]
     },
     "execution_count": 4,
     "metadata": {},
     "output_type": "execute_result"
    }
   ],
   "source": [
    "casual.head()"
   ]
  },
  {
   "cell_type": "code",
   "execution_count": 5,
   "id": "095a2929",
   "metadata": {},
   "outputs": [],
   "source": [
    "legal.drop(columns='Unnamed: 0', inplace=True)\n",
    "casual.drop(columns='Unnamed: 0', inplace=True)"
   ]
  },
  {
   "cell_type": "code",
   "execution_count": 6,
   "id": "2fdf6303",
   "metadata": {},
   "outputs": [
    {
     "name": "stdout",
     "output_type": "stream",
     "text": [
      "(3000, 73) (3000, 69)\n"
     ]
    }
   ],
   "source": [
    "print(casual.shape, legal.shape)"
   ]
  },
  {
   "cell_type": "markdown",
   "id": "0a7ce4f4",
   "metadata": {},
   "source": [
    "__Legal Advice Subreddit Clean Up__"
   ]
  },
  {
   "cell_type": "markdown",
   "id": "1af3789d",
   "metadata": {},
   "source": [
    "By reviewing all the columns and their terms, I've eliminated a majority of them and have kept those displayed below including the 'title' and 'seltext'."
   ]
  },
  {
   "cell_type": "code",
   "execution_count": 7,
   "id": "e4a8e243",
   "metadata": {},
   "outputs": [
    {
     "data": {
      "text/plain": [
       "Index(['all_awardings', 'allow_live_comments', 'author',\n",
       "       'author_flair_background_color', 'author_flair_css_class',\n",
       "       'author_flair_text', 'author_flair_text_color', 'author_is_blocked',\n",
       "       'awarders', 'can_mod_post', 'contest_mode', 'created_utc', 'domain',\n",
       "       'edited', 'full_link', 'gildings', 'id', 'is_created_from_ads_ui',\n",
       "       'is_crosspostable', 'is_meta', 'is_original_content',\n",
       "       'is_reddit_media_domain', 'is_robot_indexable', 'is_self', 'is_video',\n",
       "       'link_flair_background_color', 'link_flair_richtext',\n",
       "       'link_flair_template_id', 'link_flair_text', 'link_flair_text_color',\n",
       "       'link_flair_type', 'locked', 'media_only', 'no_follow', 'num_comments',\n",
       "       'num_crossposts', 'over_18', 'parent_whitelist_status', 'permalink',\n",
       "       'pinned', 'pwls', 'removed_by_category', 'retrieved_on', 'score',\n",
       "       'selftext', 'send_replies', 'spoiler', 'stickied', 'subreddit',\n",
       "       'subreddit_id', 'subreddit_subscribers', 'subreddit_type', 'thumbnail',\n",
       "       'title', 'total_awards_received', 'treatment_tags', 'upvote_ratio',\n",
       "       'url', 'whitelist_status', 'wls', 'author_flair_richtext',\n",
       "       'author_flair_type', 'author_fullname', 'author_patreon_flair',\n",
       "       'author_premium', 'post_hint', 'preview', 'banned_by',\n",
       "       'author_cakeday'],\n",
       "      dtype='object')"
      ]
     },
     "execution_count": 7,
     "metadata": {},
     "output_type": "execute_result"
    }
   ],
   "source": [
    "legal.columns"
   ]
  },
  {
   "cell_type": "code",
   "execution_count": 8,
   "id": "f0e89bcd",
   "metadata": {},
   "outputs": [],
   "source": [
    "#Creating a dataframe with the only the coloumns I considered relevant for my analysis.\n",
    "legal.drop(legal.columns.difference(['author','created_utc','full_link','id', 'is_video','num_comments',\\\n",
    "                                        'retrieved_on','title', 'selftext','media_only','subreddit','url']), 1, inplace = True)"
   ]
  },
  {
   "cell_type": "code",
   "execution_count": 9,
   "id": "6b0f1ec1",
   "metadata": {},
   "outputs": [
    {
     "data": {
      "text/html": [
       "<div>\n",
       "<style scoped>\n",
       "    .dataframe tbody tr th:only-of-type {\n",
       "        vertical-align: middle;\n",
       "    }\n",
       "\n",
       "    .dataframe tbody tr th {\n",
       "        vertical-align: top;\n",
       "    }\n",
       "\n",
       "    .dataframe thead th {\n",
       "        text-align: right;\n",
       "    }\n",
       "</style>\n",
       "<table border=\"1\" class=\"dataframe\">\n",
       "  <thead>\n",
       "    <tr style=\"text-align: right;\">\n",
       "      <th></th>\n",
       "      <th>author</th>\n",
       "      <th>created_utc</th>\n",
       "      <th>full_link</th>\n",
       "      <th>id</th>\n",
       "      <th>is_video</th>\n",
       "      <th>media_only</th>\n",
       "      <th>num_comments</th>\n",
       "      <th>retrieved_on</th>\n",
       "      <th>selftext</th>\n",
       "      <th>subreddit</th>\n",
       "      <th>title</th>\n",
       "      <th>url</th>\n",
       "    </tr>\n",
       "  </thead>\n",
       "  <tbody>\n",
       "    <tr>\n",
       "      <th>0</th>\n",
       "      <td>[deleted]</td>\n",
       "      <td>1629570682</td>\n",
       "      <td>https://www.reddit.com/r/legaladvice/comments/...</td>\n",
       "      <td>p8wo32</td>\n",
       "      <td>False</td>\n",
       "      <td>False</td>\n",
       "      <td>5</td>\n",
       "      <td>1629577753</td>\n",
       "      <td>[deleted]</td>\n",
       "      <td>legaladvice</td>\n",
       "      <td>Possibly scammed from a dating app</td>\n",
       "      <td>https://www.reddit.com/r/legaladvice/comments/...</td>\n",
       "    </tr>\n",
       "    <tr>\n",
       "      <th>1</th>\n",
       "      <td>banksnosons</td>\n",
       "      <td>1629570605</td>\n",
       "      <td>https://www.reddit.com/r/legaladvice/comments/...</td>\n",
       "      <td>p8wn7t</td>\n",
       "      <td>False</td>\n",
       "      <td>False</td>\n",
       "      <td>3</td>\n",
       "      <td>1629577686</td>\n",
       "      <td>What can I do? My old neighbor witnessed the p...</td>\n",
       "      <td>legaladvice</td>\n",
       "      <td>Package delivered to old residence, not being ...</td>\n",
       "      <td>https://www.reddit.com/r/legaladvice/comments/...</td>\n",
       "    </tr>\n",
       "  </tbody>\n",
       "</table>\n",
       "</div>"
      ],
      "text/plain": [
       "        author  created_utc  \\\n",
       "0    [deleted]   1629570682   \n",
       "1  banksnosons   1629570605   \n",
       "\n",
       "                                           full_link      id  is_video  \\\n",
       "0  https://www.reddit.com/r/legaladvice/comments/...  p8wo32     False   \n",
       "1  https://www.reddit.com/r/legaladvice/comments/...  p8wn7t     False   \n",
       "\n",
       "   media_only  num_comments  retrieved_on  \\\n",
       "0       False             5    1629577753   \n",
       "1       False             3    1629577686   \n",
       "\n",
       "                                            selftext    subreddit  \\\n",
       "0                                          [deleted]  legaladvice   \n",
       "1  What can I do? My old neighbor witnessed the p...  legaladvice   \n",
       "\n",
       "                                               title  \\\n",
       "0                 Possibly scammed from a dating app   \n",
       "1  Package delivered to old residence, not being ...   \n",
       "\n",
       "                                                 url  \n",
       "0  https://www.reddit.com/r/legaladvice/comments/...  \n",
       "1  https://www.reddit.com/r/legaladvice/comments/...  "
      ]
     },
     "execution_count": 9,
     "metadata": {},
     "output_type": "execute_result"
    }
   ],
   "source": [
    "legal.head(2)"
   ]
  },
  {
   "cell_type": "code",
   "execution_count": 10,
   "id": "d8650a22",
   "metadata": {},
   "outputs": [
    {
     "data": {
      "text/plain": [
       "(3000, 12)"
      ]
     },
     "execution_count": 10,
     "metadata": {},
     "output_type": "execute_result"
    }
   ],
   "source": [
    "legal.shape"
   ]
  },
  {
   "cell_type": "code",
   "execution_count": 11,
   "id": "715ea3f0",
   "metadata": {},
   "outputs": [
    {
     "data": {
      "text/plain": [
       "author           0\n",
       "created_utc      0\n",
       "full_link        0\n",
       "id               0\n",
       "is_video         0\n",
       "media_only       0\n",
       "num_comments     0\n",
       "retrieved_on     0\n",
       "selftext        51\n",
       "subreddit        0\n",
       "title            0\n",
       "url              0\n",
       "dtype: int64"
      ]
     },
     "execution_count": 11,
     "metadata": {},
     "output_type": "execute_result"
    }
   ],
   "source": [
    "legal.isnull().sum()"
   ]
  },
  {
   "cell_type": "code",
   "execution_count": 12,
   "id": "57cb316a",
   "metadata": {},
   "outputs": [
    {
     "data": {
      "text/plain": [
       "author          0.000\n",
       "created_utc     0.000\n",
       "full_link       0.000\n",
       "id              0.000\n",
       "is_video        0.000\n",
       "media_only      0.000\n",
       "num_comments    0.000\n",
       "retrieved_on    0.000\n",
       "selftext        0.017\n",
       "subreddit       0.000\n",
       "title           0.000\n",
       "url             0.000\n",
       "dtype: float64"
      ]
     },
     "execution_count": 12,
     "metadata": {},
     "output_type": "execute_result"
    }
   ],
   "source": [
    "legal.isnull().mean()"
   ]
  },
  {
   "cell_type": "markdown",
   "id": "3dd1ef51",
   "metadata": {},
   "source": [
    "51 out of the 3000 rows or less than 2% of my data have, have nan values. I decided to drop these since it  won't have a significant impact on my data. "
   ]
  },
  {
   "cell_type": "code",
   "execution_count": 13,
   "id": "96b5d5b2",
   "metadata": {},
   "outputs": [],
   "source": [
    "legal.dropna(inplace = True )"
   ]
  },
  {
   "cell_type": "code",
   "execution_count": 14,
   "id": "abe145fd",
   "metadata": {},
   "outputs": [
    {
     "data": {
      "text/plain": [
       "(2949, 12)"
      ]
     },
     "execution_count": 14,
     "metadata": {},
     "output_type": "execute_result"
    }
   ],
   "source": [
    "legal.shape"
   ]
  },
  {
   "cell_type": "markdown",
   "id": "d247335c",
   "metadata": {},
   "source": [
    "Let's saved this minimally cleaned legal advice dataframe for any high level EDA we may want to conduct later. "
   ]
  },
  {
   "cell_type": "code",
   "execution_count": 15,
   "id": "b5404fce",
   "metadata": {},
   "outputs": [],
   "source": [
    "legal.to_csv('./data/cleaned_legal.csv')"
   ]
  },
  {
   "cell_type": "markdown",
   "id": "93e7fc00",
   "metadata": {},
   "source": [
    "__Casual Conversations Subreddit Clean Up__"
   ]
  },
  {
   "cell_type": "markdown",
   "id": "a41a064a",
   "metadata": {},
   "source": [
    "Similar to the legal advice text data above, I  reviewed all the columns and their terms, eliminated a majority of them, and kept those displayed below including the 'title' and 'seltext'."
   ]
  },
  {
   "cell_type": "code",
   "execution_count": 16,
   "id": "9a52a372",
   "metadata": {},
   "outputs": [
    {
     "data": {
      "text/plain": [
       "Index(['all_awardings', 'allow_live_comments', 'author',\n",
       "       'author_flair_css_class', 'author_flair_richtext', 'author_flair_text',\n",
       "       'author_flair_type', 'author_fullname', 'author_is_blocked',\n",
       "       'author_patreon_flair', 'author_premium', 'awarders', 'can_mod_post',\n",
       "       'contest_mode', 'created_utc', 'domain', 'full_link', 'gildings', 'id',\n",
       "       'is_created_from_ads_ui', 'is_crosspostable', 'is_meta',\n",
       "       'is_original_content', 'is_reddit_media_domain', 'is_robot_indexable',\n",
       "       'is_self', 'is_video', 'link_flair_background_color',\n",
       "       'link_flair_richtext', 'link_flair_text_color', 'link_flair_type',\n",
       "       'locked', 'media_only', 'no_follow', 'num_comments', 'num_crossposts',\n",
       "       'over_18', 'parent_whitelist_status', 'permalink', 'pinned', 'pwls',\n",
       "       'retrieved_on', 'score', 'selftext', 'send_replies', 'spoiler',\n",
       "       'stickied', 'subreddit', 'subreddit_id', 'subreddit_subscribers',\n",
       "       'subreddit_type', 'thumbnail', 'title', 'total_awards_received',\n",
       "       'treatment_tags', 'upvote_ratio', 'url', 'whitelist_status', 'wls',\n",
       "       'link_flair_css_class', 'link_flair_text', 'removed_by_category',\n",
       "       'link_flair_template_id', 'author_flair_background_color',\n",
       "       'author_flair_template_id', 'author_flair_text_color', 'post_hint',\n",
       "       'preview', 'poll_data', 'author_cakeday', 'banned_by', 'distinguished',\n",
       "       'edited'],\n",
       "      dtype='object')"
      ]
     },
     "execution_count": 16,
     "metadata": {},
     "output_type": "execute_result"
    }
   ],
   "source": [
    "casual.columns"
   ]
  },
  {
   "cell_type": "code",
   "execution_count": 17,
   "id": "81a7ec2f",
   "metadata": {},
   "outputs": [],
   "source": [
    "casual.drop(casual.columns.difference(['author','created_utc','full_link','id', 'is_video','num_comments',\\\n",
    "                                        'retrieved_on','title', 'selftext','media_only','subreddit', 'url']), 1, inplace = True)"
   ]
  },
  {
   "cell_type": "code",
   "execution_count": 18,
   "id": "2a9832fa",
   "metadata": {},
   "outputs": [
    {
     "data": {
      "text/html": [
       "<div>\n",
       "<style scoped>\n",
       "    .dataframe tbody tr th:only-of-type {\n",
       "        vertical-align: middle;\n",
       "    }\n",
       "\n",
       "    .dataframe tbody tr th {\n",
       "        vertical-align: top;\n",
       "    }\n",
       "\n",
       "    .dataframe thead th {\n",
       "        text-align: right;\n",
       "    }\n",
       "</style>\n",
       "<table border=\"1\" class=\"dataframe\">\n",
       "  <thead>\n",
       "    <tr style=\"text-align: right;\">\n",
       "      <th></th>\n",
       "      <th>author</th>\n",
       "      <th>created_utc</th>\n",
       "      <th>full_link</th>\n",
       "      <th>id</th>\n",
       "      <th>is_video</th>\n",
       "      <th>media_only</th>\n",
       "      <th>num_comments</th>\n",
       "      <th>retrieved_on</th>\n",
       "      <th>selftext</th>\n",
       "      <th>subreddit</th>\n",
       "      <th>title</th>\n",
       "      <th>url</th>\n",
       "    </tr>\n",
       "  </thead>\n",
       "  <tbody>\n",
       "    <tr>\n",
       "      <th>0</th>\n",
       "      <td>Prawnprawn101</td>\n",
       "      <td>1629335996</td>\n",
       "      <td>https://www.reddit.com/r/CasualConversation/co...</td>\n",
       "      <td>p74sxx</td>\n",
       "      <td>False</td>\n",
       "      <td>False</td>\n",
       "      <td>0</td>\n",
       "      <td>1629336007</td>\n",
       "      <td>Someone please distract me with a story of any...</td>\n",
       "      <td>CasualConversation</td>\n",
       "      <td>Hi, someone please distract me with a story, o...</td>\n",
       "      <td>https://www.reddit.com/r/CasualConversation/co...</td>\n",
       "    </tr>\n",
       "    <tr>\n",
       "      <th>1</th>\n",
       "      <td>Fantastic-Judgment-2</td>\n",
       "      <td>1629335862</td>\n",
       "      <td>https://www.reddit.com/r/CasualConversation/co...</td>\n",
       "      <td>p74rmc</td>\n",
       "      <td>False</td>\n",
       "      <td>False</td>\n",
       "      <td>0</td>\n",
       "      <td>1629335872</td>\n",
       "      <td>You probably answered “no.” I would have, too,...</td>\n",
       "      <td>CasualConversation</td>\n",
       "      <td>Did you live a lavish lifestyle today?</td>\n",
       "      <td>https://www.reddit.com/r/CasualConversation/co...</td>\n",
       "    </tr>\n",
       "  </tbody>\n",
       "</table>\n",
       "</div>"
      ],
      "text/plain": [
       "                 author  created_utc  \\\n",
       "0         Prawnprawn101   1629335996   \n",
       "1  Fantastic-Judgment-2   1629335862   \n",
       "\n",
       "                                           full_link      id  is_video  \\\n",
       "0  https://www.reddit.com/r/CasualConversation/co...  p74sxx     False   \n",
       "1  https://www.reddit.com/r/CasualConversation/co...  p74rmc     False   \n",
       "\n",
       "   media_only  num_comments  retrieved_on  \\\n",
       "0       False             0    1629336007   \n",
       "1       False             0    1629335872   \n",
       "\n",
       "                                            selftext           subreddit  \\\n",
       "0  Someone please distract me with a story of any...  CasualConversation   \n",
       "1  You probably answered “no.” I would have, too,...  CasualConversation   \n",
       "\n",
       "                                               title  \\\n",
       "0  Hi, someone please distract me with a story, o...   \n",
       "1             Did you live a lavish lifestyle today?   \n",
       "\n",
       "                                                 url  \n",
       "0  https://www.reddit.com/r/CasualConversation/co...  \n",
       "1  https://www.reddit.com/r/CasualConversation/co...  "
      ]
     },
     "execution_count": 18,
     "metadata": {},
     "output_type": "execute_result"
    }
   ],
   "source": [
    "casual.head(2)"
   ]
  },
  {
   "cell_type": "code",
   "execution_count": 19,
   "id": "1901457d",
   "metadata": {},
   "outputs": [
    {
     "data": {
      "text/plain": [
       "(3000, 12)"
      ]
     },
     "execution_count": 19,
     "metadata": {},
     "output_type": "execute_result"
    }
   ],
   "source": [
    "casual.shape"
   ]
  },
  {
   "cell_type": "code",
   "execution_count": 20,
   "id": "30e0967d",
   "metadata": {},
   "outputs": [
    {
     "data": {
      "text/plain": [
       "author           0\n",
       "created_utc      0\n",
       "full_link        0\n",
       "id               0\n",
       "is_video         0\n",
       "media_only       0\n",
       "num_comments     0\n",
       "retrieved_on     0\n",
       "selftext        32\n",
       "subreddit        0\n",
       "title            0\n",
       "url              0\n",
       "dtype: int64"
      ]
     },
     "execution_count": 20,
     "metadata": {},
     "output_type": "execute_result"
    }
   ],
   "source": [
    "casual.isnull().sum()"
   ]
  },
  {
   "cell_type": "code",
   "execution_count": 21,
   "id": "f59cd41c",
   "metadata": {},
   "outputs": [
    {
     "data": {
      "text/plain": [
       "author          0.000000\n",
       "created_utc     0.000000\n",
       "full_link       0.000000\n",
       "id              0.000000\n",
       "is_video        0.000000\n",
       "media_only      0.000000\n",
       "num_comments    0.000000\n",
       "retrieved_on    0.000000\n",
       "selftext        0.010667\n",
       "subreddit       0.000000\n",
       "title           0.000000\n",
       "url             0.000000\n",
       "dtype: float64"
      ]
     },
     "execution_count": 21,
     "metadata": {},
     "output_type": "execute_result"
    }
   ],
   "source": [
    "casual.isnull().mean()"
   ]
  },
  {
   "cell_type": "markdown",
   "id": "eaa0352a",
   "metadata": {},
   "source": [
    "* 32 out of the 3000 or approximately 1% of the observations under the 'selftext' column, I have a nan value. I decided to drop these since it won't have a significant impact on my data analysis.  "
   ]
  },
  {
   "cell_type": "code",
   "execution_count": 22,
   "id": "a60e3eac",
   "metadata": {},
   "outputs": [],
   "source": [
    "casual.dropna(inplace = True)"
   ]
  },
  {
   "cell_type": "code",
   "execution_count": 23,
   "id": "3e462731",
   "metadata": {},
   "outputs": [
    {
     "data": {
      "text/plain": [
       "(2968, 12)"
      ]
     },
     "execution_count": 23,
     "metadata": {},
     "output_type": "execute_result"
    }
   ],
   "source": [
    "casual.shape"
   ]
  },
  {
   "cell_type": "markdown",
   "id": "f93c6e37",
   "metadata": {},
   "source": [
    "After initial cleaning these are the number of observations we are left with. "
   ]
  },
  {
   "cell_type": "code",
   "execution_count": 24,
   "id": "43ec1e1d",
   "metadata": {},
   "outputs": [
    {
     "name": "stdout",
     "output_type": "stream",
     "text": [
      "(2968, 12) (2949, 12)\n"
     ]
    }
   ],
   "source": [
    "print(casual.shape, legal.shape)"
   ]
  },
  {
   "cell_type": "markdown",
   "id": "09945bda",
   "metadata": {},
   "source": [
    "Before combining the two subreddit dataframes into one let's also save this minimally cleaned casual conversation subreddit dataframe. "
   ]
  },
  {
   "cell_type": "code",
   "execution_count": 25,
   "id": "01999087",
   "metadata": {},
   "outputs": [],
   "source": [
    "casual.to_csv('./data/cleaned_casual.csv')"
   ]
  },
  {
   "cell_type": "markdown",
   "id": "777baad9",
   "metadata": {},
   "source": [
    "__Combining of both subreddits into one dataframe for further cleaning__ "
   ]
  },
  {
   "cell_type": "code",
   "execution_count": 26,
   "id": "a1dce3d8",
   "metadata": {},
   "outputs": [],
   "source": [
    "df = pd.concat([legal, casual],copy = False)"
   ]
  },
  {
   "cell_type": "markdown",
   "id": "8aa8cd9b",
   "metadata": {},
   "source": [
    "__Resetting index once I've merged the files.__"
   ]
  },
  {
   "cell_type": "code",
   "execution_count": 27,
   "id": "af54f1e7",
   "metadata": {},
   "outputs": [],
   "source": [
    "df.reset_index(level=None, drop=False, inplace=True, col_level=0, col_fill='')"
   ]
  },
  {
   "cell_type": "code",
   "execution_count": 28,
   "id": "447789c9",
   "metadata": {},
   "outputs": [
    {
     "data": {
      "text/html": [
       "<div>\n",
       "<style scoped>\n",
       "    .dataframe tbody tr th:only-of-type {\n",
       "        vertical-align: middle;\n",
       "    }\n",
       "\n",
       "    .dataframe tbody tr th {\n",
       "        vertical-align: top;\n",
       "    }\n",
       "\n",
       "    .dataframe thead th {\n",
       "        text-align: right;\n",
       "    }\n",
       "</style>\n",
       "<table border=\"1\" class=\"dataframe\">\n",
       "  <thead>\n",
       "    <tr style=\"text-align: right;\">\n",
       "      <th></th>\n",
       "      <th>index</th>\n",
       "      <th>author</th>\n",
       "      <th>created_utc</th>\n",
       "      <th>full_link</th>\n",
       "      <th>id</th>\n",
       "      <th>is_video</th>\n",
       "      <th>media_only</th>\n",
       "      <th>num_comments</th>\n",
       "      <th>retrieved_on</th>\n",
       "      <th>selftext</th>\n",
       "      <th>subreddit</th>\n",
       "      <th>title</th>\n",
       "      <th>url</th>\n",
       "    </tr>\n",
       "  </thead>\n",
       "  <tbody>\n",
       "    <tr>\n",
       "      <th>0</th>\n",
       "      <td>0</td>\n",
       "      <td>[deleted]</td>\n",
       "      <td>1629570682</td>\n",
       "      <td>https://www.reddit.com/r/legaladvice/comments/...</td>\n",
       "      <td>p8wo32</td>\n",
       "      <td>False</td>\n",
       "      <td>False</td>\n",
       "      <td>5</td>\n",
       "      <td>1629577753</td>\n",
       "      <td>[deleted]</td>\n",
       "      <td>legaladvice</td>\n",
       "      <td>Possibly scammed from a dating app</td>\n",
       "      <td>https://www.reddit.com/r/legaladvice/comments/...</td>\n",
       "    </tr>\n",
       "    <tr>\n",
       "      <th>1</th>\n",
       "      <td>1</td>\n",
       "      <td>banksnosons</td>\n",
       "      <td>1629570605</td>\n",
       "      <td>https://www.reddit.com/r/legaladvice/comments/...</td>\n",
       "      <td>p8wn7t</td>\n",
       "      <td>False</td>\n",
       "      <td>False</td>\n",
       "      <td>3</td>\n",
       "      <td>1629577686</td>\n",
       "      <td>What can I do? My old neighbor witnessed the p...</td>\n",
       "      <td>legaladvice</td>\n",
       "      <td>Package delivered to old residence, not being ...</td>\n",
       "      <td>https://www.reddit.com/r/legaladvice/comments/...</td>\n",
       "    </tr>\n",
       "    <tr>\n",
       "      <th>2</th>\n",
       "      <td>2</td>\n",
       "      <td>Hangman_Matt</td>\n",
       "      <td>1629570478</td>\n",
       "      <td>https://www.reddit.com/r/legaladvice/comments/...</td>\n",
       "      <td>p8wlv0</td>\n",
       "      <td>False</td>\n",
       "      <td>False</td>\n",
       "      <td>12</td>\n",
       "      <td>1629577576</td>\n",
       "      <td>Does use of obscene language in school fall un...</td>\n",
       "      <td>legaladvice</td>\n",
       "      <td>First Ammendment rights and Schools</td>\n",
       "      <td>https://www.reddit.com/r/legaladvice/comments/...</td>\n",
       "    </tr>\n",
       "    <tr>\n",
       "      <th>3</th>\n",
       "      <td>3</td>\n",
       "      <td>Throwawaaaaaay526289</td>\n",
       "      <td>1629570313</td>\n",
       "      <td>https://www.reddit.com/r/legaladvice/comments/...</td>\n",
       "      <td>p8wk5r</td>\n",
       "      <td>False</td>\n",
       "      <td>False</td>\n",
       "      <td>4</td>\n",
       "      <td>1629577433</td>\n",
       "      <td>Basically what the title says. I've never been...</td>\n",
       "      <td>legaladvice</td>\n",
       "      <td>Virginia - If my employer only shows a set amo...</td>\n",
       "      <td>https://www.reddit.com/r/legaladvice/comments/...</td>\n",
       "    </tr>\n",
       "    <tr>\n",
       "      <th>4</th>\n",
       "      <td>4</td>\n",
       "      <td>unholychalice</td>\n",
       "      <td>1629570134</td>\n",
       "      <td>https://www.reddit.com/r/legaladvice/comments/...</td>\n",
       "      <td>p8wi9h</td>\n",
       "      <td>False</td>\n",
       "      <td>False</td>\n",
       "      <td>3</td>\n",
       "      <td>1629577281</td>\n",
       "      <td>Can I record with video and audio from my porc...</td>\n",
       "      <td>legaladvice</td>\n",
       "      <td>Can I record visual and audio from my front po...</td>\n",
       "      <td>https://www.reddit.com/r/legaladvice/comments/...</td>\n",
       "    </tr>\n",
       "  </tbody>\n",
       "</table>\n",
       "</div>"
      ],
      "text/plain": [
       "   index                author  created_utc  \\\n",
       "0      0             [deleted]   1629570682   \n",
       "1      1           banksnosons   1629570605   \n",
       "2      2          Hangman_Matt   1629570478   \n",
       "3      3  Throwawaaaaaay526289   1629570313   \n",
       "4      4         unholychalice   1629570134   \n",
       "\n",
       "                                           full_link      id  is_video  \\\n",
       "0  https://www.reddit.com/r/legaladvice/comments/...  p8wo32     False   \n",
       "1  https://www.reddit.com/r/legaladvice/comments/...  p8wn7t     False   \n",
       "2  https://www.reddit.com/r/legaladvice/comments/...  p8wlv0     False   \n",
       "3  https://www.reddit.com/r/legaladvice/comments/...  p8wk5r     False   \n",
       "4  https://www.reddit.com/r/legaladvice/comments/...  p8wi9h     False   \n",
       "\n",
       "   media_only  num_comments  retrieved_on  \\\n",
       "0       False             5    1629577753   \n",
       "1       False             3    1629577686   \n",
       "2       False            12    1629577576   \n",
       "3       False             4    1629577433   \n",
       "4       False             3    1629577281   \n",
       "\n",
       "                                            selftext    subreddit  \\\n",
       "0                                          [deleted]  legaladvice   \n",
       "1  What can I do? My old neighbor witnessed the p...  legaladvice   \n",
       "2  Does use of obscene language in school fall un...  legaladvice   \n",
       "3  Basically what the title says. I've never been...  legaladvice   \n",
       "4  Can I record with video and audio from my porc...  legaladvice   \n",
       "\n",
       "                                               title  \\\n",
       "0                 Possibly scammed from a dating app   \n",
       "1  Package delivered to old residence, not being ...   \n",
       "2                First Ammendment rights and Schools   \n",
       "3  Virginia - If my employer only shows a set amo...   \n",
       "4  Can I record visual and audio from my front po...   \n",
       "\n",
       "                                                 url  \n",
       "0  https://www.reddit.com/r/legaladvice/comments/...  \n",
       "1  https://www.reddit.com/r/legaladvice/comments/...  \n",
       "2  https://www.reddit.com/r/legaladvice/comments/...  \n",
       "3  https://www.reddit.com/r/legaladvice/comments/...  \n",
       "4  https://www.reddit.com/r/legaladvice/comments/...  "
      ]
     },
     "execution_count": 28,
     "metadata": {},
     "output_type": "execute_result"
    }
   ],
   "source": [
    "df.head()"
   ]
  },
  {
   "cell_type": "markdown",
   "id": "f813c110",
   "metadata": {},
   "source": [
    "[Sophie's Walkthrough](https://git.generalassemb.ly/dsir-712/home)"
   ]
  },
  {
   "cell_type": "code",
   "execution_count": 29,
   "id": "5f4624ee",
   "metadata": {},
   "outputs": [
    {
     "data": {
      "text/plain": [
       "'Can I record with video and audio from my porch in Clinton County New York? I have an OPEN balcony style porch and my neighbor doea too.  Can I record her illgal activities of her exploits from my font porch pointed down towards her first floor porch. It is in the front of a house and is clearly heard and seen from the road/sidewalk. Is it legal to record visual AND Audio in upstate ny? { not new york city... upstate new york..)'"
      ]
     },
     "execution_count": 29,
     "metadata": {},
     "output_type": "execute_result"
    }
   ],
   "source": [
    "df.at[4,'selftext']"
   ]
  },
  {
   "cell_type": "code",
   "execution_count": 30,
   "id": "21795cdd",
   "metadata": {},
   "outputs": [],
   "source": [
    "#df['word_length'] = df['selftext'].str.len()\n",
    "#df.head(2)"
   ]
  },
  {
   "cell_type": "markdown",
   "id": "0ffc00dd",
   "metadata": {},
   "source": [
    "Number of observations after we've combined the two subreddits. "
   ]
  },
  {
   "cell_type": "code",
   "execution_count": 31,
   "id": "49a2201d",
   "metadata": {},
   "outputs": [
    {
     "data": {
      "text/plain": [
       "(5917, 13)"
      ]
     },
     "execution_count": 31,
     "metadata": {},
     "output_type": "execute_result"
    }
   ],
   "source": [
    "df.shape"
   ]
  },
  {
   "cell_type": "markdown",
   "id": "5dc50f80",
   "metadata": {},
   "source": [
    "Let's drop any duplicates in our combined dataframe. "
   ]
  },
  {
   "cell_type": "code",
   "execution_count": 32,
   "id": "27b32a9f",
   "metadata": {},
   "outputs": [],
   "source": [
    "df.drop_duplicates(subset = ['selftext'],\n",
    "                  keep ='first',\n",
    "                  inplace = True)"
   ]
  },
  {
   "cell_type": "code",
   "execution_count": 33,
   "id": "de430430",
   "metadata": {},
   "outputs": [],
   "source": [
    "df.drop_duplicates(subset = ['id'],\n",
    "                  keep ='first',\n",
    "                  inplace = True)"
   ]
  },
  {
   "cell_type": "code",
   "execution_count": 34,
   "id": "ab969aab",
   "metadata": {},
   "outputs": [
    {
     "data": {
      "text/plain": [
       "(4658, 13)"
      ]
     },
     "execution_count": 34,
     "metadata": {},
     "output_type": "execute_result"
    }
   ],
   "source": [
    "df.shape"
   ]
  },
  {
   "cell_type": "code",
   "execution_count": 35,
   "id": "956f67fe",
   "metadata": {},
   "outputs": [
    {
     "data": {
      "text/plain": [
       "legaladvice           2711\n",
       "CasualConversation    1947\n",
       "Name: subreddit, dtype: int64"
      ]
     },
     "execution_count": 35,
     "metadata": {},
     "output_type": "execute_result"
    }
   ],
   "source": [
    "df.subreddit.value_counts()"
   ]
  },
  {
   "cell_type": "markdown",
   "id": "15d2f727",
   "metadata": {},
   "source": [
    "The division of posts after dropping duplicates. "
   ]
  },
  {
   "cell_type": "markdown",
   "id": "ac41383a",
   "metadata": {},
   "source": [
    "Sanity Check: check for any missing values"
   ]
  },
  {
   "cell_type": "code",
   "execution_count": 36,
   "id": "ea0fb9b9",
   "metadata": {},
   "outputs": [
    {
     "data": {
      "text/plain": [
       "index           0\n",
       "author          0\n",
       "created_utc     0\n",
       "full_link       0\n",
       "id              0\n",
       "is_video        0\n",
       "media_only      0\n",
       "num_comments    0\n",
       "retrieved_on    0\n",
       "selftext        0\n",
       "subreddit       0\n",
       "title           0\n",
       "url             0\n",
       "dtype: int64"
      ]
     },
     "execution_count": 36,
     "metadata": {},
     "output_type": "execute_result"
    }
   ],
   "source": [
    "df.isnull().sum()"
   ]
  },
  {
   "cell_type": "markdown",
   "id": "3e3f3fed",
   "metadata": {},
   "source": [
    "Included these columns initially to see if any observations were simply media or video and not text. The results show a 'False' value for all observations and this doesn't seem helpful for my analysis, so I'll be dropping these columns. "
   ]
  },
  {
   "cell_type": "code",
   "execution_count": 37,
   "id": "d4bc88ee",
   "metadata": {},
   "outputs": [
    {
     "data": {
      "text/plain": [
       "False    4658\n",
       "Name: media_only, dtype: int64"
      ]
     },
     "execution_count": 37,
     "metadata": {},
     "output_type": "execute_result"
    }
   ],
   "source": [
    "df.media_only.value_counts()"
   ]
  },
  {
   "cell_type": "code",
   "execution_count": 38,
   "id": "025f9cd1",
   "metadata": {},
   "outputs": [],
   "source": [
    "df.drop('media_only', axis =1, inplace = True)"
   ]
  },
  {
   "cell_type": "code",
   "execution_count": 39,
   "id": "8f85643d",
   "metadata": {},
   "outputs": [
    {
     "data": {
      "text/plain": [
       "False    4658\n",
       "Name: is_video, dtype: int64"
      ]
     },
     "execution_count": 39,
     "metadata": {},
     "output_type": "execute_result"
    }
   ],
   "source": [
    "df.is_video.value_counts()"
   ]
  },
  {
   "cell_type": "code",
   "execution_count": 40,
   "id": "2e4d7e22",
   "metadata": {},
   "outputs": [],
   "source": [
    "df.drop('is_video', axis =1, inplace = True)"
   ]
  },
  {
   "cell_type": "code",
   "execution_count": 41,
   "id": "0ef17e96",
   "metadata": {},
   "outputs": [
    {
     "data": {
      "text/plain": [
       "(4658, 11)"
      ]
     },
     "execution_count": 41,
     "metadata": {},
     "output_type": "execute_result"
    }
   ],
   "source": [
    "df.shape"
   ]
  },
  {
   "cell_type": "code",
   "execution_count": 42,
   "id": "c0c99a30",
   "metadata": {},
   "outputs": [
    {
     "data": {
      "text/plain": [
       "index            int64\n",
       "author          object\n",
       "created_utc      int64\n",
       "full_link       object\n",
       "id              object\n",
       "num_comments     int64\n",
       "retrieved_on     int64\n",
       "selftext        object\n",
       "subreddit       object\n",
       "title           object\n",
       "url             object\n",
       "dtype: object"
      ]
     },
     "execution_count": 42,
     "metadata": {},
     "output_type": "execute_result"
    }
   ],
   "source": [
    "df.dtypes"
   ]
  },
  {
   "cell_type": "markdown",
   "id": "27b7c6b8",
   "metadata": {},
   "source": [
    "I've decided to merge the 'title' and 'selftext' columns together into one column called 'posts' "
   ]
  },
  {
   "cell_type": "code",
   "execution_count": 43,
   "id": "db6f7e01",
   "metadata": {},
   "outputs": [],
   "source": [
    "df['posts'] =df.title + '.' +df.selftext"
   ]
  },
  {
   "cell_type": "code",
   "execution_count": 44,
   "id": "9e349640",
   "metadata": {},
   "outputs": [
    {
     "data": {
      "text/html": [
       "<div>\n",
       "<style scoped>\n",
       "    .dataframe tbody tr th:only-of-type {\n",
       "        vertical-align: middle;\n",
       "    }\n",
       "\n",
       "    .dataframe tbody tr th {\n",
       "        vertical-align: top;\n",
       "    }\n",
       "\n",
       "    .dataframe thead th {\n",
       "        text-align: right;\n",
       "    }\n",
       "</style>\n",
       "<table border=\"1\" class=\"dataframe\">\n",
       "  <thead>\n",
       "    <tr style=\"text-align: right;\">\n",
       "      <th></th>\n",
       "      <th>index</th>\n",
       "      <th>author</th>\n",
       "      <th>created_utc</th>\n",
       "      <th>full_link</th>\n",
       "      <th>id</th>\n",
       "      <th>num_comments</th>\n",
       "      <th>retrieved_on</th>\n",
       "      <th>selftext</th>\n",
       "      <th>subreddit</th>\n",
       "      <th>title</th>\n",
       "      <th>url</th>\n",
       "      <th>posts</th>\n",
       "    </tr>\n",
       "  </thead>\n",
       "  <tbody>\n",
       "    <tr>\n",
       "      <th>0</th>\n",
       "      <td>0</td>\n",
       "      <td>[deleted]</td>\n",
       "      <td>1629570682</td>\n",
       "      <td>https://www.reddit.com/r/legaladvice/comments/...</td>\n",
       "      <td>p8wo32</td>\n",
       "      <td>5</td>\n",
       "      <td>1629577753</td>\n",
       "      <td>[deleted]</td>\n",
       "      <td>legaladvice</td>\n",
       "      <td>Possibly scammed from a dating app</td>\n",
       "      <td>https://www.reddit.com/r/legaladvice/comments/...</td>\n",
       "      <td>Possibly scammed from a dating app.[deleted]</td>\n",
       "    </tr>\n",
       "    <tr>\n",
       "      <th>1</th>\n",
       "      <td>1</td>\n",
       "      <td>banksnosons</td>\n",
       "      <td>1629570605</td>\n",
       "      <td>https://www.reddit.com/r/legaladvice/comments/...</td>\n",
       "      <td>p8wn7t</td>\n",
       "      <td>3</td>\n",
       "      <td>1629577686</td>\n",
       "      <td>What can I do? My old neighbor witnessed the p...</td>\n",
       "      <td>legaladvice</td>\n",
       "      <td>Package delivered to old residence, not being ...</td>\n",
       "      <td>https://www.reddit.com/r/legaladvice/comments/...</td>\n",
       "      <td>Package delivered to old residence, not being ...</td>\n",
       "    </tr>\n",
       "  </tbody>\n",
       "</table>\n",
       "</div>"
      ],
      "text/plain": [
       "   index       author  created_utc  \\\n",
       "0      0    [deleted]   1629570682   \n",
       "1      1  banksnosons   1629570605   \n",
       "\n",
       "                                           full_link      id  num_comments  \\\n",
       "0  https://www.reddit.com/r/legaladvice/comments/...  p8wo32             5   \n",
       "1  https://www.reddit.com/r/legaladvice/comments/...  p8wn7t             3   \n",
       "\n",
       "   retrieved_on                                           selftext  \\\n",
       "0    1629577753                                          [deleted]   \n",
       "1    1629577686  What can I do? My old neighbor witnessed the p...   \n",
       "\n",
       "     subreddit                                              title  \\\n",
       "0  legaladvice                 Possibly scammed from a dating app   \n",
       "1  legaladvice  Package delivered to old residence, not being ...   \n",
       "\n",
       "                                                 url  \\\n",
       "0  https://www.reddit.com/r/legaladvice/comments/...   \n",
       "1  https://www.reddit.com/r/legaladvice/comments/...   \n",
       "\n",
       "                                               posts  \n",
       "0       Possibly scammed from a dating app.[deleted]  \n",
       "1  Package delivered to old residence, not being ...  "
      ]
     },
     "execution_count": 44,
     "metadata": {},
     "output_type": "execute_result"
    }
   ],
   "source": [
    "df.head(2)"
   ]
  },
  {
   "cell_type": "code",
   "execution_count": 45,
   "id": "ac47b11a",
   "metadata": {},
   "outputs": [
    {
     "data": {
      "text/plain": [
       "'Possibly scammed from a dating app.[deleted]'"
      ]
     },
     "execution_count": 45,
     "metadata": {},
     "output_type": "execute_result"
    }
   ],
   "source": [
    "df.at[0,'posts']"
   ]
  },
  {
   "cell_type": "markdown",
   "id": "706778f3",
   "metadata": {},
   "source": [
    "Adding a column to quantify the number of words after I've combined them into one post column. "
   ]
  },
  {
   "cell_type": "code",
   "execution_count": 46,
   "id": "15eb6b3e",
   "metadata": {},
   "outputs": [
    {
     "data": {
      "text/html": [
       "<div>\n",
       "<style scoped>\n",
       "    .dataframe tbody tr th:only-of-type {\n",
       "        vertical-align: middle;\n",
       "    }\n",
       "\n",
       "    .dataframe tbody tr th {\n",
       "        vertical-align: top;\n",
       "    }\n",
       "\n",
       "    .dataframe thead th {\n",
       "        text-align: right;\n",
       "    }\n",
       "</style>\n",
       "<table border=\"1\" class=\"dataframe\">\n",
       "  <thead>\n",
       "    <tr style=\"text-align: right;\">\n",
       "      <th></th>\n",
       "      <th>index</th>\n",
       "      <th>author</th>\n",
       "      <th>created_utc</th>\n",
       "      <th>full_link</th>\n",
       "      <th>id</th>\n",
       "      <th>num_comments</th>\n",
       "      <th>retrieved_on</th>\n",
       "      <th>selftext</th>\n",
       "      <th>subreddit</th>\n",
       "      <th>title</th>\n",
       "      <th>url</th>\n",
       "      <th>posts</th>\n",
       "      <th>word_count</th>\n",
       "    </tr>\n",
       "  </thead>\n",
       "  <tbody>\n",
       "    <tr>\n",
       "      <th>0</th>\n",
       "      <td>0</td>\n",
       "      <td>[deleted]</td>\n",
       "      <td>1629570682</td>\n",
       "      <td>https://www.reddit.com/r/legaladvice/comments/...</td>\n",
       "      <td>p8wo32</td>\n",
       "      <td>5</td>\n",
       "      <td>1629577753</td>\n",
       "      <td>[deleted]</td>\n",
       "      <td>legaladvice</td>\n",
       "      <td>Possibly scammed from a dating app</td>\n",
       "      <td>https://www.reddit.com/r/legaladvice/comments/...</td>\n",
       "      <td>Possibly scammed from a dating app.[deleted]</td>\n",
       "      <td>6</td>\n",
       "    </tr>\n",
       "    <tr>\n",
       "      <th>1</th>\n",
       "      <td>1</td>\n",
       "      <td>banksnosons</td>\n",
       "      <td>1629570605</td>\n",
       "      <td>https://www.reddit.com/r/legaladvice/comments/...</td>\n",
       "      <td>p8wn7t</td>\n",
       "      <td>3</td>\n",
       "      <td>1629577686</td>\n",
       "      <td>What can I do? My old neighbor witnessed the p...</td>\n",
       "      <td>legaladvice</td>\n",
       "      <td>Package delivered to old residence, not being ...</td>\n",
       "      <td>https://www.reddit.com/r/legaladvice/comments/...</td>\n",
       "      <td>Package delivered to old residence, not being ...</td>\n",
       "      <td>70</td>\n",
       "    </tr>\n",
       "  </tbody>\n",
       "</table>\n",
       "</div>"
      ],
      "text/plain": [
       "   index       author  created_utc  \\\n",
       "0      0    [deleted]   1629570682   \n",
       "1      1  banksnosons   1629570605   \n",
       "\n",
       "                                           full_link      id  num_comments  \\\n",
       "0  https://www.reddit.com/r/legaladvice/comments/...  p8wo32             5   \n",
       "1  https://www.reddit.com/r/legaladvice/comments/...  p8wn7t             3   \n",
       "\n",
       "   retrieved_on                                           selftext  \\\n",
       "0    1629577753                                          [deleted]   \n",
       "1    1629577686  What can I do? My old neighbor witnessed the p...   \n",
       "\n",
       "     subreddit                                              title  \\\n",
       "0  legaladvice                 Possibly scammed from a dating app   \n",
       "1  legaladvice  Package delivered to old residence, not being ...   \n",
       "\n",
       "                                                 url  \\\n",
       "0  https://www.reddit.com/r/legaladvice/comments/...   \n",
       "1  https://www.reddit.com/r/legaladvice/comments/...   \n",
       "\n",
       "                                               posts  word_count  \n",
       "0       Possibly scammed from a dating app.[deleted]           6  \n",
       "1  Package delivered to old residence, not being ...          70  "
      ]
     },
     "execution_count": 46,
     "metadata": {},
     "output_type": "execute_result"
    }
   ],
   "source": [
    "df['word_count'] = df['posts'].str.count(' ') +1 \n",
    "df.head(2)"
   ]
  },
  {
   "cell_type": "markdown",
   "id": "a57076c6",
   "metadata": {},
   "source": [
    "Decided to drop any posts with less than 10 words. "
   ]
  },
  {
   "cell_type": "code",
   "execution_count": 47,
   "id": "707d1c74",
   "metadata": {},
   "outputs": [
    {
     "data": {
      "text/plain": [
       "12"
      ]
     },
     "execution_count": 47,
     "metadata": {},
     "output_type": "execute_result"
    }
   ],
   "source": [
    "(df['word_count']<10).sum()"
   ]
  },
  {
   "cell_type": "code",
   "execution_count": 48,
   "id": "941c0e66",
   "metadata": {},
   "outputs": [],
   "source": [
    "df = df[df['word_count']>10]"
   ]
  },
  {
   "cell_type": "code",
   "execution_count": 49,
   "id": "d2f75494",
   "metadata": {},
   "outputs": [
    {
     "data": {
      "text/plain": [
       "(4642, 13)"
      ]
     },
     "execution_count": 49,
     "metadata": {},
     "output_type": "execute_result"
    }
   ],
   "source": [
    "df.shape"
   ]
  },
  {
   "cell_type": "markdown",
   "id": "3fdbc603",
   "metadata": {},
   "source": [
    "I noticed that some of the selftext columns contain deleted or removed posts, decided this wouldn't be useful to my analysis and as such will drop them accordingly."
   ]
  },
  {
   "cell_type": "code",
   "execution_count": 50,
   "id": "004e971a",
   "metadata": {},
   "outputs": [
    {
     "data": {
      "text/plain": [
       "<pandas.core.strings.accessor.StringMethods at 0x11b9c3b20>"
      ]
     },
     "execution_count": 50,
     "metadata": {},
     "output_type": "execute_result"
    }
   ],
   "source": [
    "df['posts'].str"
   ]
  },
  {
   "cell_type": "code",
   "execution_count": 51,
   "id": "9829a8d7",
   "metadata": {},
   "outputs": [],
   "source": [
    "df.selftext.replace({'[removed]': np.nan,\n",
    "                  '[deleted]': np.nan}, inplace = True)"
   ]
  },
  {
   "cell_type": "code",
   "execution_count": 52,
   "id": "7fc3837e",
   "metadata": {},
   "outputs": [
    {
     "data": {
      "text/plain": [
       "(4642, 13)"
      ]
     },
     "execution_count": 52,
     "metadata": {},
     "output_type": "execute_result"
    }
   ],
   "source": [
    "df.shape"
   ]
  },
  {
   "cell_type": "markdown",
   "id": "48f2ab24",
   "metadata": {},
   "source": [
    "Observations after the dropping of these columns. "
   ]
  },
  {
   "cell_type": "markdown",
   "id": "8e25cc8f",
   "metadata": {},
   "source": [
    "__Cleaning up characters__"
   ]
  },
  {
   "cell_type": "markdown",
   "id": "ea694a0a",
   "metadata": {},
   "source": [
    "Text data contains quite a bit of noise in the form or characters, symbols, and punctuations. The steps below aim to clean some of these up and reduce the noise in the hopes of having clean enough text data to analyze. "
   ]
  },
  {
   "cell_type": "code",
   "execution_count": 53,
   "id": "e440274e",
   "metadata": {},
   "outputs": [],
   "source": [
    "df['posts'] = [t.replace('\\n', '').replace('\\\\n', '').replace('[\\(\\[].!*?[\\)\\]]', '').replace('%', '').replace(' \\\\', ' ')\n",
    "              for t in df.posts]"
   ]
  },
  {
   "cell_type": "code",
   "execution_count": 54,
   "id": "641c1802",
   "metadata": {},
   "outputs": [],
   "source": [
    "df['posts'] = [t.replace('/\\\\', ' ').replace(':-)', ' ').replace('tdb> ', ' ')\n",
    "              for t in df.posts]"
   ]
  },
  {
   "cell_type": "code",
   "execution_count": 55,
   "id": "e35a89d7",
   "metadata": {},
   "outputs": [],
   "source": [
    "df['posts'] = [t.replace('=', ' ').replace('--', ' ').replace('_', ' ').replace('-', ' ')\n",
    "              .replace('}', ' ').replace('*', ' ').replace('^', ' ')\\\n",
    "              .replace('~', ' ').replace(')', ' ')\n",
    "              for t in df.posts]"
   ]
  },
  {
   "cell_type": "code",
   "execution_count": 56,
   "id": "6c5e543b",
   "metadata": {},
   "outputs": [],
   "source": [
    "df['posts'] = [t.replace('- < > -', ' ').replace('|', ' ').replace('*-', ' ').replace(' *', ' ').replace(':', ' ') \n",
    "              for t in df.posts]"
   ]
  },
  {
   "cell_type": "code",
   "execution_count": 57,
   "id": "666b58b8",
   "metadata": {},
   "outputs": [],
   "source": [
    "df['posts'] = [t.replace('...', ' ').replace('\\t', ' ').lower().strip().replace('\\ ', ' ')\n",
    "              for t in df.posts]"
   ]
  },
  {
   "cell_type": "code",
   "execution_count": 58,
   "id": "7883039e",
   "metadata": {},
   "outputs": [],
   "source": [
    "df['posts'] = [t.replace('emoji', ' ').replace('!!.', ' ')\n",
    "              for t in df.posts]"
   ]
  },
  {
   "cell_type": "code",
   "execution_count": 59,
   "id": "ca373e01",
   "metadata": {},
   "outputs": [
    {
     "data": {
      "text/plain": [
       "'first ammendment rights and schools.does use of obscene language in school fall under freedom of speech?in the current law of the usa, it states that schools have the right to limit student expression like forms of speech such as obscene, disruptive, or lewd language. i want to know if you could sue a school for suppressing speech for the sole reason of it containing words that could be seen as obscene. and if so, is there a definition of obscene or disruptive and who defines it?for example, if a student expressed an opinion but used a swear in it, like \"this class is fucking boring\" and was subsequently asked not to swear and given a detention for swearing, could the child\\'s guardian sue the school for suppressing his opinion? if the child/guardian believed the child was being targeted by the school for said opinion and not the swearing, would that hold up or would the court rule in favor of the school for punishing swearing?edit  this if for my own curiosity not real legal advise.edit 2  massachusettsedit 3  i should clarify, the student is in a situation they can speak freely, not being disruptive to the teacher. this means in hallways, giving a presentation, or a time when the teacher is allowing free discussion among students.'"
      ]
     },
     "execution_count": 59,
     "metadata": {},
     "output_type": "execute_result"
    }
   ],
   "source": [
    "df.at[2,'posts']"
   ]
  },
  {
   "cell_type": "markdown",
   "id": "ca809dbf",
   "metadata": {},
   "source": [
    "__Binarize the target features which is the subreddit type__"
   ]
  },
  {
   "cell_type": "code",
   "execution_count": 60,
   "id": "ef64bfd1",
   "metadata": {},
   "outputs": [],
   "source": [
    "df['subreddit']= df.subreddit.map({'legaladvice':1, 'CasualConversation':0})"
   ]
  },
  {
   "cell_type": "code",
   "execution_count": 61,
   "id": "828183b8",
   "metadata": {},
   "outputs": [
    {
     "data": {
      "text/plain": [
       "1    0.583154\n",
       "0    0.416846\n",
       "Name: subreddit, dtype: float64"
      ]
     },
     "execution_count": 61,
     "metadata": {},
     "output_type": "execute_result"
    }
   ],
   "source": [
    "df.subreddit.value_counts(normalize = True)"
   ]
  },
  {
   "cell_type": "markdown",
   "id": "149f6d6e",
   "metadata": {},
   "source": [
    "The allocation of subbredit types. After cleaning, 58% of our posts belong to the legal advice subreddit. "
   ]
  },
  {
   "cell_type": "code",
   "execution_count": 62,
   "id": "aa0e72bd",
   "metadata": {},
   "outputs": [
    {
     "data": {
      "text/plain": [
       "index            int64\n",
       "author          object\n",
       "created_utc      int64\n",
       "full_link       object\n",
       "id              object\n",
       "num_comments     int64\n",
       "retrieved_on     int64\n",
       "selftext        object\n",
       "subreddit        int64\n",
       "title           object\n",
       "url             object\n",
       "posts           object\n",
       "word_count       int64\n",
       "dtype: object"
      ]
     },
     "execution_count": 62,
     "metadata": {},
     "output_type": "execute_result"
    }
   ],
   "source": [
    "df.dtypes"
   ]
  },
  {
   "cell_type": "code",
   "execution_count": 63,
   "id": "767efdb6",
   "metadata": {},
   "outputs": [],
   "source": [
    "#commented out to make sure all other cells above run w/o errors. \n",
    "#df.to_csv('./data/cleaned_reddit.csv')"
   ]
  }
 ],
 "metadata": {
  "kernelspec": {
   "display_name": "Python 3",
   "language": "python",
   "name": "python3"
  },
  "language_info": {
   "codemirror_mode": {
    "name": "ipython",
    "version": 3
   },
   "file_extension": ".py",
   "mimetype": "text/x-python",
   "name": "python",
   "nbconvert_exporter": "python",
   "pygments_lexer": "ipython3",
   "version": "3.8.8"
  }
 },
 "nbformat": 4,
 "nbformat_minor": 5
}
